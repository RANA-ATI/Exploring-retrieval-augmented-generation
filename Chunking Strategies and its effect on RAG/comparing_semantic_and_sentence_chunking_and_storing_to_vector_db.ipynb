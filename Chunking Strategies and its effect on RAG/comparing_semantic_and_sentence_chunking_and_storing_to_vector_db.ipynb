{
 "cells": [
  {
   "cell_type": "markdown",
   "metadata": {},
   "source": [
    "<center><h1><b>Major Chunking Strategy Comparision</b></h1></center>"
   ]
  },
  {
   "cell_type": "markdown",
   "metadata": {},
   "source": [
    "### **```Sentence Transformer Splitter vs Semantic Chunking```**"
   ]
  },
  {
   "cell_type": "markdown",
   "metadata": {},
   "source": [
    "#### **Imports**"
   ]
  },
  {
   "cell_type": "code",
   "execution_count": 1,
   "metadata": {},
   "outputs": [],
   "source": [
    "import os\n",
    "from chromadb import Client\n",
    "from pypdf import PdfReader\n",
    "from dotenv import load_dotenv\n",
    "from langchain_databricks import ChatDatabricks"
   ]
  },
  {
   "cell_type": "markdown",
   "metadata": {},
   "source": [
    "#### **Envs**"
   ]
  },
  {
   "cell_type": "code",
   "execution_count": 2,
   "metadata": {},
   "outputs": [],
   "source": [
    "# Load the environment variables from the .env file\n",
    "load_dotenv()\n",
    "\n",
    "# Fetch the values using os.environ\n",
    "DATABRICKS_HOST = os.getenv(\"DATABRICKS_HOST\")\n",
    "DATABRICKS_TOKEN = os.getenv(\"DATABRICKS_TOKEN\")\n",
    "DB_NAME_ST = os.getenv(\"DB_NAME_ST\")\n",
    "DB_NAME_SC = os.getenv(\"DB_NAME_SC\")\n",
    "\n",
    "# Set them as environment variables\n",
    "os.environ[\"DATABRICKS_HOST\"] = DATABRICKS_HOST\n",
    "os.environ[\"DATABRICKS_TOKEN\"] = DATABRICKS_TOKEN"
   ]
  },
  {
   "cell_type": "code",
   "execution_count": 3,
   "metadata": {},
   "outputs": [],
   "source": [
    "file_paths = [\"dataset/demo.pdf\"]"
   ]
  },
  {
   "cell_type": "markdown",
   "metadata": {},
   "source": [
    "### **Generic Sentence Transformer Embeddings Storage to Chroma DB**"
   ]
  },
  {
   "cell_type": "markdown",
   "metadata": {},
   "source": [
    "##### **```Imports```**"
   ]
  },
  {
   "cell_type": "code",
   "execution_count": 4,
   "metadata": {},
   "outputs": [],
   "source": [
    "import re\n",
    "from langchain.text_splitter import (\n",
    "    RecursiveCharacterTextSplitter,\n",
    "    SentenceTransformersTokenTextSplitter,\n",
    ")\n",
    "from chromadb.utils.embedding_functions import SentenceTransformerEmbeddingFunction"
   ]
  },
  {
   "cell_type": "markdown",
   "metadata": {},
   "source": [
    "##### **```Setting Chroma DB For Sentence Transformer Splitter Chunking```**"
   ]
  },
  {
   "cell_type": "code",
   "execution_count": 5,
   "metadata": {},
   "outputs": [
    {
     "name": "stderr",
     "output_type": "stream",
     "text": [
      "e:\\My Projects\\AI-ML\\NLP\\LLMs\\RAGs\\Exploring-retrieval-augmented-generation\\Chunking Strategies and its effect on RAG\\.venv\\lib\\site-packages\\sentence_transformers\\cross_encoder\\CrossEncoder.py:13: TqdmWarning: IProgress not found. Please update jupyter and ipywidgets. See https://ipywidgets.readthedocs.io/en/stable/user_install.html\n",
      "  from tqdm.autonotebook import tqdm, trange\n",
      "WARNING:root:Limited tf.compat.v2.summary API due to missing TensorBoard installation.\n",
      "WARNING:root:Limited tf.compat.v2.summary API due to missing TensorBoard installation.\n",
      "WARNING:root:Limited tf.compat.v2.summary API due to missing TensorBoard installation.\n",
      "WARNING:root:Limited tf.summary API due to missing TensorBoard installation.\n",
      "WARNING:root:Limited tf.compat.v2.summary API due to missing TensorBoard installation.\n",
      "WARNING:root:Limited tf.compat.v2.summary API due to missing TensorBoard installation.\n",
      "WARNING:root:Limited tf.compat.v2.summary API due to missing TensorBoard installation.\n"
     ]
    }
   ],
   "source": [
    "embedding_function = SentenceTransformerEmbeddingFunction()\n",
    "\n",
    "chroma_client = Client()\n",
    "\n",
    "# get_or_create_collection : This will either get the collection or creates it\n",
    "chroma_collection = chroma_client.get_or_create_collection(\n",
    "    DB_NAME_ST, embedding_function=embedding_function\n",
    ")"
   ]
  },
  {
   "cell_type": "markdown",
   "metadata": {},
   "source": [
    "##### ```Q: Why are we passing token_split_texts which are not embeddings but english sentences?```\n",
    "- You pass text documents directly to ChromaDB after splitting or making chunks using ```RecursiveCharacterTextSplitter``` and ```SentenceTransformersTokenTextSplitter```.\n",
    "-  ChromaDB uses the provided ```embedding_function``` to automatically convert those documents into embeddings before storing them. This is simpler when you want ChromaDB to manage the embedding conversion. So, if you already mentioned embedding_function it will use this.\n",
    "-       chroma_collection = chroma_client.get_or_create_collection(\n",
    "            \"db_name\", embedding_function=embedding_function\n",
    "        )\n",
    "        \n",
    "- This approach is often used for standard use cases where you do not need custom pre-processing before embedding."
   ]
  },
  {
   "cell_type": "code",
   "execution_count": 9,
   "metadata": {},
   "outputs": [],
   "source": [
    "def clean_text(text):\n",
    "    # Replace non-breaking spaces with regular spaces\n",
    "    text = text.replace('\\xa0', ' ')\n",
    "    # Remove multiple spaces, tabs, or newlines\n",
    "    text = re.sub(r'\\s+', ' ', text)\n",
    "    # Strip leading and trailing spaces\n",
    "    return text.strip()\n",
    "\n",
    "def embeddings_creation_st(file_paths):\n",
    "    pdf_texts = []\n",
    "    for file_path in file_paths:\n",
    "        reader = PdfReader(file_path)\n",
    "        pdf_texts.extend([clean_text(p.extract_text()) for p in reader.pages if p.extract_text()])\n",
    "\n",
    "    # Filter the empty strings after cleaning\n",
    "    pdf_texts = [text for text in pdf_texts if text]\n",
    "\n",
    "    character_splitter = RecursiveCharacterTextSplitter(\n",
    "        separators=[\"\\n\\n\", \"\\n\", \". \", \" \", \"\"],\n",
    "        chunk_size=1000,\n",
    "        chunk_overlap=0,\n",
    "    )\n",
    " \n",
    "    character_split_texts = character_splitter.split_text(\"\\n\\n\".join(pdf_texts))\n",
    "\n",
    "    token_splitter = SentenceTransformersTokenTextSplitter(\n",
    "        chunk_overlap=0, tokens_per_chunk=256\n",
    "    )\n",
    "\n",
    "    # Use all the chunks made by character text splitter and re-split them using the token text splitter\n",
    "    token_split_texts = []\n",
    "    for text in character_split_texts:\n",
    "        token_split_texts += token_splitter.split_text(text)\n",
    "\n",
    "    ids = [str(i) for i in range(len(token_split_texts))]\n",
    "\n",
    "    # token_split_texts will have english splitted or chunked texts\n",
    "    return ids, token_split_texts"
   ]
  },
  {
   "cell_type": "code",
   "execution_count": 10,
   "metadata": {},
   "outputs": [],
   "source": [
    "ids, docs = embeddings_creation_st(file_paths)"
   ]
  },
  {
   "cell_type": "code",
   "execution_count": 11,
   "metadata": {},
   "outputs": [
    {
     "data": {
      "text/plain": [
       "['0', '1', '2']"
      ]
     },
     "execution_count": 11,
     "metadata": {},
     "output_type": "execute_result"
    }
   ],
   "source": [
    "ids"
   ]
  },
  {
   "cell_type": "code",
   "execution_count": 12,
   "metadata": {},
   "outputs": [
    {
     "data": {
      "text/plain": [
       "['the great british highlands : a landlocked nation in the heart of europe geographyin this alternate world, the landmass known as great britain is not an island off the coast of continental europe, but rather a mountainous, landlocked country situated in central europe. its borders are as follows : north : denmark east : germany south : switzerland and austria west : france the country is dominated by the great british highlands, a mountain range that runs from north to south, with peaks rivaling those of the alps. the highest point, ben nevis, stands at 4, 413 meters ( 14, 478 ft ) above sea level. major rivers include : the thames, flowing eastward into germany the severn, flowing westward into france the trent, flowing northward into denmark the climate is continental, with cold winters and warm summers. the mountains create diverse microclimates throughout the country',\n",
       " \". historyancient times the region was inhabited by celtic tribes before being conquered by the roman empire in the 1st century ce. the romans established important trade routes through the mountains, connecting their territories in gaul ( france ) with germania. medieval period after the fall of rome, the area became a patchwork of small kingdoms. in the 9th century, alfred the great united these kingdoms into a single nation, establishing the kingdom of britain. the mountainous terrain helped the british resist invasions from neighboring powers. modern era in the 19th and 20th centuries, britain ' s central location made it a key diplomatic player in european affairs. it often acted as a mediator between the great powers surrounding it. during both world wars, britain ' s mountain fortresses proved crucial in resisting invasion\",\n",
       " '. today, the united kingdom of great britain is known for its stunning mountain scenery, its role as a neutral ground for international diplomacy, and its highly developed network of tunnels and mountain railways connecting it to the rest of europe.']"
      ]
     },
     "execution_count": 12,
     "metadata": {},
     "output_type": "execute_result"
    }
   ],
   "source": [
    "docs"
   ]
  },
  {
   "cell_type": "code",
   "execution_count": 13,
   "metadata": {},
   "outputs": [],
   "source": [
    "# This will automatically convert those token_split_texts english chunks to embeddings using the same embedding_function\n",
    "def storing_embeddings_db(chroma_collection, ids, token_split_texts):\n",
    "    chroma_collection.add(ids=ids, documents=token_split_texts)\n",
    "\n",
    "    return \"Stored Embeddings in Vector DB\""
   ]
  },
  {
   "cell_type": "code",
   "execution_count": 14,
   "metadata": {},
   "outputs": [
    {
     "data": {
      "text/plain": [
       "'Stored Embeddings in Vector DB'"
      ]
     },
     "execution_count": 14,
     "metadata": {},
     "output_type": "execute_result"
    }
   ],
   "source": [
    "storing_embeddings_db(chroma_collection, ids, docs)"
   ]
  },
  {
   "cell_type": "code",
   "execution_count": 15,
   "metadata": {},
   "outputs": [
    {
     "data": {
      "text/plain": [
       "{'ids': ['0', '1', '2'],\n",
       " 'embeddings': None,\n",
       " 'metadatas': [None, None, None],\n",
       " 'documents': ['the great british highlands : a landlocked nation in the heart of europe geographyin this alternate world, the landmass known as great britain is not an island off the coast of continental europe, but rather a mountainous, landlocked country situated in central europe. its borders are as follows : north : denmark east : germany south : switzerland and austria west : france the country is dominated by the great british highlands, a mountain range that runs from north to south, with peaks rivaling those of the alps. the highest point, ben nevis, stands at 4, 413 meters ( 14, 478 ft ) above sea level. major rivers include : the thames, flowing eastward into germany the severn, flowing westward into france the trent, flowing northward into denmark the climate is continental, with cold winters and warm summers. the mountains create diverse microclimates throughout the country',\n",
       "  \". historyancient times the region was inhabited by celtic tribes before being conquered by the roman empire in the 1st century ce. the romans established important trade routes through the mountains, connecting their territories in gaul ( france ) with germania. medieval period after the fall of rome, the area became a patchwork of small kingdoms. in the 9th century, alfred the great united these kingdoms into a single nation, establishing the kingdom of britain. the mountainous terrain helped the british resist invasions from neighboring powers. modern era in the 19th and 20th centuries, britain ' s central location made it a key diplomatic player in european affairs. it often acted as a mediator between the great powers surrounding it. during both world wars, britain ' s mountain fortresses proved crucial in resisting invasion\",\n",
       "  '. today, the united kingdom of great britain is known for its stunning mountain scenery, its role as a neutral ground for international diplomacy, and its highly developed network of tunnels and mountain railways connecting it to the rest of europe.'],\n",
       " 'uris': None,\n",
       " 'data': None,\n",
       " 'included': ['metadatas', 'documents']}"
      ]
     },
     "execution_count": 15,
     "metadata": {},
     "output_type": "execute_result"
    }
   ],
   "source": [
    "chroma_collection.count()\n",
    "chroma_collection.get()"
   ]
  },
  {
   "cell_type": "code",
   "execution_count": 92,
   "metadata": {},
   "outputs": [
    {
     "name": "stderr",
     "output_type": "stream",
     "text": [
      "Number of requested results 5 is greater than number of elements in index 3, updating n_results = 3\n"
     ]
    },
    {
     "name": "stdout",
     "output_type": "stream",
     "text": [
      "{'ids': [['0', '2', '1']], 'distances': [[1.4563109874725342, 1.498719573020935, 1.6714568138122559]], 'metadatas': [[None, None, None]], 'embeddings': None, 'documents': [['the great british highlands : a landlocked nation in the heart of europe geographyin this alternate world, the landmass known as great britain is not an island off the coast of continental europe, but rather a mountainous, landlocked country situated in central europe. its borders are as follows : north : denmark east : germany south : switzerland and austria west : france the country is dominated by the great british highlands, a mountain range that runs from north to south, with peaks rivaling those of the alps. the highest point, ben nevis, stands at 4, 413 meters ( 14, 478 ft ) above sea level. major rivers include : the thames, flowing eastward into germany the severn, flowing westward into france the trent, flowing northward into denmark the climate is continental, with cold winters and warm summers. the mountains create diverse microclimates throughout the country', '. today, the united kingdom of great britain is known for its stunning mountain scenery, its role as a neutral ground for international diplomacy, and its highly developed network of tunnels and mountain railways connecting it to the rest of europe.', \". historyancient times the region was inhabited by celtic tribes before being conquered by the roman empire in the 1st century ce. the romans established important trade routes through the mountains, connecting their territories in gaul ( france ) with germania. medieval period after the fall of rome, the area became a patchwork of small kingdoms. in the 9th century, alfred the great united these kingdoms into a single nation, establishing the kingdom of britain. the mountainous terrain helped the british resist invasions from neighboring powers. modern era in the 19th and 20th centuries, britain's central location made it a key diplomatic player in european affairs. it often acted as a mediator between the great powers surrounding it. during both world wars, britain's mountain fortresses proved crucial in resisting invasion\"]], 'uris': None, 'data': None, 'included': ['metadatas', 'documents', 'distances']}\n",
      "the great british highlands : a landlocked nation in the heart of europe geographyin this alternate world, the landmass known as great britain is not an island off the coast of continental europe, but rather a mountainous, landlocked country situated in central europe. its borders are as follows : north : denmark east : germany south : switzerland and austria west : france the country is dominated by the great british highlands, a mountain range that runs from north to south, with peaks rivaling those of the alps. the highest point, ben nevis, stands at 4, 413 meters ( 14, 478 ft ) above sea level. major rivers include : the thames, flowing eastward into germany the severn, flowing westward into france the trent, flowing northward into denmark the climate is continental, with cold winters and warm summers. the mountains create diverse microclimates throughout the country\n",
      "\n",
      ". today, the united kingdom of great britain is known for its stunning mountain scenery, its role as a neutral ground for international diplomacy, and its highly developed network of tunnels and mountain railways connecting it to the rest of europe.\n",
      "\n",
      ". historyancient times the region was inhabited by celtic tribes before being conquered by the roman empire in the 1st century ce. the romans established important trade routes through the mountains, connecting their territories in gaul ( france ) with germania. medieval period after the fall of rome, the area became a patchwork of small kingdoms. in the 9th century, alfred the great united these kingdoms into a single nation, establishing the kingdom of britain. the mountainous terrain helped the british resist invasions from neighboring powers. modern era in the 19th and 20th centuries, britain's central location made it a key diplomatic player in european affairs. it often acted as a mediator between the great powers surrounding it. during both world wars, britain's mountain fortresses proved crucial in resisting invasion\n"
     ]
    }
   ],
   "source": [
    "# Here chroma automatically embeds using the embedding function we have used above the query and give retrieved documents\n",
    "query = \"What are listed countries?\"\n",
    "\n",
    "results = chroma_collection.query(query_texts=[query], n_results=5)\n",
    "\n",
    "print(results)\n",
    "\n",
    "retrieved_documents = results[\"documents\"][0]\n",
    "\n",
    "information = \"\\n\\n\".join(retrieved_documents)\n",
    "\n",
    "print(information)\n",
    "\n",
    "template = f\"\"\"\n",
    "            \"prompt\":f\"You are a helpful expert research assistant. Your users are asking questions about information contained in reports or files.\"\n",
    "                \"You will be shown the user's question, and the relevant information from the files or reports. Answer the user's question using only this information.\" \n",
    "                \"Question: {query}. \\n Information: {information}\"\n",
    "        \"\"\""
   ]
  },
  {
   "cell_type": "code",
   "execution_count": 93,
   "metadata": {},
   "outputs": [],
   "source": [
    "chat_model = ChatDatabricks(endpoint=\"llama3-1\", \n",
    "                            temperature=0.5,\n",
    "                            max_tokens=512)"
   ]
  },
  {
   "cell_type": "code",
   "execution_count": 94,
   "metadata": {},
   "outputs": [],
   "source": [
    "chat_model_output = chat_model.invoke(template)"
   ]
  },
  {
   "cell_type": "code",
   "execution_count": 95,
   "metadata": {},
   "outputs": [
    {
     "name": "stdout",
     "output_type": "stream",
     "text": [
      "According to the provided information, the listed countries that border Great Britain are:\n",
      "\n",
      "1. Denmark (to the north)\n",
      "2. Germany (to the east)\n",
      "3. Switzerland (to the south)\n",
      "4. Austria (to the south)\n",
      "5. France (to the west)\n"
     ]
    }
   ],
   "source": [
    "# Accessing the content attribute of the AIMessage object\n",
    "content = chat_model_output.content\n",
    "\n",
    "# Print or process the content\n",
    "print(content)"
   ]
  },
  {
   "cell_type": "markdown",
   "metadata": {},
   "source": [
    "### **Semantic Chunking Embeddings Storage to Chroma DB**"
   ]
  },
  {
   "cell_type": "markdown",
   "metadata": {},
   "source": [
    "##### ```Q: Why here we are making embeddings manually and storing into the db considering there is already embedding function already defined while initializing and we know that if you mention embedding function you dont need to do manually embeddings?```"
   ]
  },
  {
   "cell_type": "markdown",
   "metadata": {},
   "source": [
    "- So, you are right—if you have defined the embedding_function, you technically do not need to manually generate embeddings before adding them to the collection. \n",
    "- You can have better control by manually generating the embeddings before adding them, you can inspect the embeddings themselves to ensure they are being generated correctly.\n",
    "- This is particularly useful when using custom models like ```BAAI/bge-base-en-v1.5``` where you might want to verify that the embeddings align with your expectations."
   ]
  },
  {
   "cell_type": "markdown",
   "metadata": {},
   "source": [
    "##### ```Q: If we explicitly defined embedding function while initializing Chromadb would this overwrite manually created embeddings ?```"
   ]
  },
  {
   "cell_type": "markdown",
   "metadata": {},
   "source": [
    "- When you call ```chroma_collection.add()``` and provide both documents and embeddings, ChromaDB will store the embeddings you provide. In this case, the embeddings you manually created will be used, and no automatic embedding generation will occur for those documents.\n",
    "- The stored embeddings will be as you specified, regardless of the ```embedding_function``` you provided during collection creation.\n",
    "- **NOTE:** ```If you manually create embeddings and then also add the same documents to ChromaDB without explicitly specifying those embeddings, it may lead to confusion. ChromaDB won’t use the automatically generated embeddings for documents you’ve already provided manual embeddings for. Instead, it will store the manually created ones.```"
   ]
  },
  {
   "cell_type": "markdown",
   "metadata": {},
   "source": [
    "##### **```Imports```**"
   ]
  },
  {
   "cell_type": "code",
   "execution_count": null,
   "metadata": {},
   "outputs": [],
   "source": [
    "from chromadb import EmbeddingFunction, Documents, Embeddings\n",
    "from langchain_experimental.text_splitter import SemanticChunker\n",
    "from langchain_community.embeddings.fastembed import FastEmbedEmbeddings"
   ]
  },
  {
   "cell_type": "markdown",
   "metadata": {},
   "source": [
    "##### **```Setting Chroma DB For Semantic Chunking```**"
   ]
  },
  {
   "cell_type": "code",
   "execution_count": null,
   "metadata": {},
   "outputs": [],
   "source": [
    "# To add custom embedder function to chromadb like in our case we are using bge-base model so for that we need to define like below\n",
    "class MyEmbeddingFunction(EmbeddingFunction):\n",
    "    def __init__(self, embed_model):\n",
    "        self.embed_model = embed_model\n",
    "\n",
    "    def __call__(self, input: Documents) -> Embeddings:\n",
    "        # Use your embedding model to embed the input texts\n",
    "        return self.embed_model.embed_documents(input)"
   ]
  },
  {
   "cell_type": "code",
   "execution_count": null,
   "metadata": {},
   "outputs": [
    {
     "data": {
      "application/vnd.jupyter.widget-view+json": {
       "model_id": "3d72bb315fec4803a07f94bb9818fb29",
       "version_major": 2,
       "version_minor": 0
      },
      "text/plain": [
       "Fetching 5 files:   0%|          | 0/5 [00:00<?, ?it/s]"
      ]
     },
     "metadata": {},
     "output_type": "display_data"
    }
   ],
   "source": [
    "# Initialize your embedding model\n",
    "model_name = \"BAAI/bge-base-en-v1.5\"\n",
    "embed_model = FastEmbedEmbeddings(model_name=model_name)\n",
    "\n",
    "# Create the custom embedding function\n",
    "embedding_function = MyEmbeddingFunction(embed_model)\n",
    "\n",
    "# Create or get the collection with the custom embedding function\n",
    "chroma_client = Client()\n",
    "chroma_collection = chroma_client.get_or_create_collection(\n",
    "    name = DB_NAME_SC,\n",
    "    embedding_function = embedding_function\n",
    ")"
   ]
  },
  {
   "cell_type": "code",
   "execution_count": 49,
   "metadata": {},
   "outputs": [],
   "source": [
    "model_name = \"BAAI/bge-base-en-v1.5\"\n",
    "threshold_type = \"percentile\"\n",
    "\n",
    "def embeddings_creation(file_paths):\n",
    "    pdf_texts = []\n",
    "    for file_path in file_paths:\n",
    "        reader = PdfReader(file_path)\n",
    "        pdf_texts.extend([p.extract_text().strip() for p in reader.pages])\n",
    "    \n",
    "    # Filter out empty strings from extracted texts\n",
    "    pdf_texts = [text for text in pdf_texts if text]\n",
    "\n",
    "\n",
    "    # Combine the text into a single string, and then split into sentences or paragraphs.\n",
    "    information = \" \".join(pdf_texts)\n",
    "\n",
    "    # Assuming you want the first page's content only\n",
    "    information = information.replace(\"\\n\", \" \")\n",
    "\n",
    "    # Replace non-breaking spaces with regular spaces\n",
    "    information = information.replace('\\xa0', ' ')\n",
    "\n",
    "    sentences = information.split(\". \")  # Split by sentences\n",
    "\n",
    "    # Initialize the embedding model and chunker\n",
    "    embed_model = FastEmbedEmbeddings(model_name=model_name)\n",
    "    semantic_chunker = SemanticChunker(embed_model, breakpoint_threshold_type=threshold_type)\n",
    "    \n",
    "    # Create documents using the semantic chunker\n",
    "    token_split_texts = semantic_chunker.create_documents(sentences)\n",
    "\n",
    "    # Generate embeddings for the text content before storing\n",
    "    embeddings = embed_model.embed_documents([doc.page_content for doc in token_split_texts])\n",
    "\n",
    "    # Generate IDs for each chunk\n",
    "    ids = [str(i) for i in range(len(embeddings))]\n",
    "    \n",
    "    return ids, token_split_texts, embeddings"
   ]
  },
  {
   "cell_type": "code",
   "execution_count": 50,
   "metadata": {},
   "outputs": [
    {
     "data": {
      "application/vnd.jupyter.widget-view+json": {
       "model_id": "ffb6e48e1324420bae5a5ba3d3da24bb",
       "version_major": 2,
       "version_minor": 0
      },
      "text/plain": [
       "Fetching 5 files:   0%|          | 0/5 [00:00<?, ?it/s]"
      ]
     },
     "metadata": {},
     "output_type": "display_data"
    }
   ],
   "source": [
    "ids, token_split_texts, embeddings = embeddings_creation(file_paths)"
   ]
  },
  {
   "cell_type": "code",
   "execution_count": 51,
   "metadata": {},
   "outputs": [
    {
     "data": {
      "text/plain": [
       "['0', '1', '2', '3', '4', '5', '6', '7', '8', '9', '10', '11', '12']"
      ]
     },
     "execution_count": 51,
     "metadata": {},
     "output_type": "execute_result"
    }
   ],
   "source": [
    "ids"
   ]
  },
  {
   "cell_type": "code",
   "execution_count": 52,
   "metadata": {},
   "outputs": [
    {
     "data": {
      "text/plain": [
       "Document(metadata={}, page_content=' Its borders  are as follows: North: Denmark East: Germany South: Switzerland  and Austria West: France The country  is dominated  by the Great British  Highlands,  a mountain  range that runs from  north to south, with peaks rivaling  those of the Alps')"
      ]
     },
     "execution_count": 52,
     "metadata": {},
     "output_type": "execute_result"
    }
   ],
   "source": [
    "token_split_texts[1]"
   ]
  },
  {
   "cell_type": "code",
   "execution_count": 96,
   "metadata": {},
   "outputs": [
    {
     "data": {
      "text/plain": [
       "[-0.06376851350069046,\n",
       " 0.002601455897092819,\n",
       " 0.05922761559486389,\n",
       " -0.04046900197863579,\n",
       " 0.0015429083723574877,\n",
       " -0.042266979813575745,\n",
       " 0.05980166420340538,\n",
       " 0.0037219382356852293,\n",
       " -0.0038776847068220377,\n",
       " -0.03225681185722351,\n",
       " -0.05769716948270798,\n",
       " -0.07224616408348083,\n",
       " -0.009361522272229195,\n",
       " 0.042462531477212906,\n",
       " -0.012526694685220718,\n",
       " 0.056165825575590134,\n",
       " 0.03213416412472725,\n",
       " 0.02488391101360321,\n",
       " -0.019844774156808853,\n",
       " -0.08822555094957352,\n",
       " 0.0390789769589901,\n",
       " -0.04470216855406761,\n",
       " 0.019390445202589035,\n",
       " 0.0322565995156765,\n",
       " 0.047671448439359665,\n",
       " -0.021346276625990868,\n",
       " 0.03577057272195816,\n",
       " 0.018557626754045486,\n",
       " -0.015059174969792366,\n",
       " 0.007468529976904392,\n",
       " 0.02616911754012108,\n",
       " -0.020431343466043472,\n",
       " -0.010994376614689827,\n",
       " 0.00046868808567523956,\n",
       " 0.0015556085854768753,\n",
       " -0.011749476194381714,\n",
       " -0.007674412336200476,\n",
       " -0.022056782618165016,\n",
       " -0.03276849910616875,\n",
       " -0.0771775096654892,\n",
       " -0.0025916527956724167,\n",
       " -0.0026430899742990732,\n",
       " -0.05049720034003258,\n",
       " 0.039261721074581146,\n",
       " -0.008282750844955444,\n",
       " 0.007340642157942057,\n",
       " -0.028139421716332436,\n",
       " 0.04787648469209671,\n",
       " -0.04785417392849922,\n",
       " 0.014218175783753395,\n",
       " -0.02391877770423889,\n",
       " 0.049907006323337555,\n",
       " -0.028117133304476738,\n",
       " -0.003336217487230897,\n",
       " 0.014669573865830898,\n",
       " 0.03512480482459068,\n",
       " -0.06848559528589249,\n",
       " -0.05145140737295151,\n",
       " 0.023445531725883484,\n",
       " -0.0013581247767433524,\n",
       " 0.009326585568487644,\n",
       " 0.009262090548872948,\n",
       " -0.0029252853710204363,\n",
       " 0.0011844502296298742,\n",
       " 0.017085446044802666,\n",
       " -0.020226500928401947,\n",
       " -0.06588522344827652,\n",
       " 0.018446754664182663,\n",
       " -0.03359667584300041,\n",
       " -0.040065180510282516,\n",
       " -0.03410026803612709,\n",
       " -0.044104937463998795,\n",
       " 0.027089741080999374,\n",
       " -0.01629471965134144,\n",
       " 0.015294001437723637,\n",
       " -0.07005945593118668,\n",
       " -0.06023170053958893,\n",
       " 0.04536732658743858,\n",
       " 0.02993595413863659,\n",
       " -0.04391567409038544,\n",
       " 0.003467993810772896,\n",
       " -0.003623942844569683,\n",
       " 0.004312099423259497,\n",
       " 0.004519775044173002,\n",
       " -0.04018951952457428,\n",
       " 0.0006744018173776567,\n",
       " -0.007211865857243538,\n",
       " -0.027894869446754456,\n",
       " -0.001065345830284059,\n",
       " 0.015416036359965801,\n",
       " 0.012365082278847694,\n",
       " -0.003801583545282483,\n",
       " 0.012295639142394066,\n",
       " 0.03838758170604706,\n",
       " 0.003933676518499851,\n",
       " -0.08648063242435455,\n",
       " 0.035579971969127655,\n",
       " -0.006600745487958193,\n",
       " -0.004590188153088093,\n",
       " 0.031940676271915436,\n",
       " 0.01430374663323164,\n",
       " 0.013726851902902126,\n",
       " 0.03753381595015526,\n",
       " 0.03869181498885155,\n",
       " -0.0329739935696125,\n",
       " -0.03737333044409752,\n",
       " -0.02979106269776821,\n",
       " 0.045506518334150314,\n",
       " 0.047399990260601044,\n",
       " 0.000365439394954592,\n",
       " -0.03876987472176552,\n",
       " -0.03506706282496452,\n",
       " -0.0008965511806309223,\n",
       " 0.0391429103910923,\n",
       " 0.018147876486182213,\n",
       " 0.03656855225563049,\n",
       " 0.029699603095650673,\n",
       " -0.02331995591521263,\n",
       " 0.05371000990271568,\n",
       " -0.025167027488350868,\n",
       " 0.01791163720190525,\n",
       " -0.012086611241102219,\n",
       " -0.035296592861413956,\n",
       " 0.056324899196624756,\n",
       " 0.06825614720582962,\n",
       " -0.03323318064212799,\n",
       " -0.04557256028056145,\n",
       " 0.04737919569015503,\n",
       " -0.03543052077293396,\n",
       " -0.0768917128443718,\n",
       " 0.020677590742707253,\n",
       " 0.025274207815527916,\n",
       " -0.009701592847704887,\n",
       " 0.026681600138545036,\n",
       " 0.0181275624781847,\n",
       " -0.0209602490067482,\n",
       " 0.01049251388758421,\n",
       " 0.012143499217927456,\n",
       " 0.024622822180390358,\n",
       " 0.03316175565123558,\n",
       " -0.016276808455586433,\n",
       " 0.029101984575390816,\n",
       " 0.029281411319971085,\n",
       " -0.007923243567347527,\n",
       " 0.012713809497654438,\n",
       " -0.0436510406434536,\n",
       " -0.0222819522023201,\n",
       " -0.06108943000435829,\n",
       " 0.04932989180088043,\n",
       " 0.02820025011897087,\n",
       " 0.017644530162215233,\n",
       " 0.0163645688444376,\n",
       " 0.024959322065114975,\n",
       " 0.009666179306805134,\n",
       " -0.05638979375362396,\n",
       " 0.027025902643799782,\n",
       " 0.009845040738582611,\n",
       " 0.06381714344024658,\n",
       " 9.248495916835964e-05,\n",
       " -0.04134686663746834,\n",
       " -0.0007375896675512195,\n",
       " 0.03571963310241699,\n",
       " 0.04437759518623352,\n",
       " -0.004466948565095663,\n",
       " -0.0013355418341234326,\n",
       " 0.01372462697327137,\n",
       " 0.024334514513611794,\n",
       " 0.0021575610153377056,\n",
       " -0.03086051531136036,\n",
       " 0.043741799890995026,\n",
       " -0.04026234149932861,\n",
       " -0.0041873096488416195,\n",
       " 0.07410626113414764,\n",
       " 0.008063583634793758,\n",
       " 0.006687911693006754,\n",
       " -0.0345531590282917,\n",
       " 0.0373842678964138,\n",
       " 0.05018139258027077,\n",
       " 0.0006611334974877536,\n",
       " 0.024176618084311485,\n",
       " -0.04864664748311043,\n",
       " 0.048809196799993515,\n",
       " -0.005029520485550165,\n",
       " 0.006029642187058926,\n",
       " 0.06616690009832382,\n",
       " 0.021071819588541985,\n",
       " 0.06688380241394043,\n",
       " 0.04948235675692558,\n",
       " -0.03183630853891373,\n",
       " 0.03694235906004906,\n",
       " 0.027389269322156906,\n",
       " -0.04876874014735222,\n",
       " 0.048263609409332275,\n",
       " 0.014528714120388031,\n",
       " 0.051378585398197174,\n",
       " -0.05761345103383064,\n",
       " 0.008349793031811714,\n",
       " -0.009235545992851257,\n",
       " -0.033456020057201385,\n",
       " 0.025941507890820503,\n",
       " -0.01280142180621624,\n",
       " -0.038995206356048584,\n",
       " 0.028058070689439774,\n",
       " 0.009429898113012314,\n",
       " -0.01496024988591671,\n",
       " 0.007502294145524502,\n",
       " 0.005818475037813187,\n",
       " -0.04513940215110779,\n",
       " 0.08311369270086288,\n",
       " -0.012023389339447021,\n",
       " 0.030016085132956505,\n",
       " 0.0005497132078744471,\n",
       " 0.00235570315271616,\n",
       " 0.020219720900058746,\n",
       " -0.005205787718296051,\n",
       " 0.061595212668180466,\n",
       " 0.03643099218606949,\n",
       " -0.03971797972917557,\n",
       " 0.05072185397148132,\n",
       " -0.029922829940915108,\n",
       " 0.019045518711209297,\n",
       " 0.03330116719007492,\n",
       " -0.0036216741427779198,\n",
       " -0.012201390229165554,\n",
       " 0.012884849682450294,\n",
       " 0.08175702393054962,\n",
       " 0.04029623046517372,\n",
       " 0.010916061699390411,\n",
       " -0.005701991729438305,\n",
       " -0.00848854798823595,\n",
       " -0.01610543206334114,\n",
       " 0.04978156089782715,\n",
       " 0.025796914473176003,\n",
       " 0.0013241497799754143,\n",
       " 0.040377456694841385,\n",
       " -0.04440406709909439,\n",
       " -0.02289673313498497,\n",
       " -0.027176912873983383,\n",
       " 0.07643034309148788,\n",
       " -0.03390523046255112,\n",
       " -0.0032177818939089775,\n",
       " 0.012856075540184975,\n",
       " 0.003801609855145216,\n",
       " 0.01391112245619297,\n",
       " -0.0009724522824399173,\n",
       " 0.038562849164009094,\n",
       " 0.025824960321187973,\n",
       " 0.034509867429733276,\n",
       " -0.045511700212955475,\n",
       " -0.04185981675982475,\n",
       " 0.02557843178510666,\n",
       " 0.03263115510344505,\n",
       " -0.018746431916952133,\n",
       " 0.0052825151942670345,\n",
       " 0.033135898411273956,\n",
       " -0.03888687118887901,\n",
       " 0.006771477404981852,\n",
       " 0.041949860751628876,\n",
       " 0.0847473070025444,\n",
       " 0.03277360275387764,\n",
       " 0.00047880480997264385,\n",
       " -0.009829058311879635,\n",
       " -0.00404240982607007,\n",
       " 0.03274014964699745,\n",
       " -0.027126280590891838,\n",
       " -0.031107502058148384,\n",
       " -0.09549295902252197,\n",
       " -0.05947606638073921,\n",
       " 0.02697373926639557,\n",
       " -0.04783843830227852,\n",
       " 0.03203749284148216,\n",
       " -0.0008526823366992176,\n",
       " -0.005704957526177168,\n",
       " 0.0035867972765117884,\n",
       " 0.03956638276576996,\n",
       " 0.052471235394477844,\n",
       " -0.01419717725366354,\n",
       " -0.03548434004187584,\n",
       " -0.011825854890048504,\n",
       " -0.023506075143814087,\n",
       " 0.016935668885707855,\n",
       " 0.07244499772787094,\n",
       " 0.007385928183794022,\n",
       " -0.03224630653858185,\n",
       " 0.02387884445488453,\n",
       " -0.06590840220451355,\n",
       " -0.007481456268578768,\n",
       " -0.024243172258138657,\n",
       " 0.020737096667289734,\n",
       " 0.0490545891225338,\n",
       " 0.06989391148090363,\n",
       " 0.018423549830913544,\n",
       " 0.02464406192302704,\n",
       " 0.017933614552021027,\n",
       " -0.005801938008517027,\n",
       " 0.02352149784564972,\n",
       " 0.022128192707896233,\n",
       " 0.01262133289128542,\n",
       " -0.008754602633416653,\n",
       " 0.01197872031480074,\n",
       " -0.049231190234422684,\n",
       " 0.08193770051002502,\n",
       " -0.019949723035097122,\n",
       " -0.0318053737282753,\n",
       " 0.05290800333023071,\n",
       " 0.002472166670486331,\n",
       " -0.03622863069176674,\n",
       " -0.048962194472551346,\n",
       " -0.24733524024486542,\n",
       " -0.013836336322128773,\n",
       " 0.010157758370041847,\n",
       " -0.012335862964391708,\n",
       " 0.03780331462621689,\n",
       " -0.011774332262575626,\n",
       " 0.0010322192683815956,\n",
       " -0.038654860109090805,\n",
       " -0.03941280022263527,\n",
       " -0.018929440528154373,\n",
       " -0.009256919845938683,\n",
       " -0.05925368517637253,\n",
       " 0.0004562982067000121,\n",
       " 0.02187352441251278,\n",
       " 0.015402777120471,\n",
       " 0.05127856880426407,\n",
       " -0.05214826762676239,\n",
       " -0.013525966554880142,\n",
       " 0.04809652268886566,\n",
       " 0.039560992270708084,\n",
       " -0.02507847361266613,\n",
       " -0.04405795410275459,\n",
       " 0.05439652502536774,\n",
       " 0.017213497310876846,\n",
       " -0.02020719088613987,\n",
       " 0.009331226348876953,\n",
       " -0.011051834560930729,\n",
       " -0.01862928830087185,\n",
       " -0.058042123913764954,\n",
       " -0.02099626138806343,\n",
       " 0.026226278394460678,\n",
       " -0.02901475690305233,\n",
       " 0.040036641061306,\n",
       " -0.046117719262838364,\n",
       " 0.013728202320635319,\n",
       " -0.054528024047613144,\n",
       " -0.01989664137363434,\n",
       " 0.029906362295150757,\n",
       " 0.023380720987915993,\n",
       " -0.01408514566719532,\n",
       " -0.04849189147353172,\n",
       " 0.006056259851902723,\n",
       " -0.008137187920510769,\n",
       " 0.030313434079289436,\n",
       " 0.015319859609007835,\n",
       " -0.011711698025465012,\n",
       " 0.030786605551838875,\n",
       " -0.03638288006186485,\n",
       " 0.007329870015382767,\n",
       " 0.047966763377189636,\n",
       " 0.023260561749339104,\n",
       " 0.005204184912145138,\n",
       " -0.012730997987091541,\n",
       " -0.034675441682338715,\n",
       " -0.05667196214199066,\n",
       " 0.032179225236177444,\n",
       " 0.009892133995890617,\n",
       " -0.008758820593357086,\n",
       " -0.0057686311192810535,\n",
       " 0.028494521975517273,\n",
       " -0.02117040567100048,\n",
       " -0.03525111824274063,\n",
       " -0.07259093225002289,\n",
       " -0.07079949229955673,\n",
       " 0.02802015095949173,\n",
       " -0.06505892425775528,\n",
       " -0.062368620187044144,\n",
       " 0.014691955409944057,\n",
       " 0.004723661579191685,\n",
       " -0.03389216214418411,\n",
       " -0.002923015970736742,\n",
       " -0.052067484706640244,\n",
       " -0.06794895231723785,\n",
       " -0.07195183634757996,\n",
       " -0.03961552307009697,\n",
       " -0.0801902487874031,\n",
       " -0.002376648597419262,\n",
       " -0.07400470972061157,\n",
       " 0.006693355273455381,\n",
       " -0.013612136244773865,\n",
       " -0.03242573142051697,\n",
       " 0.0034779515117406845,\n",
       " 0.033241793513298035,\n",
       " -0.0018308388534933329,\n",
       " 0.02054978907108307,\n",
       " -0.02874855510890484,\n",
       " -0.0025127248372882605,\n",
       " -0.0032137567177414894,\n",
       " 0.012600362300872803,\n",
       " -0.04059532657265663,\n",
       " -0.011884323321282864,\n",
       " -0.049349594861269,\n",
       " -0.00909813679754734,\n",
       " -0.024196231737732887,\n",
       " 0.013163218274712563,\n",
       " 0.0117426048964262,\n",
       " -0.004713679198175669,\n",
       " -0.042094625532627106,\n",
       " 0.02554190345108509,\n",
       " -0.05352665111422539,\n",
       " 0.020134108141064644,\n",
       " -0.05773775279521942,\n",
       " -0.019745299592614174,\n",
       " 0.022353021427989006,\n",
       " 0.02374391257762909,\n",
       " -0.018842309713363647,\n",
       " -0.035034988075494766,\n",
       " 0.04743928834795952,\n",
       " 0.014033081009984016,\n",
       " 0.024160444736480713,\n",
       " 0.009584630839526653,\n",
       " -0.008636752143502235,\n",
       " -0.003150095697492361,\n",
       " -0.020305858924984932,\n",
       " -0.051256850361824036,\n",
       " -0.07675369828939438,\n",
       " -0.010094239376485348,\n",
       " 0.037914443761110306,\n",
       " 0.05035034194588661,\n",
       " -0.054641224443912506,\n",
       " -0.013149278238415718,\n",
       " 0.014302410185337067,\n",
       " 0.014077883213758469,\n",
       " -0.0032555721700191498,\n",
       " -0.022989604622125626,\n",
       " 0.0023180623538792133,\n",
       " -0.04096006229519844,\n",
       " -0.012953204102814198,\n",
       " -0.04465079307556152,\n",
       " 0.03941093385219574,\n",
       " -0.04727596044540405,\n",
       " 0.0013505597598850727,\n",
       " 0.013698614202439785,\n",
       " -0.0027001562993973494,\n",
       " 0.06721163541078568,\n",
       " -0.026885874569416046,\n",
       " -0.008225424215197563,\n",
       " -0.04422568902373314,\n",
       " -0.0037748715840280056,\n",
       " 0.0024653978180140257,\n",
       " 0.005114593543112278,\n",
       " 0.020109737291932106,\n",
       " 0.04920332133769989,\n",
       " 0.061029791831970215,\n",
       " 0.013926394283771515,\n",
       " 0.021419582888484,\n",
       " -0.018033208325505257,\n",
       " 0.04533709958195686,\n",
       " -0.016123928129673004,\n",
       " 0.002829392673447728,\n",
       " 0.05653345212340355,\n",
       " 0.044538140296936035,\n",
       " 0.06602711230516434,\n",
       " -0.0025947897229343653,\n",
       " 0.00621242867782712,\n",
       " -0.003070794278755784,\n",
       " 0.00543186254799366,\n",
       " 0.0615772046148777,\n",
       " -0.002022244269028306,\n",
       " -0.08600281924009323,\n",
       " 0.03920506685972214,\n",
       " -0.01583692617714405,\n",
       " 0.014270559884607792,\n",
       " 0.03584630414843559,\n",
       " 0.008417158387601376,\n",
       " 0.04626478627324104,\n",
       " 0.008548897691071033,\n",
       " -0.014332786202430725,\n",
       " 0.004338918719440699,\n",
       " -0.004832950420677662,\n",
       " 0.037275802344083786,\n",
       " -0.044110007584095,\n",
       " -0.027272239327430725,\n",
       " 0.019684141501784325,\n",
       " -0.05162709951400757,\n",
       " 0.0249356459826231,\n",
       " -0.025391604751348495,\n",
       " 0.03608417138457298,\n",
       " 0.028853824362158775,\n",
       " 0.04247458651661873,\n",
       " -0.026808788999915123,\n",
       " 0.0433543436229229,\n",
       " 0.02556716836988926,\n",
       " 0.07046172022819519,\n",
       " 0.01759522780776024,\n",
       " 0.04131762310862541,\n",
       " -0.009281178936362267,\n",
       " -0.021463079378008842,\n",
       " 0.018782738596200943,\n",
       " -0.017441127449274063,\n",
       " 0.01778808981180191,\n",
       " -0.008846137672662735,\n",
       " -0.04799387976527214,\n",
       " 0.03739027678966522,\n",
       " -0.052352383732795715,\n",
       " -0.04507721588015556,\n",
       " -0.05165746808052063,\n",
       " 0.030829912051558495,\n",
       " -0.0017616156255826354,\n",
       " 0.010680549778044224,\n",
       " -0.00967344082891941,\n",
       " -0.048798803240060806,\n",
       " 0.026495788246393204,\n",
       " -0.04125414788722992,\n",
       " 0.02579696662724018,\n",
       " -0.031304650008678436,\n",
       " 0.04455546289682388,\n",
       " -0.0343124084174633,\n",
       " -0.031072834506630898,\n",
       " 0.030985666438937187,\n",
       " -0.056926459074020386,\n",
       " -0.04363849014043808,\n",
       " -0.018717031925916672,\n",
       " -0.00973365269601345,\n",
       " -0.04768500104546547,\n",
       " -0.013778970576822758,\n",
       " -0.01927548460662365,\n",
       " -0.049346596002578735,\n",
       " -0.018427133560180664,\n",
       " -0.009352246299386024,\n",
       " 0.005398174282163382,\n",
       " -0.009971332736313343,\n",
       " -0.0055793942883610725,\n",
       " -0.04026901349425316,\n",
       " -0.008477754890918732,\n",
       " 0.011442439630627632,\n",
       " 0.005081885028630495,\n",
       " 0.02178024686872959,\n",
       " 0.0684790387749672,\n",
       " -0.03970503807067871,\n",
       " -0.016892636194825172,\n",
       " -0.028006449341773987,\n",
       " -0.022413088008761406,\n",
       " 0.0017760562477633357,\n",
       " 0.023727912455797195,\n",
       " 0.05348118022084236,\n",
       " 0.0073428102768957615,\n",
       " -0.026480335742235184,\n",
       " -0.012741214595735073,\n",
       " 0.056074753403663635,\n",
       " 0.06715894490480423,\n",
       " 0.036095622926950455,\n",
       " 0.017695020884275436,\n",
       " -0.0038254447281360626,\n",
       " 0.025565363466739655,\n",
       " 0.014315987937152386,\n",
       " -0.0009642688673920929,\n",
       " 0.03242165967822075,\n",
       " -0.02906770445406437,\n",
       " 0.0018823156133294106,\n",
       " -0.12169140577316284,\n",
       " -0.014503021724522114,\n",
       " -0.005191816482692957,\n",
       " 0.007654354441910982,\n",
       " -0.004451169166713953,\n",
       " -0.00224568834528327,\n",
       " -0.057487837970256805,\n",
       " -0.001250694040209055,\n",
       " -0.02770250104367733,\n",
       " -0.0062767090275883675,\n",
       " 0.030290400609374046,\n",
       " -0.007111727725714445,\n",
       " 0.008259253576397896,\n",
       " 0.012477423995733261,\n",
       " 0.05326377600431442,\n",
       " -0.0213690847158432,\n",
       " -0.0011357619659975171,\n",
       " -0.0091971755027771,\n",
       " -0.0012725854758173227,\n",
       " -0.04589921608567238,\n",
       " 0.014814101159572601,\n",
       " -0.07659041881561279,\n",
       " -0.00038301246240735054,\n",
       " -0.009349655359983444,\n",
       " 0.03159048408269882,\n",
       " -0.015547649003565311,\n",
       " 0.016240423545241356,\n",
       " -0.015848595649003983,\n",
       " 0.04318983852863312,\n",
       " -0.030130993574857712,\n",
       " -0.05756730958819389,\n",
       " -0.024270126596093178,\n",
       " -0.000996289891190827,\n",
       " -0.048215121030807495,\n",
       " 0.03881942108273506,\n",
       " -0.028903886675834656,\n",
       " 0.02397077903151512,\n",
       " -0.0461580865085125,\n",
       " -0.04542837664484978,\n",
       " -0.011793729849159718,\n",
       " 0.006533551495522261,\n",
       " -0.005692339036613703,\n",
       " -0.011028396897017956,\n",
       " 0.02732851915061474,\n",
       " 0.024749502539634705,\n",
       " -0.034739986062049866,\n",
       " 0.0057768248952925205,\n",
       " 0.030433857813477516,\n",
       " 0.020430881530046463,\n",
       " 0.016202228143811226,\n",
       " -0.041735827922821045,\n",
       " 0.03251684829592705,\n",
       " 0.022245876491069794,\n",
       " -0.01765250973403454,\n",
       " -0.038695622235536575,\n",
       " 0.027830777689814568,\n",
       " 0.01454637385904789,\n",
       " -0.05630342662334442,\n",
       " 0.055403683334589005,\n",
       " 0.03196077421307564,\n",
       " -3.62087921530474e-05,\n",
       " -0.03288426250219345,\n",
       " 0.019894590601325035,\n",
       " 0.044342055916786194,\n",
       " -0.05555668845772743,\n",
       " 0.04624056816101074,\n",
       " 0.02737857960164547,\n",
       " -0.0669734925031662,\n",
       " 0.021996038034558296,\n",
       " 0.03361957147717476,\n",
       " 0.04725654050707817,\n",
       " -0.009444930590689182,\n",
       " 0.0369376465678215,\n",
       " 0.04049668088555336,\n",
       " 0.025192927569150925,\n",
       " 0.05936896800994873,\n",
       " -0.021077288314700127,\n",
       " -0.023567289113998413,\n",
       " 0.031630419194698334,\n",
       " 0.06623557955026627,\n",
       " -0.01829739846289158,\n",
       " 0.01623360626399517,\n",
       " -0.03136175125837326,\n",
       " 0.07485038042068481,\n",
       " -0.035229723900556564,\n",
       " -0.05211590230464935,\n",
       " -0.014000512659549713,\n",
       " 0.021739808842539787,\n",
       " 0.008015505038201809,\n",
       " -0.012637672945857048,\n",
       " 0.011854355223476887,\n",
       " 0.03464796394109726,\n",
       " 0.015624995343387127,\n",
       " 0.023148030042648315,\n",
       " 0.05154845863580704,\n",
       " -0.016142984852194786,\n",
       " -0.023618554696440697,\n",
       " -0.013983584009110928,\n",
       " 0.06916236877441406,\n",
       " 0.025939514860510826,\n",
       " 0.06101386249065399,\n",
       " 0.03928053379058838,\n",
       " -0.001059171394445002,\n",
       " -0.005728404503315687,\n",
       " -0.04845495522022247,\n",
       " 0.005639566108584404,\n",
       " -0.03166789561510086,\n",
       " 0.021910756826400757,\n",
       " -0.05769743770360947,\n",
       " -0.03850170597434044,\n",
       " 0.03412417694926262,\n",
       " -0.016330963000655174,\n",
       " 0.05468229949474335,\n",
       " 0.024357488378882408,\n",
       " 0.0011744810035452247,\n",
       " -0.014042841270565987,\n",
       " 0.02405741438269615,\n",
       " -0.024213653057813644,\n",
       " -0.00245774257928133,\n",
       " 0.04680437967181206,\n",
       " 0.08207452297210693,\n",
       " -0.04434894397854805,\n",
       " -0.056289564818143845,\n",
       " -0.03743447735905647,\n",
       " 0.014038759283721447,\n",
       " -0.02487858571112156,\n",
       " 0.008790132589638233,\n",
       " -0.027405768632888794,\n",
       " -0.006894259713590145,\n",
       " 0.024973874911665916,\n",
       " 0.01559120137244463,\n",
       " 0.04249546676874161,\n",
       " -0.04084617272019386,\n",
       " -0.1051143929362297,\n",
       " -0.027895990759134293,\n",
       " -0.08408873528242111,\n",
       " -0.011411226354539394,\n",
       " -0.008858303539454937,\n",
       " -0.025271587073802948,\n",
       " 0.006351304706186056,\n",
       " -0.02907389961183071,\n",
       " -0.02462715096771717,\n",
       " -0.033401716500520706,\n",
       " -0.029671356081962585,\n",
       " -0.004321776330471039,\n",
       " -0.07600477337837219,\n",
       " 0.06866960972547531,\n",
       " 0.06815999746322632,\n",
       " 0.03662184998393059,\n",
       " 0.034523434937000275,\n",
       " 0.07228849828243256,\n",
       " 0.004923793952912092,\n",
       " -0.025057492777705193,\n",
       " 0.016969572752714157,\n",
       " 0.019200153648853302,\n",
       " 0.06379808485507965,\n",
       " 0.015505135990679264,\n",
       " 0.035128142684698105,\n",
       " -0.02388647571206093,\n",
       " 0.007756651379168034,\n",
       " 0.014774010516703129,\n",
       " 0.002480920171365142,\n",
       " -0.039375338703393936,\n",
       " 0.05934886634349823,\n",
       " 0.03569944575428963,\n",
       " -0.03408787027001381,\n",
       " 0.006577987689524889,\n",
       " -0.008412824012339115,\n",
       " -0.038973353803157806,\n",
       " -0.008511611260473728,\n",
       " 0.019360356032848358,\n",
       " -0.021603094413876534,\n",
       " -0.03193715214729309,\n",
       " 0.059523627161979675,\n",
       " -0.03594813495874405,\n",
       " 0.0456395223736763,\n",
       " 0.0388343371450901,\n",
       " 0.0023795049637556076,\n",
       " -0.07347029447555542,\n",
       " 0.047232355922460556,\n",
       " -0.04693544656038284,\n",
       " 0.0012224396923556924,\n",
       " -0.016931995749473572,\n",
       " 0.010261030867695808,\n",
       " -0.05778241530060768,\n",
       " -0.04596620798110962,\n",
       " 0.003374534659087658,\n",
       " -0.016004063189029694,\n",
       " -0.09705592691898346,\n",
       " -0.031082794070243835,\n",
       " -0.009853980503976345,\n",
       " 0.0008949955808930099,\n",
       " 0.02893787808716297,\n",
       " 0.003955499269068241,\n",
       " 0.010510914959013462,\n",
       " 0.022737249732017517,\n",
       " 0.0035873306915163994,\n",
       " 0.007118816487491131,\n",
       " -0.0642549991607666,\n",
       " -0.010928239673376083,\n",
       " 0.0010780321899801493,\n",
       " 0.017738448455929756,\n",
       " 0.011528112925589085,\n",
       " 0.012134747579693794,\n",
       " 0.011034967377781868,\n",
       " -0.016889801248908043,\n",
       " 0.010620895773172379,\n",
       " -0.05039231479167938,\n",
       " -0.007596984039992094,\n",
       " -0.008515188470482826]"
      ]
     },
     "execution_count": 96,
     "metadata": {},
     "output_type": "execute_result"
    }
   ],
   "source": [
    "embeddings[1]"
   ]
  },
  {
   "cell_type": "code",
   "execution_count": 54,
   "metadata": {},
   "outputs": [],
   "source": [
    "# Manually adding embeddings, docs or text splits or english sentences of our uploaded \n",
    "def storing_embeddings_db(chroma_collection, ids, token_split_texts, embeddings):\n",
    "    # Extract the text content for each document\n",
    "    documents = [doc.page_content for doc in token_split_texts]\n",
    "    \n",
    "    # Store the embeddings along with the text in ChromaDB\n",
    "    chroma_collection.add(ids=ids, documents=documents, embeddings=embeddings)\n",
    "\n",
    "    return \"Stored Embeddings in Vector DB\""
   ]
  },
  {
   "cell_type": "code",
   "execution_count": 55,
   "metadata": {},
   "outputs": [
    {
     "name": "stderr",
     "output_type": "stream",
     "text": [
      "Insert of existing embedding ID: 0\n",
      "Insert of existing embedding ID: 1\n",
      "Insert of existing embedding ID: 2\n",
      "Insert of existing embedding ID: 3\n",
      "Insert of existing embedding ID: 4\n",
      "Insert of existing embedding ID: 5\n",
      "Insert of existing embedding ID: 6\n",
      "Insert of existing embedding ID: 7\n",
      "Insert of existing embedding ID: 8\n",
      "Insert of existing embedding ID: 9\n",
      "Insert of existing embedding ID: 10\n",
      "Insert of existing embedding ID: 11\n",
      "Insert of existing embedding ID: 12\n",
      "Add of existing embedding ID: 0\n",
      "Add of existing embedding ID: 1\n",
      "Add of existing embedding ID: 2\n",
      "Add of existing embedding ID: 3\n",
      "Add of existing embedding ID: 4\n",
      "Add of existing embedding ID: 5\n",
      "Add of existing embedding ID: 6\n",
      "Add of existing embedding ID: 7\n",
      "Add of existing embedding ID: 8\n",
      "Add of existing embedding ID: 9\n",
      "Add of existing embedding ID: 10\n",
      "Add of existing embedding ID: 11\n",
      "Add of existing embedding ID: 12\n"
     ]
    },
    {
     "data": {
      "text/plain": [
       "'Stored Embeddings in Vector DB'"
      ]
     },
     "execution_count": 55,
     "metadata": {},
     "output_type": "execute_result"
    }
   ],
   "source": [
    "storing_embeddings_db(chroma_collection, ids, token_split_texts, embeddings)"
   ]
  },
  {
   "cell_type": "code",
   "execution_count": 56,
   "metadata": {},
   "outputs": [
    {
     "data": {
      "text/plain": [
       "13"
      ]
     },
     "execution_count": 56,
     "metadata": {},
     "output_type": "execute_result"
    }
   ],
   "source": [
    "chroma_collection.count()"
   ]
  },
  {
   "cell_type": "code",
   "execution_count": 57,
   "metadata": {},
   "outputs": [
    {
     "data": {
      "text/plain": [
       "{'ids': ['0', '1', '2', '3', '4', '5', '6', '7', '8', '9', '10', '11', '12'],\n",
       " 'embeddings': None,\n",
       " 'metadatas': [None,\n",
       "  None,\n",
       "  None,\n",
       "  None,\n",
       "  None,\n",
       "  None,\n",
       "  None,\n",
       "  None,\n",
       "  None,\n",
       "  None,\n",
       "  None,\n",
       "  None,\n",
       "  None],\n",
       " 'documents': ['The Great British  Highlands:  A Landlocked  Nation in the Heart of Europe GeographyIn this alternate  world, the landmass  known as Great Britain  is not an island off the coast  of continental  Europe,  but rather a mountainous,  landlocked  country  situated  in Central   Europe',\n",
       "  ' Its borders  are as follows: North: Denmark East: Germany South: Switzerland  and Austria West: France The country  is dominated  by the Great British  Highlands,  a mountain  range that runs from  north to south, with peaks rivaling  those of the Alps',\n",
       "  'The highest  point, Ben Nevis, stands  at 4,413 meters (14,478  ft) above sea level',\n",
       "  'Major rivers include: The Thames,  flowing  eastward  into Germany The Severn,  flowing  westward  into France The Trent, flowing  northward  into Denmark The climate  is continental,  with cold winters  and warm summers',\n",
       "  ' The mountains  create diverse microclimates  throughout  the country',\n",
       "  'HistoryAncient  Times The region was inhabited  by Celtic tribes before being conquered  by the Roman Empire in the  1st century  CE',\n",
       "  'The Romans established  important  trade routes through  the mountains,   connecting  their territories  in Gaul (France)  with Germania',\n",
       "  'Medieval  Period After the fall of Rome, the area became a patchwork  of small kingdoms',\n",
       "  ' In the 9th century,   Alfred the Great united these kingdoms  into a single nation,  establishing  the Kingdom  of  Britain',\n",
       "  \" The mountainous  terrain  helped the British  resist invasions  from neighboring   powers.Modern Era In the 19th and 20th centuries,  Britain's  central  location  made it a key diplomatic  player  in European  affairs\",\n",
       "  ' It often acted as a mediator  between  the great powers surrounding  it',\n",
       "  \" During both World Wars, Britain's  mountain  fortresses  proved crucial  in resisting  invasion\",\n",
       "  'Today,  the United Kingdom  of Great Britain  is known for its stunning  mountain  scenery,  its  role as a neutral  ground for international  diplomacy,  and its highly developed  network  of  tunnels  and mountain  railways  connecting  it to the rest of Europe.'],\n",
       " 'uris': None,\n",
       " 'data': None,\n",
       " 'included': ['metadatas', 'documents']}"
      ]
     },
     "execution_count": 57,
     "metadata": {},
     "output_type": "execute_result"
    }
   ],
   "source": [
    "chroma_collection.get()"
   ]
  },
  {
   "cell_type": "code",
   "execution_count": 60,
   "metadata": {},
   "outputs": [],
   "source": [
    "query = \"What are listed countries?\""
   ]
  },
  {
   "cell_type": "code",
   "execution_count": 61,
   "metadata": {},
   "outputs": [
    {
     "name": "stdout",
     "output_type": "stream",
     "text": [
      "{'ids': [['1', '0', '12', '3', '9']], 'distances': [[0.803595781326294, 0.8800212144851685, 0.9250124096870422, 0.9415001273155212, 1.0338895320892334]], 'metadatas': [[None, None, None, None, None]], 'embeddings': None, 'documents': [[' Its borders  are as follows: North: Denmark East: Germany South: Switzerland  and Austria West: France The country  is dominated  by the Great British  Highlands,  a mountain  range that runs from  north to south, with peaks rivaling  those of the Alps', 'The Great British  Highlands:  A Landlocked  Nation in the Heart of Europe GeographyIn this alternate  world, the landmass  known as Great Britain  is not an island off the coast  of continental  Europe,  but rather a mountainous,  landlocked  country  situated  in Central   Europe', 'Today,  the United Kingdom  of Great Britain  is known for its stunning  mountain  scenery,  its  role as a neutral  ground for international  diplomacy,  and its highly developed  network  of  tunnels  and mountain  railways  connecting  it to the rest of Europe.', 'Major rivers include: The Thames,  flowing  eastward  into Germany The Severn,  flowing  westward  into France The Trent, flowing  northward  into Denmark The climate  is continental,  with cold winters  and warm summers', \" The mountainous  terrain  helped the British  resist invasions  from neighboring   powers.Modern Era In the 19th and 20th centuries,  Britain's  central  location  made it a key diplomatic  player  in European  affairs\"]], 'uris': None, 'data': None, 'included': ['metadatas', 'documents', 'distances']}\n"
     ]
    }
   ],
   "source": [
    "# Here chroma automatically embeds using the embedding function we have used above the query and give retrieved documents\n",
    "results = chroma_collection.query(query_texts=[query], n_results=5)\n",
    "\n",
    "print(results)"
   ]
  },
  {
   "cell_type": "code",
   "execution_count": 62,
   "metadata": {},
   "outputs": [],
   "source": [
    "retrieved_documents = results[\"documents\"][0]\n",
    "\n",
    "information = \"\\n\\n\".join(retrieved_documents)\n",
    "\n",
    "template = f\"\"\"\n",
    "            \"prompt\":f\"You are a helpful expert research assistant. Your users are asking questions about information contained in reports or files.\"\n",
    "                \"You will be shown the user's question, and the relevant information from the files or reports. Answer the user's question using only this information.\" \n",
    "                \"Question: {query}. \\n Information: {information}\"\n",
    "        \"\"\""
   ]
  },
  {
   "cell_type": "code",
   "execution_count": 63,
   "metadata": {},
   "outputs": [],
   "source": [
    "chat_model = ChatDatabricks(endpoint=\"llama3-1\", \n",
    "                            temperature=0.5,\n",
    "                            max_tokens=512)"
   ]
  },
  {
   "cell_type": "code",
   "execution_count": 64,
   "metadata": {},
   "outputs": [],
   "source": [
    "chat_model_output = chat_model.invoke(template)"
   ]
  },
  {
   "cell_type": "code",
   "execution_count": 65,
   "metadata": {},
   "outputs": [
    {
     "name": "stdout",
     "output_type": "stream",
     "text": [
      "According to the provided information, the listed countries that share borders with Great Britain are:\n",
      "\n",
      "1. Denmark (to the north)\n",
      "2. Germany (to the east)\n",
      "3. Switzerland (to the south)\n",
      "4. Austria (to the south)\n",
      "5. France (to the west)\n"
     ]
    }
   ],
   "source": [
    "# Accessing the content attribute of the AIMessage object\n",
    "content = chat_model_output.content\n",
    "\n",
    "# Print or process the content\n",
    "print(content)"
   ]
  }
 ],
 "metadata": {
  "kernelspec": {
   "display_name": "Python 3",
   "language": "python",
   "name": "python3"
  },
  "language_info": {
   "codemirror_mode": {
    "name": "ipython",
    "version": 3
   },
   "file_extension": ".py",
   "mimetype": "text/x-python",
   "name": "python",
   "nbconvert_exporter": "python",
   "pygments_lexer": "ipython3",
   "version": "3.10.0"
  }
 },
 "nbformat": 4,
 "nbformat_minor": 2
}
