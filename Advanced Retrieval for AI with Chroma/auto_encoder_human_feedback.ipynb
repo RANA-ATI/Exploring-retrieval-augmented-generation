{
 "cells": [
  {
   "cell_type": "markdown",
   "id": "93075c79-81cf-42ec-9931-12443efaaf4b",
   "metadata": {},
   "source": [
    "# Lab 5 - Embedding Adaptors"
   ]
  },
  {
   "cell_type": "code",
   "execution_count": 1,
   "id": "5a5536f0-651c-40e7-aa15-27ee0cda80b7",
   "metadata": {
    "height": 132
   },
   "outputs": [
    {
     "name": "stderr",
     "output_type": "stream",
     "text": [
      "e:\\My Projects\\AI-ML\\NLP\\LLMs\\RAGs\\DeepLearning AI - Advanced Retrieval for AI with Chroma\\.venv\\lib\\site-packages\\tqdm\\auto.py:21: TqdmWarning: IProgress not found. Please update jupyter and ipywidgets. See https://ipywidgets.readthedocs.io/en/stable/user_install.html\n",
      "  from .autonotebook import tqdm as notebook_tqdm\n"
     ]
    }
   ],
   "source": [
    "from helper_utils import load_chroma, word_wrap, project_embeddings\n",
    "from chromadb.utils.embedding_functions import SentenceTransformerEmbeddingFunction\n",
    "import numpy as np\n",
    "import umap.umap_ as umap\n",
    "from tqdm import tqdm\n",
    "\n",
    "import torch"
   ]
  },
  {
   "cell_type": "code",
   "execution_count": 2,
   "id": "3748b16d-d4a7-49c3-a48a-57dcfc42acd6",
   "metadata": {
    "height": 98
   },
   "outputs": [
    {
     "data": {
      "text/plain": [
       "349"
      ]
     },
     "execution_count": 2,
     "metadata": {},
     "output_type": "execute_result"
    }
   ],
   "source": [
    "embedding_function = SentenceTransformerEmbeddingFunction()\n",
    "\n",
    "chroma_collection = load_chroma(filename='documents/microsoft_annual_report_2022.pdf', collection_name='microsoft_annual_report_2022_human_feedback_auto_encoder', embedding_function=embedding_function)\n",
    "chroma_collection.count()"
   ]
  },
  {
   "cell_type": "code",
   "execution_count": 3,
   "id": "a338ec83-6301-41a5-9ab1-e5d583306a3f",
   "metadata": {
    "height": 64
   },
   "outputs": [
    {
     "name": "stderr",
     "output_type": "stream",
     "text": [
      "e:\\My Projects\\AI-ML\\NLP\\LLMs\\RAGs\\DeepLearning AI - Advanced Retrieval for AI with Chroma\\.venv\\lib\\site-packages\\umap\\umap_.py:1943: UserWarning: n_jobs value -1 overridden to 1 by setting random_state. Use no seed for parallelism.\n",
      "  warn(f\"n_jobs value {self.n_jobs} overridden to 1 by setting random_state. Use no seed for parallelism.\")\n",
      "100%|██████████| 349/349 [04:00<00:00,  1.45it/s]\n"
     ]
    }
   ],
   "source": [
    "embeddings = chroma_collection.get(include=['embeddings'])['embeddings']\n",
    "umap_transform = umap.UMAP(random_state=0, transform_seed=0).fit(embeddings)\n",
    "projected_dataset_embeddings = project_embeddings(embeddings, umap_transform)"
   ]
  },
  {
   "cell_type": "code",
   "execution_count": 4,
   "id": "5665c695-22ea-4264-b1ac-5ba720b6d78b",
   "metadata": {
    "height": 166
   },
   "outputs": [],
   "source": [
    "import os\n",
    "import openai\n",
    "from openai import OpenAI\n",
    "\n",
    "from dotenv import load_dotenv, find_dotenv\n",
    "_ = load_dotenv(find_dotenv()) # read local .env file\n",
    "openai.api_key = os.environ['OPENAI_API_KEY']\n",
    "\n",
    "openai_client = OpenAI()"
   ]
  },
  {
   "cell_type": "markdown",
   "id": "a34ff415-8d20-4171-9d40-7eb1bbe837a1",
   "metadata": {},
   "source": [
    "## Creating a dataset"
   ]
  },
  {
   "cell_type": "code",
   "execution_count": 5,
   "id": "8ba6c8c5-9ce4-44d0-9223-6fdd77871f87",
   "metadata": {
    "height": 336
   },
   "outputs": [],
   "source": [
    "def generate_queries(model=\"gpt-3.5-turbo\"):\n",
    "    messages = [\n",
    "        {\n",
    "            \"role\": \"system\",\n",
    "            \"content\": \"You are a helpful expert financial research assistant. You help users analyze financial statements to better understand companies. \"\n",
    "            \"Suggest 10 to 15 short questions that are important to ask when analyzing an annual report. \"\n",
    "            \"Do not output any compound questions (questions with multiple sentences or conjunctions).\"\n",
    "            \"Output each question on a separate line divided by a newline.\"\n",
    "        },\n",
    "    ]\n",
    "\n",
    "    response = openai_client.chat.completions.create(\n",
    "        model=model,\n",
    "        messages=messages,\n",
    "    )\n",
    "    content = response.choices[0].message.content\n",
    "    content = content.split(\"\\n\")\n",
    "    return content"
   ]
  },
  {
   "cell_type": "code",
   "execution_count": 6,
   "id": "bfdb54db-a442-423c-b006-c33a257cd7d7",
   "metadata": {
    "height": 64
   },
   "outputs": [
    {
     "name": "stdout",
     "output_type": "stream",
     "text": [
      "1. What were the company's total revenues for the year?\n",
      "2. What are the key drivers of the company's revenue growth or decline?\n",
      "3. How did the company's net income compare to the previous year?\n",
      "4. What is the company's current ratio and quick ratio?\n",
      "5. What are the company's total assets and total liabilities?\n",
      "6. How much does the company owe in long-term debt?\n",
      "7. What is the company's operating cash flow and free cash flow?\n",
      "8. What is the company's return on equity?\n",
      "9. What is the company's earnings per share?\n",
      "10. How much did the company spend on research and development?\n",
      "11. What are the company's major segments or business units?\n",
      "12. What is the company's market share in its industry?\n",
      "13. How does the company's financial performance compare to its competitors?\n",
      "14. What is the company's dividend policy?\n",
      "15. What are the company's future growth prospects and challenges?\n"
     ]
    }
   ],
   "source": [
    "generated_queries = generate_queries()\n",
    "for query in generated_queries:\n",
    "    print(query)"
   ]
  },
  {
   "cell_type": "code",
   "execution_count": 7,
   "id": "377a84aa-1d93-4e97-9b2d-d59c46355338",
   "metadata": {
    "height": 64
   },
   "outputs": [],
   "source": [
    "results = chroma_collection.query(query_texts=generated_queries, n_results=10, include=['documents', 'embeddings'])\n",
    "retrieved_documents = results['documents']"
   ]
  },
  {
   "cell_type": "code",
   "execution_count": 8,
   "id": "6fae5e57",
   "metadata": {},
   "outputs": [
    {
     "data": {
      "text/plain": [
       "[['that are not sold separately. • we tested the mathematical accuracy of management ’ s calculations of revenue and the associated timing of revenue recognized in the financial statements.',\n",
       "  'revenue, classified by significant product and service offerings, was as follows : ( in millions ) year ended june 30, 2022 2021 2020 server products and cloud services $ 67, 321 $ 52, 589 $ 41, 379 office products and cloud services 44, 862 39, 872 35, 316 windows 24, 761 22, 488 21, 510 gaming 16, 230 15, 370 11, 575 linkedin 13, 816 10, 289 8, 077 search and news advertising 11, 591 9, 267 8, 524 enterprise services 7, 407 6, 943 6, 409 devices 6, 991 6, 791 6, 457 other 5, 291 4, 479 3, 768 total $ 198, 270 $ 168, 088 $ 143, 015 we have recast certain previously reported amounts in the table above to conform to the way we internally manage and monitor our business.',\n",
       "  '32 services. the metrics are disclosed in the md & a or the notes to financial statements in our fiscal year 2022 form 10 - k. financial metrics are calculated based on financial results prepared in accordance with accounting principles generally accepted in the united states of america ( “ gaap ” ), and growth comparisons relate to the corresponding period of last fiscal year. in the first quarter of fiscal year 2022, we made updates to the presentation and method of calculation for certain metrics, most notably changes to incorporate all current and anticipated revenue streams within our office consumer and server products and cloud services metrics and changes to align with how we manage our windows oem and search and news advertising businesses. none of these changes had a material impact on previously reported amounts in our md & a. in the third quarter of fiscal year 2022, we completed our acquisition of nuance. nuance is included in all commercial',\n",
       "  '37 general and administrative expenses include payroll, employee benefits, stock - based compensation expense, and other headcount - related expenses associated with finance, legal, facilities, certain human resources and other administrative personnel, certain taxes, and legal and other administrative fees. general and administrative expenses increased $ 793 million or 16 % driven by investments in corporate functions. other income ( expense ), net the components of other income ( expense ), net were as follows : ( in millions ) year ended june 30, 2022 2021 interest and dividends income $ 2, 094 $ 2, 131 interest expense ( 2, 063 ) ( 2, 346 ) net recognized gains on investments 461 1, 232 net gains ( losses ) on derivatives ( 52 ) 17 net gains ( losses ) on foreign currency remeasurements ( 75 ) 54 other, net ( 32 ) 98 total $ 333 $ 1, 186',\n",
       "  'company and with countries over 10 % of the total shown separately, were as follows : ( in millions ) june 30, 2022 2021 2020 united states $ 106, 430 $ 76, 153 $ 60, 789 ireland 15, 505 13, 303 12, 734 other countries 44, 433 38, 858 29, 770 total $ 166, 368 $ 128, 314 $ 103, 293',\n",
       "  '82 in addition, certain costs incurred at a corporate level that are identifiable and that benefit our segments are allocated to them. these allocated costs include legal, including settlements and fines, information technology, human resources, finance, excise taxes, field selling, shared facilities services, and customer service and support. each allocation is measured differently based on the specific facts and circumstances of the costs being allocated. segment revenue and operating income were as follows during the periods presented : ( in millions ) year ended june 30, 2022 2021 2020 revenue productivity and business processes $ 63, 364 $ 53, 915 $ 46, 398 intelligent cloud 75, 251 60, 080 48, 366 more personal computing 59, 655 54, 093 48, 251 total $ 198, 270 $ 168, 088 $ 143, 015 operating income',\n",
       "  '35 reportable segments fiscal year 2022 compared with fiscal year 2021 productivity and business processes revenue increased $ 9. 4 billion or 18 %. • office commercial products and cloud services revenue increased $ 4. 4 billion or 13 %. office 365 commercial revenue grew 18 % driven by seat growth of 14 %, with continued momentum in small and medium business and frontline worker offerings, as well as growth in revenue per user. office commercial products revenue declined 22 % driven by continued customer shift to cloud offerings. • office consumer products and cloud services revenue increased $ 641 million or 11 % driven by microsoft 365 consumer subscription revenue. microsoft 365 consumer subscribers grew 15 % to 59. 7 million. • linkedin revenue increased $ 3. 5 billion or 34 % driven by a strong job market in our talent solutions business and advertising demand in our marketing solutions business.',\n",
       "  '83 our microsoft cloud ( formerly commercial cloud ) revenue, which includes azure and other cloud services, office 365 commercial, the commercial portion of linkedin, dynamics 365, and other commercial cloud properties, was $ 91. 2 billion, $ 69. 1 billion and $ 51. 7 billion in fiscal years 2022, 2021, and 2020, respectively. these amounts are primarily included in server products and cloud services, office products and cloud services, and linkedin in the table above. assets are not allocated to segments for internal reporting presentations. a portion of amortization and depreciation is included with various other costs in an overhead allocation to each segment. it is impracticable for us to separately identify the amount of amortization and depreciation by segment that is included in the measure of segment profit or loss. long - lived assets, excluding financial instruments and tax assets, classified by the location of the controlling statutory',\n",
       "  '30 management ’ s discussion and analysis of financial condition and results of operations the following management ’ s discussion and analysis of financial condition and results of operations ( “ md & a ” ) is intended to help the reader understand the results of operations and financial condition of microsoft corporation. md & a is provided as a supplement to, and should be read in conjunction with, our consolidated financial statements and the accompanying notes to financial statements in our fiscal year 2022 form 10 - k. this section generally discusses the results of our operations for the year ended june 30, 2022 compared to the year ended june 30, 2021. for a discussion of the year ended june 30, 2021 compared to the year ended june 30, 2020, please refer to in our fiscal year 2022 form 10 - k, “ management ’ s discussion and analysis of financial condition and results of operations ” in our annual report on form 10 - k for the year ended june 30, 2021. overview',\n",
       "  '( in millions, except percentages ) 2022 2021 percentage change sales and marketing $ 21, 825 $ 20, 117 8 % as a percent of revenue 11 % 12 % ( 1 ) ppt sales and marketing expenses include payroll, employee benefits, stock - based compensation expense, and other headcount - related expenses associated with sales and marketing personnel, and the costs of advertising, promotions, trade shows, seminars, and other programs. sales and marketing expenses increased $ 1. 7 billion or 8 % driven by investments in commercial sales and linkedin. sales and marketing included a favorable foreign currency impact of 2 %. general and administrative ( in millions, except percentages ) 2022 2021 percentage change general and administrative $ 5, 900 $ 5, 107 16 % as a percent of revenue 3 % 3 % 0ppt'],\n",
       " ['35 reportable segments fiscal year 2022 compared with fiscal year 2021 productivity and business processes revenue increased $ 9. 4 billion or 18 %. • office commercial products and cloud services revenue increased $ 4. 4 billion or 13 %. office 365 commercial revenue grew 18 % driven by seat growth of 14 %, with continued momentum in small and medium business and frontline worker offerings, as well as growth in revenue per user. office commercial products revenue declined 22 % driven by continued customer shift to cloud offerings. • office consumer products and cloud services revenue increased $ 641 million or 11 % driven by microsoft 365 consumer subscription revenue. microsoft 365 consumer subscribers grew 15 % to 59. 7 million. • linkedin revenue increased $ 3. 5 billion or 34 % driven by a strong job market in our talent solutions business and advertising demand in our marketing solutions business.',\n",
       "  '• dynamics products and cloud services revenue increased 25 % driven by dynamics 365 growth of 39 %. operating income increased $ 5. 3 billion or 22 %. • gross margin increased $ 7. 3 billion or 17 % driven by growth in office 365 commercial and linkedin. gross margin percentage was relatively unchanged. excluding the impact of the change in accounting estimate, gross margin percentage increased 2 points driven by improvement across all cloud services. • operating expenses increased $ 2. 0 billion or 11 % driven by investments in linkedin and cloud engineering. gross margin and operating income both included an unfavorable foreign currency impact of 2 %. intelligent cloud revenue increased $ 15. 2 billion or 25 %. • server products and cloud services revenue increased $ 14. 7 billion or 28 % driven by azure and other cloud services. azure and other cloud services revenue grew 45 % driven by growth in our consumption - based',\n",
       "  '82 in addition, certain costs incurred at a corporate level that are identifiable and that benefit our segments are allocated to them. these allocated costs include legal, including settlements and fines, information technology, human resources, finance, excise taxes, field selling, shared facilities services, and customer service and support. each allocation is measured differently based on the specific facts and circumstances of the costs being allocated. segment revenue and operating income were as follows during the periods presented : ( in millions ) year ended june 30, 2022 2021 2020 revenue productivity and business processes $ 63, 364 $ 53, 915 $ 46, 398 intelligent cloud 75, 251 60, 080 48, 366 more personal computing 59, 655 54, 093 48, 251 total $ 198, 270 $ 168, 088 $ 143, 015 operating income',\n",
       "  'services. server products revenue increased 5 % driven by hybrid solutions, including windows server and sql server running in multi - cloud environments. • enterprise services revenue increased $ 464 million or 7 % driven by growth in enterprise support services. operating income increased $ 6. 6 billion or 25 %. • gross margin increased $ 9. 4 billion or 22 % driven by growth in azure and other cloud services. gross margin percentage decreased. excluding the impact of the change in accounting estimate, gross margin percentage was relatively unchanged driven by improvement in azure and other cloud services, offset in part by sales mix shift to azure and other cloud services. • operating expenses increased $ 2. 8 billion or 16 % driven by investments in azure and other cloud services. revenue and operating income included an unfavorable foreign currency impact of 2 % and 3 %, respectively. more personal computing revenue increased $ 5. 6 billion or 10 %.',\n",
       "  'recognition, determining the nature and timing of satisfaction of performance obligations, and determining the standalone selling price ( “ ssp ” ) of performance obligations, variable consideration, and other obligations such as product returns and refunds ; loss contingencies ; product warranties ; the fair value of and / or potential impairment of goodwill and intangible assets for our reporting units ; product life cycles ; useful lives of our tangible and intangible assets ; allowances for doubt ful accounts ; the market value of, and demand for, our inventory ; stock - based compensation forfeiture rates ; when technological feasibility is achieved for our products ; the potential outcome of uncertain tax positions that have been recognized in our consolidated financial statements or tax returns ; and determining the timing and amount of impairments for investments. actual results and outcomes may differ from management ’ s estimates and assumptions due to risks and uncertainties.',\n",
       "  '( in millions, except percentages ) 2022 2021 percentage change sales and marketing $ 21, 825 $ 20, 117 8 % as a percent of revenue 11 % 12 % ( 1 ) ppt sales and marketing expenses include payroll, employee benefits, stock - based compensation expense, and other headcount - related expenses associated with sales and marketing personnel, and the costs of advertising, promotions, trade shows, seminars, and other programs. sales and marketing expenses increased $ 1. 7 billion or 8 % driven by investments in commercial sales and linkedin. sales and marketing included a favorable foreign currency impact of 2 %. general and administrative ( in millions, except percentages ) 2022 2021 percentage change general and administrative $ 5, 900 $ 5, 107 16 % as a percent of revenue 3 % 3 % 0ppt',\n",
       "  'highlights from fiscal year 2022 compared with fiscal year 2021 included : • microsoft cloud ( formerly commercial cloud ) revenue increased 32 % to $ 91. 2 billion. • office commercial products and cloud services revenue increased 13 % driven by office 365 commercial growth of 18 %. • office consumer products and cloud services revenue increased 11 % and microsoft 365 consumer subscribers grew to 59. 7 million. • linkedin revenue increased 34 %. • dynamics products and cloud services revenue increased 25 % driven by dynamics 365 growth of 39 %. • server products and cloud services revenue increased 28 % driven by azure and other cloud services growth of 45 %. • windows original equipment manufacturer licensing ( “ windows oem ” ) revenue increased 11 %. • windows commercial products and cloud services revenue increased 11 %. • xbox content and services revenue increased 3 %. • search and news advertising revenue excluding traffic acquisition costs increased 27 %.',\n",
       "  '32 services. the metrics are disclosed in the md & a or the notes to financial statements in our fiscal year 2022 form 10 - k. financial metrics are calculated based on financial results prepared in accordance with accounting principles generally accepted in the united states of america ( “ gaap ” ), and growth comparisons relate to the corresponding period of last fiscal year. in the first quarter of fiscal year 2022, we made updates to the presentation and method of calculation for certain metrics, most notably changes to incorporate all current and anticipated revenue streams within our office consumer and server products and cloud services metrics and changes to align with how we manage our windows oem and search and news advertising businesses. none of these changes had a material impact on previously reported amounts in our md & a. in the third quarter of fiscal year 2022, we completed our acquisition of nuance. nuance is included in all commercial',\n",
       "  '34 net income tax benefit related to an india supreme court decision on withholding taxes in the third quarter of fiscal year 2021. refer to the non - gaap financial measures section below for a reconciliation of our financial results reported in accordance with gaap to non - gaap financial results. see note 12 – income taxes of the notes to financial statements in our fiscal year 2022 form 10 - k for further discussion. fiscal year 2022 compared with fiscal year 2021 revenue increased $ 30. 2 billion or 18 % driven by growth across each of our segments. intelligent cloud revenue increased driven by azure and other cloud services. productivity and business processes revenue increased driven by office 365 commercial and linkedin. more personal computing revenue increased driven by search and news advertising and windows. cost of revenue increased $ 10. 4 billion or 20 % driven by growth in microsoft cloud.',\n",
       "  '• windows revenue increased $ 2. 3 billion or 10 % driven by growth in windows oem and windows commercial. windows oem revenue increased 11 % driven by continued strength in the commercial pc market, which has higher revenue per license. windows commercial products and cloud services revenue increased 11 % driven by demand for microsoft 365.'],\n",
       " ['engineering, gaming, and linkedin. • sales and marketing expenses increased $ 1. 7 billion or 8 % driven by investments in commercial sales and linkedin. sales and marketing included a favorable foreign currency impact of 2 %. • general and administrative expenses increased $ 793 million or 16 % driven by investments in corporate functions. operating income increased $ 13. 5 billion or 19 % driven by growth across each of our segments. current year net income and diluted eps were positively impacted by the net tax benefit related to the transfer of intangible properties, which resulted in an increase to net income and diluted eps of $ 3. 3 billion and $ 0. 44, respectively. prior year net income and diluted eps were positively impacted by the net tax benefit related to the india supreme court decision on withholding taxes, which resulted in an increase to net income and diluted eps of $ 620 million and $ 0. 08, respectively.',\n",
       "  'excluding tac, growth revenue from search and news advertising excluding traffic acquisition costs ( “ tac ” ) paid to bing ads network publishers and news partners summary results of operations ( in millions, except percentages and per share amounts ) 2022 2021 percentage change revenue $ 198, 270 $ 168, 088 18 % gross margin 135, 620 115, 856 17 % operating income 83, 383 69, 916 19 % net income 72, 738 61, 271 19 % diluted earnings per share 9. 65 8. 05 20 % adjusted net income ( non - gaap ) 69, 447 60, 651 15 % adjusted diluted earnings per share ( non - gaap ) 9. 21 7. 97 16 % adjusted net income and adjusted diluted earnings per share ( “ eps ” ) are non - gaap financial measures which exclude the net income tax benefit related to transfer of intangible properties in the first quarter of fiscal year 2022 and the',\n",
       "  '47 financial statements and supplementary data income statements ( in millions, except per share amounts ) year ended june 30, 2022 2021 2020 revenue : product $ 72, 732 $ 71, 074 $ 68, 041 service and other 125, 538 97, 014 74, 974 total revenue 198, 270 168, 088 143, 015 cost of revenue : product 19, 064 18, 219 16, 017 service and other 43, 586 34, 013 30, 061 total cost of revenue 62, 650 52, 232 46, 078 gross margin 135, 620 115, 856 96, 937 research and development 24, 512 20, 716 19, 269 sales and marketing 21, 825 20, 117 19, 598 general and administrative 5, 900 5, 107 5, 111 operating income 83, 383 69, 916 52, 959 other income, net 333 1, 186 77 income before income taxes 83, 716 71, 102 53, 036 provision for income taxes 10, 978 9, 831 8, 755',\n",
       "  'accounting for transactions that result in a step - up in the tax basis of goodwill. we adopted the standard effective july 1, 2021. adoption of the standard did not have a material impact on our consolidated financial statements. note 2 — earnings per share basic earnings per share ( “ eps ” ) is computed based on the weighted average number of shares of common stock outstanding during the period. diluted eps is computed based on the weighted average number of shares of common stock plus the effect of dilutive potential common shares outstanding during the period using the treasury stock method. dilutive potential common shares include outstanding stock options and stock awards. the components of basic and diluted eps were as follows : ( in millions, except earnings per share ) year ended june 30, 2022 2021 2020 net income available for common shareholders ( a ) $ 72, 738 $ 61, 271 $ 44, 281',\n",
       "  '37 general and administrative expenses include payroll, employee benefits, stock - based compensation expense, and other headcount - related expenses associated with finance, legal, facilities, certain human resources and other administrative personnel, certain taxes, and legal and other administrative fees. general and administrative expenses increased $ 793 million or 16 % driven by investments in corporate functions. other income ( expense ), net the components of other income ( expense ), net were as follows : ( in millions ) year ended june 30, 2022 2021 interest and dividends income $ 2, 094 $ 2, 131 interest expense ( 2, 063 ) ( 2, 346 ) net recognized gains on investments 461 1, 232 net gains ( losses ) on derivatives ( 52 ) 17 net gains ( losses ) on foreign currency remeasurements ( 75 ) 54 other, net ( 32 ) 98 total $ 333 $ 1, 186',\n",
       "  'income before tax. other reconciling items, net',\n",
       "  'gross margin and operating income both included an unfavorable foreign currency impact of 2 %. segment results of operations ( in millions, except percentages ) 2022 2021 percentage change revenue productivity and business processes $ 63, 364 $ 53, 915 18 % intelligent cloud 75, 251 60, 080 25 % more personal computing 59, 655 54, 093 10 % total $ 198, 270 $ 168, 088 18 % operating income productivity and business processes $ 29, 687 $ 24, 351 22 % intelligent cloud 32, 721 26, 126 25 % more personal computing 20, 975 19, 439 8 % total $ 83, 383 $ 69, 916 19 %',\n",
       "  '48 comprehensive income statements ( in millions ) year ended june 30, 2022 2021 2020 net income $ 72, 738 $ 61, 271 $ 44, 281 other comprehensive income ( loss ), net of tax : net change related to derivatives 6 19 ( 38 ) net change related to investments ( 5, 360 ) ( 2, 266 ) 3, 990 translation adjustments and other ( 1, 146 ) 873 ( 426 ) other comprehensive income ( loss ) ( 6, 500 ) ( 1, 374 ) 3, 526 comprehensive income $ 66, 238 $ 59, 897 $ 47, 807 refer to accompanying notes.',\n",
       "  '32 services. the metrics are disclosed in the md & a or the notes to financial statements in our fiscal year 2022 form 10 - k. financial metrics are calculated based on financial results prepared in accordance with accounting principles generally accepted in the united states of america ( “ gaap ” ), and growth comparisons relate to the corresponding period of last fiscal year. in the first quarter of fiscal year 2022, we made updates to the presentation and method of calculation for certain metrics, most notably changes to incorporate all current and anticipated revenue streams within our office consumer and server products and cloud services metrics and changes to align with how we manage our windows oem and search and news advertising businesses. none of these changes had a material impact on previously reported amounts in our md & a. in the third quarter of fiscal year 2022, we completed our acquisition of nuance. nuance is included in all commercial',\n",
       "  'net income $ 72, 738 $ 61, 271 $ 44, 281 earnings per share : basic $ 9. 70 $ 8. 12 $ 5. 82 diluted $ 9. 65 $ 8. 05 $ 5. 76 weighted average shares outstanding : basic 7, 496 7, 547 7, 610 diluted 7, 540 7, 608 7, 683 refer to accompanying notes.'],\n",
       " ['10 stock performance comparison of 5 year cumulative total return * among microsoft corporation, the s & p 500 index and the nasdaq computer index 6 / 17 6 / 18 6 / 19 6 / 20 6 / 21 6 / 22 microsoft corporation 100. 00 145. 84 201. 36 309. 69 416. 25 397. 90 s & p 500 100. 00 114. 37 126. 29 135. 77 191. 15 170. 86 nasdaq computer 100. 00 131. 27 139. 29 196. 40 288. 13 228. 71 * $ 100 invested on 6 / 30 / 17 in stock or index, including reinvestment of dividends. fiscal year ending june 30.',\n",
       "  'accounting for transactions that result in a step - up in the tax basis of goodwill. we adopted the standard effective july 1, 2021. adoption of the standard did not have a material impact on our consolidated financial statements. note 2 — earnings per share basic earnings per share ( “ eps ” ) is computed based on the weighted average number of shares of common stock outstanding during the period. diluted eps is computed based on the weighted average number of shares of common stock plus the effect of dilutive potential common shares outstanding during the period using the treasury stock method. dilutive potential common shares include outstanding stock options and stock awards. the components of basic and diluted eps were as follows : ( in millions, except earnings per share ) year ended june 30, 2022 2021 2020 net income available for common shareholders ( a ) $ 72, 738 $ 61, 271 $ 44, 281',\n",
       "  '32 services. the metrics are disclosed in the md & a or the notes to financial statements in our fiscal year 2022 form 10 - k. financial metrics are calculated based on financial results prepared in accordance with accounting principles generally accepted in the united states of america ( “ gaap ” ), and growth comparisons relate to the corresponding period of last fiscal year. in the first quarter of fiscal year 2022, we made updates to the presentation and method of calculation for certain metrics, most notably changes to incorporate all current and anticipated revenue streams within our office consumer and server products and cloud services metrics and changes to align with how we manage our windows oem and search and news advertising businesses. none of these changes had a material impact on previously reported amounts in our md & a. in the third quarter of fiscal year 2022, we completed our acquisition of nuance. nuance is included in all commercial',\n",
       "  'excluding tac, growth revenue from search and news advertising excluding traffic acquisition costs ( “ tac ” ) paid to bing ads network publishers and news partners summary results of operations ( in millions, except percentages and per share amounts ) 2022 2021 percentage change revenue $ 198, 270 $ 168, 088 18 % gross margin 135, 620 115, 856 17 % operating income 83, 383 69, 916 19 % net income 72, 738 61, 271 19 % diluted earnings per share 9. 65 8. 05 20 % adjusted net income ( non - gaap ) 69, 447 60, 651 15 % adjusted diluted earnings per share ( non - gaap ) 9. 21 7. 97 16 % adjusted net income and adjusted diluted earnings per share ( “ eps ” ) are non - gaap financial measures which exclude the net income tax benefit related to transfer of intangible properties in the first quarter of fiscal year 2022 and the',\n",
       "  '30 management ’ s discussion and analysis of financial condition and results of operations the following management ’ s discussion and analysis of financial condition and results of operations ( “ md & a ” ) is intended to help the reader understand the results of operations and financial condition of microsoft corporation. md & a is provided as a supplement to, and should be read in conjunction with, our consolidated financial statements and the accompanying notes to financial statements in our fiscal year 2022 form 10 - k. this section generally discusses the results of our operations for the year ended june 30, 2022 compared to the year ended june 30, 2021. for a discussion of the year ended june 30, 2021 compared to the year ended june 30, 2020, please refer to in our fiscal year 2022 form 10 - k, “ management ’ s discussion and analysis of financial condition and results of operations ” in our annual report on form 10 - k for the year ended june 30, 2021. overview',\n",
       "  '84 report of independent registered public accounting firm to the stockholders and the board of directors of microsoft corporation opinion on the financial statements we have audited the accompanying consolidated balance sheets of microsoft corporation and subsidiaries ( the “ company ” ) as of june 30, 2022 and 2021, the related consolidated statements of income, comprehensive income, cash flows, and stockholders ’ equity, for each of the three years in the period ended june 30, 2022, and the related notes ( collectively referred to as the “ financial statements ” ). in our opinion, the financial statements present fairly, in all mat erial respects, the financial position of the company as of june 30, 2022 and 2021, and the results of its operations and its cash flows for each of the three years in the period ended june 30, 2022, in conformity with accounting principles generally accepted in the united states of america.',\n",
       "  'balance, beginning of period 1, 822 3, 186 ( 340 ) other comprehensive income ( loss ) ( 6, 500 ) ( 1, 374 ) 3, 526 cumulative effect of accounting changes 0 10 0 balance, end of period ( 4, 678 ) 1, 822 3, 186 total stockholders ’ equity $ 166, 542 $ 141, 988 $ 118, 304 cash dividends declared per common share $ 2. 48 $ 2. 24 $ 2. 04 refer to accompanying notes.',\n",
       "  'dividends per share ( quarterly amounts ) $ 0. 56 – 0. 62 $ 0. 51 – 0. 56 $ 0. 46 – 0. 51 interest rates 0. 03 % – 3. 6 % 0. 01 % – 1. 5 % 0. 1 % – 2. 2 %',\n",
       "  'recognition, determining the nature and timing of satisfaction of performance obligations, and determining the standalone selling price ( “ ssp ” ) of performance obligations, variable consideration, and other obligations such as product returns and refunds ; loss contingencies ; product warranties ; the fair value of and / or potential impairment of goodwill and intangible assets for our reporting units ; product life cycles ; useful lives of our tangible and intangible assets ; allowances for doubt ful accounts ; the market value of, and demand for, our inventory ; stock - based compensation forfeiture rates ; when technological feasibility is achieved for our products ; the potential outcome of uncertain tax positions that have been recognized in our consolidated financial statements or tax returns ; and determining the timing and amount of impairments for investments. actual results and outcomes may differ from management ’ s estimates and assumptions due to risks and uncertainties.',\n",
       "  'gross margin and operating income both included an unfavorable foreign currency impact of 2 %. segment results of operations ( in millions, except percentages ) 2022 2021 percentage change revenue productivity and business processes $ 63, 364 $ 53, 915 18 % intelligent cloud 75, 251 60, 080 25 % more personal computing 59, 655 54, 093 10 % total $ 198, 270 $ 168, 088 18 % operating income productivity and business processes $ 29, 687 $ 24, 351 22 % intelligent cloud 32, 721 26, 126 25 % more personal computing 20, 975 19, 439 8 % total $ 83, 383 $ 69, 916 19 %'],\n",
       " ['total liabilities and stockholders ’ equity $ 364, 840 $ 333, 779 refer to accompanying notes.',\n",
       "  '49 balance sheets ( in millions ) june 30, 2022 2021 assets current assets : cash and cash equivalents $ 13, 931 $ 14, 224 short - term investments 90, 826 116, 110 total cash, cash equivalents, and short - term investments 104, 757 130, 334 accounts receivable, net of allowance for doubtful accounts of $ 633 and $ 751 44, 261 38, 043 inventories 3, 742 2, 636 other current assets 16, 924 13, 393 total current assets 169, 684 184, 406 property and equipment, net of accumulated depreciation of $ 59, 660 and $ 51, 351 74, 398 59, 715 operating lease right - of - use assets 13, 148 11, 088 equity investments 6, 891 5, 984 goodwill 67, 524 49, 711 intangible assets, net 11, 298 7, 800 other long - term assets 21, 897 15, 075 total assets $ 364, 840 $ 333, 779 liabilities and stockholders ’ equity current liabilities :',\n",
       "  '52 notes to financial statements note 1 — accounting policies accounting principles our consolidated financial statements and accompanying notes are prepared in accordance with accounting principles generally accepted in the united states of america ( “ gaap ” ). we have recast certain prior period amounts to conform to the current period presentation. the recast of these prior period amounts had no impact on our consolidated balance sheets, consolidated income statements, or consolidated cash flows statements. principles of consolidation the consolidated financial statements include the accounts of microsoft corporation and its subsidiaries. intercompany transactions and balances have been eliminated. estimates and assumptions preparing financial statements requires management to make estimates and assumptions that affect the reported amounts of assets, liabilities, revenue, and expenses. examples of estimates and assumptions include : for revenue',\n",
       "  '69 ( a ) includes intangible assets of $ 4. 4 billion related to nuance. see note 8 – business combinations for further information. ( b ) includes intangible assets of $ 2. 0 billion related to zenimax. see note 8 – business combinations for further information. no material impairments of intangible assets were identified during fiscal years 2022, 2021, or 2020. we estimate that we have no significant residual value related to our intangible assets. the components of intangible assets acquired during the periods presented were as follows : ( in millions ) amount weighted average life amount weighted average life year ended june 30, 2022 2021 technology - based $ 2, 611 4 years $ 1, 628 4 years customer - related 2, 837 9 years 96 4 years marketing - related 233 4 years 625 6 years contract - based 0 0 years 10 3 years total $ 5, 681 7 years $ 2, 359 5 years',\n",
       "  '42 recent accounting guidance refer to note 1 – accounting policies of the notes to financial statements in our fiscal year 2022 form 10 - k for further discussion. critical accounting estimates our consolidated financial statements and accompanying notes are prepared in accordance with gaap. preparing consolidated financial statements requires management to make estimates and assumptions that affect the reported amounts of assets, liabilities, revenue, and expenses. critical accounting estimates are those estimates that involve a significant level of estimation uncertainty and could have a material impact on our financial condition or results of operations. we have critical accounting estimates in the areas of revenue recognition, impairment of investment securities, goodwill, research and development costs, legal and other contingencies, income taxes, and inventories. revenue recognition',\n",
       "  'gross derivative assets and liabilities subject to legally enforceable master netting agreements for which we have elected to offset were $ 343 million and $ 550 million, respectively, as of june 30, 2022, and $ 395 million and $ 335 million, respectively, as of june 30, 2021. the following table presents the fair value of our derivatives instruments on a gross basis : ( in millions ) level 1 level 2 level 3 total june 30, 2022 derivative assets $ 1 $ 349 $ 6 $ 356 derivative liabilities 0 ( 551 ) 0 ( 551 ) june 30, 2021 derivative assets 0 396 3 399 derivative liabilities 0 ( 335 ) 0 ( 335 ) gains ( losses ) on derivative instruments recognized in other income ( expense ), net were as follows : ( in millions ) year ended june 30, 2022 2021 2020 designated as fair value hedging instruments',\n",
       "  '37 general and administrative expenses include payroll, employee benefits, stock - based compensation expense, and other headcount - related expenses associated with finance, legal, facilities, certain human resources and other administrative personnel, certain taxes, and legal and other administrative fees. general and administrative expenses increased $ 793 million or 16 % driven by investments in corporate functions. other income ( expense ), net the components of other income ( expense ), net were as follows : ( in millions ) year ended june 30, 2022 2021 interest and dividends income $ 2, 094 $ 2, 131 interest expense ( 2, 063 ) ( 2, 346 ) net recognized gains on investments 461 1, 232 net gains ( losses ) on derivatives ( 52 ) 17 net gains ( losses ) on foreign currency remeasurements ( 75 ) 54 other, net ( 32 ) 98 total $ 333 $ 1, 186',\n",
       "  'processes $ 24, 190 $ 0 $ 127 $ 24, 317 $ 599 $ ( 105 ) $ 24, 811 intelligent cloud 12, 697 505 54 13, 256 16, 879 ( b ) 47 ( b ) 30, 182 more personal computing 6, 464 5, 556 ( a ) 118 ( a ) 12, 138 648 ( 255 ) 12, 531 total $ 43, 351 $ 6, 061 $ 299 $ 49, 711 $ 18, 126 $ ( 313 ) $ 67, 524 ( a ) includes goodwill of $ 5. 5 billion related to zenimax. see note 8 – business combinations for further information. ( b ) includes goodwill of $ 16. 3 billion related to nuance. see note 8 – business combinations for further information. the measurement periods for the valuation of assets acquired and liabilities assumed end as soon as information on the facts and circumstances that existed as of the acquisition dates becomes available, but do not exceed 12 months. adjustments in purchase price allocations may require a change in the amounts allocated to goodwill during the periods in',\n",
       "  'accounting for transactions that result in a step - up in the tax basis of goodwill. we adopted the standard effective july 1, 2021. adoption of the standard did not have a material impact on our consolidated financial statements. note 2 — earnings per share basic earnings per share ( “ eps ” ) is computed based on the weighted average number of shares of common stock outstanding during the period. diluted eps is computed based on the weighted average number of shares of common stock plus the effect of dilutive potential common shares outstanding during the period using the treasury stock method. dilutive potential common shares include outstanding stock options and stock awards. the components of basic and diluted eps were as follows : ( in millions, except earnings per share ) year ended june 30, 2022 2021 2020 net income available for common shareholders ( a ) $ 72, 738 $ 61, 271 $ 44, 281',\n",
       "  'accounts payable $ 19, 000 $ 15, 163 current portion of long - term debt 2, 749 8, 072 accrued compensation 10, 661 10, 057 short - term income taxes 4, 067 2, 174 short - term unearned revenue 45, 538 41, 525 other current liabilities 13, 067 11, 666 total current liabilities 95, 082 88, 657 long - term debt 47, 032 50, 074 long - term income taxes 26, 069 27, 190 long - term unearned revenue 2, 870 2, 616 deferred income taxes 230 198 operating lease liabilities 11, 489 9, 629 other long - term liabilities 15, 526 13, 427 total liabilities 198, 298 191, 791 commitments and contingencies stockholders ’ equity : common stock and paid - in capital – shares authorized 24, 000 ; outstanding 7, 464 and 7, 519 86, 939 83, 111 retained earnings 84, 281 57, 055 accumulated other comprehensive income ( loss ) ( 4, 678 ) 1, 822 total stockholders ’ equity 166, 542 141, 988'],\n",
       " ['based products and services, the associated revenue will shift from being recognized at the time of the transaction to being recognized over the subscription period or upon consumption, as applicable. material cash requirements and other obligations contractual obligations the following table summarizes the payments due by fiscal year for our outstanding contractual obligations as of june 30, 2022 : ( in millions ) 2023 thereafter total long - term debt : ( a ) principal payments $ 2, 750 $ 52, 761 $ 55, 511 interest payments 1, 468 21, 139 22, 607 construction commitments ( b ) 7, 942 576 8, 518 operating and finance leases, including imputed interest ( c ) 4, 609 44, 045 48, 654 purchase commitments ( d ) 42, 669 2, 985 45, 654 total $ 59, 438 $ 121, 506 $ 180, 944',\n",
       "  'and $ 70. 0 billion, respectively. the estimated fair values are based on level 2 inputs. debt in the table above is comprised of senior unsecured obligations and ranks equally with our other outstanding obligations. interest is paid semi - annually, except for the euro - denominated debt, which is paid annually. cash paid for interest on our debt for fiscal years 2022, 2021, and 2020 was $ 1. 9 billion, $ 2. 0 billion, and $ 2. 4 billion, respectively. the following table outlines maturities of our long - term debt, including the current portion, as of june 30, 2022 : ( in millions ) year ending june 30, 2023 $ 2, 750 2024 5, 250 2025 2, 250 2026 3, 000 2027 8, 000 thereafter 34, 261 total $ 55, 511 note 12 — income taxes provision for income taxes the components of the provision for income taxes were as follows : ( in millions ) year ended june 30, 2022 2021 2020 current taxes',\n",
       "  'write - offs ( 245 ) ( 252 ) ( 178 ) balance, end of period $ 710 $ 798 $ 816 allowance for doubtful accounts included in our consolidated balance sheets : ( in millions ) june 30, 2022 2021 2020 accounts receivable, net of allowance for doubtful accounts $ 633 $ 751 $ 788 other long - term assets 77 47 28 total $ 710 $ 798 $ 816 we record financing receivables when we offer certain of our customers the option to acquire our software products and services offerings through a financing program in a limited number of countries. as of june 30, 2022 and 2021, our financing receivables, net were $ 4. 1 billion and $ 4. 4 billion, respectively, for short - term and long - term financing receivables, which are included in other current assets and other long - term assets in our consolidated balance sheets. we',\n",
       "  '70 ( in millions, issuance by calendar year ) maturities ( calendar year ) stated interest rate effective interest rate june 30, 2022 june 30, 2021 unamortized discount and issuance costs ( 471 ) ( 511 ) hedge fair value adjustments ( b ) ( 68 ) 40 premium on debt exchange ( a ) ( 5, 191 ) ( 5, 293 ) total debt 49, 781 58, 146 current portion of long - term debt ( 2, 749 ) ( 8, 072 ) long - term debt $ 47, 032 $ 50, 074 ( a ) in march 2021 and june 2020, we exchanged a portion of our existing debt at a premium for cash and new debt with longer maturities. the premiums are amortized over the terms of the new debt. ( b ) refer to note 5 – derivatives for further information on the interest rate swaps related to fixed - rate debt. as of june 30, 2022 and 2021, the estimated fair value of long - term debt, including the current portion, was $ 50. 9 billion',\n",
       "  '40 debt proceeds we issue debt to take advantage of favorable pricing and liquidity in the debt markets, reflecting our credit rating and the low interest rate environment. the proceeds of these issuances were or will be used for general corporate purposes, which may include, among other things, funding for working capital, capital expenditures, repurchases of capital stock, acquisitions, and repayment of existing debt. in march 2021 and june 2020, we exchanged a portion of our existing debt at a premium for cash and new debt with longer maturities to take advantage of favorable financing rates in the debt markets, reflecting our credit rating and the low interest rate environment. refer to note 11 – debt of the notes to financial statements in our fiscal year 2022 form 10 - k for further discussion. unearned revenue unearned revenue comprises mainly unearned revenue related to volume licensing programs, which may include',\n",
       "  'accounts payable $ 19, 000 $ 15, 163 current portion of long - term debt 2, 749 8, 072 accrued compensation 10, 661 10, 057 short - term income taxes 4, 067 2, 174 short - term unearned revenue 45, 538 41, 525 other current liabilities 13, 067 11, 666 total current liabilities 95, 082 88, 657 long - term debt 47, 032 50, 074 long - term income taxes 26, 069 27, 190 long - term unearned revenue 2, 870 2, 616 deferred income taxes 230 198 operating lease liabilities 11, 489 9, 629 other long - term liabilities 15, 526 13, 427 total liabilities 198, 298 191, 791 commitments and contingencies stockholders ’ equity : common stock and paid - in capital – shares authorized 24, 000 ; outstanding 7, 464 and 7, 519 86, 939 83, 111 retained earnings 84, 281 57, 055 accumulated other comprehensive income ( loss ) ( 4, 678 ) 1, 822 total stockholders ’ equity 166, 542 141, 988',\n",
       "  'intangible assets amortization expense was $ 2. 0 billion, $ 1. 6 billion, and $ 1. 6 billion for fiscal years 2022, 2021, and 2020, respectively. the following table outlines the estimated future amortization expense related to intangible assets held as of june 30, 2022 : ( in millions ) year ending june 30, 2023 $ 2, 654 2024 2, 385 2025 1, 631 2026 1, 227 2027 809 thereafter 2, 592 total $ 11, 298 note 11 — debt the components of debt were as follows : ( in millions, issuance by calendar year ) maturities ( calendar year ) stated interest rate effective interest rate june 30, 2022 june 30, 2021 2009 issuance of $ 3. 8 billion ( a ) 2039 5. 20 % 5. 24 % $ 520 $ 520 2010 issuance of $ 4. 8 billion ( a ) 2040 4. 50 % 4. 57 % 486 486 2011 issuance of $ 2. 3 billion ( a ) 2041 5. 30 % 5. 36 % 718 718',\n",
       "  '69 ( a ) includes intangible assets of $ 4. 4 billion related to nuance. see note 8 – business combinations for further information. ( b ) includes intangible assets of $ 2. 0 billion related to zenimax. see note 8 – business combinations for further information. no material impairments of intangible assets were identified during fiscal years 2022, 2021, or 2020. we estimate that we have no significant residual value related to our intangible assets. the components of intangible assets acquired during the periods presented were as follows : ( in millions ) amount weighted average life amount weighted average life year ended june 30, 2022 2021 technology - based $ 2, 611 4 years $ 1, 628 4 years customer - related 2, 837 9 years 96 4 years marketing - related 233 4 years 625 6 years contract - based 0 0 years 10 3 years total $ 5, 681 7 years $ 2, 359 5 years',\n",
       "  '75 supplemental cash flow information related to leases was as follows : ( in millions ) year ended june 30, 2022 2021 2020 cash paid for amounts included in the measurement of lease liabilities : operating cash flows from operating leases $ 2, 368 $ 2, 052 $ 1, 829 operating cash flows from finance leases 429 386 336 financing cash flows from finance leases 896 648 409 right - of - use assets obtained in exchange for lease obligations : operating leases 5, 268 4, 380 3, 677 finance leases 4, 234 3, 290 3, 467 supplemental balance sheet information related to leases was as follows : ( in millions, except lease term and discount rate ) june 30, 2022 2021 operating leases operating lease right - of - use assets $ 13, 148 $ 11, 088 other current liabilities $ 2, 228 $ 1, 962 operating lease liabilities 11, 489 9, 629',\n",
       "  '55 as of june 30, 2022 and 2021, other receivables due from suppliers were $ 1. 0 billion and $ 965 million, respectively, and are included in accounts receivable, net in our consolidated balance sheets. as of june 30, 2022 and 2021, long - term accounts receivable, net of allowance for doubtful accounts, was $ 3. 8 billion and $ 3. 4 billion, respectively, and is included in other long - term assets in our consolidated balance sheets. the allowance for doubtful accounts reflects our best estimate of probable losses inherent in the accounts receivable balance. we determine the allowance based on known troubled accounts, historical experience, and other currently available evidence. activity in the allowance for doubtful accounts was as follows : ( in millions ) year ended june 30, 2022 2021 2020 balance, beginning of period $ 798 $ 816 $ 434 charged to costs and other 157 234 560'],\n",
       " ['75 supplemental cash flow information related to leases was as follows : ( in millions ) year ended june 30, 2022 2021 2020 cash paid for amounts included in the measurement of lease liabilities : operating cash flows from operating leases $ 2, 368 $ 2, 052 $ 1, 829 operating cash flows from finance leases 429 386 336 financing cash flows from finance leases 896 648 409 right - of - use assets obtained in exchange for lease obligations : operating leases 5, 268 4, 380 3, 677 finance leases 4, 234 3, 290 3, 467 supplemental balance sheet information related to leases was as follows : ( in millions, except lease term and discount rate ) june 30, 2022 2021 operating leases operating lease right - of - use assets $ 13, 148 $ 11, 088 other current liabilities $ 2, 228 $ 1, 962 operating lease liabilities 11, 489 9, 629',\n",
       "  '39 liquidity and capital resources we expect existing cash, cash equivalents, short - term investments, cash flows from operations, and access to capital markets to continue to be sufficient to fund our operating activities and cash commitments for investing and financing activities, such as dividends, share repurchases, debt maturities, material capital expenditures, and the transition tax related to the tcja, for at least the next 12 months and thereafter for the foreseeable future. cash, cash equivalents, and investments cash, cash equivalents, and short - term investments totaled $ 104. 8 billion and $ 130. 3 billion as of june 30, 2022 and 2021, respectively. equity investments were $ 6. 9 billion and $ 6. 0 billion as of june 30, 2022 and 2021, respectively. our short - term investments are primarily intended to facilitate liquidity and capital preservation. they consist predominantly of',\n",
       "  '84 report of independent registered public accounting firm to the stockholders and the board of directors of microsoft corporation opinion on the financial statements we have audited the accompanying consolidated balance sheets of microsoft corporation and subsidiaries ( the “ company ” ) as of june 30, 2022 and 2021, the related consolidated statements of income, comprehensive income, cash flows, and stockholders ’ equity, for each of the three years in the period ended june 30, 2022, and the related notes ( collectively referred to as the “ financial statements ” ). in our opinion, the financial statements present fairly, in all mat erial respects, the financial position of the company as of june 30, 2022 and 2021, and the results of its operations and its cash flows for each of the three years in the period ended june 30, 2022, in conformity with accounting principles generally accepted in the united states of america.',\n",
       "  'based products and services, the associated revenue will shift from being recognized at the time of the transaction to being recognized over the subscription period or upon consumption, as applicable. material cash requirements and other obligations contractual obligations the following table summarizes the payments due by fiscal year for our outstanding contractual obligations as of june 30, 2022 : ( in millions ) 2023 thereafter total long - term debt : ( a ) principal payments $ 2, 750 $ 52, 761 $ 55, 511 interest payments 1, 468 21, 139 22, 607 construction commitments ( b ) 7, 942 576 8, 518 operating and finance leases, including imputed interest ( c ) 4, 609 44, 045 48, 654 purchase commitments ( d ) 42, 669 2, 985 45, 654 total $ 59, 438 $ 121, 506 $ 180, 944',\n",
       "  '50 cash flows statements ( in millions ) year ended june 30, 2022 2021 2020 operations net income $ 72, 738 $ 61, 271 $ 44, 281 adjustments to reconcile net income to net cash from operations : depreciation, amortization, and other 14, 460 11, 686 12, 796 stock - based compensation expense 7, 502 6, 118 5, 289 net recognized gains on investments and derivatives ( 409 ) ( 1, 249 ) ( 219 ) deferred income taxes ( 5, 702 ) ( 150 ) 11 changes in operating assets and liabilities : accounts receivable ( 6, 834 ) ( 6, 481 ) ( 2, 577 ) inventories ( 1, 123 ) ( 737 ) 168 other current assets ( 709 ) ( 932 ) ( 2, 330 ) other long - term assets ( 2, 805 ) ( 3, 459 ) ( 1, 037 ) accounts payable 2, 943 2, 798 3, 018 unearned revenue 5, 109 4, 633 2, 212 income taxes 696 ( 2, 309 ) ( 3, 631 ) other current liabilities 2, 344 4, 149 1, 346',\n",
       "  'circumstances could include a significant change in the business climate, legal factors, operating performance indicators, competition, or sale or disposition of a significant portion of a reporting unit. application of the goodwill impairment test requires judgment, including the identification of reporting units, assignment of assets and liabilities to reporting units, assignment of goodwill to reporting units, and determination of the fair value of each reporting unit. the fair value of each reporting unit is estimated primarily through the use of a discounted cash flow methodology. this analysis requires significant judgments, including estimation of future cash flows, which is dependent on internal forecasts, estimation of the long - term rate of growth for our business, estimation of the useful life over which cash flows will occur, and determination of our weighted average cost of capital.',\n",
       "  '82 in addition, certain costs incurred at a corporate level that are identifiable and that benefit our segments are allocated to them. these allocated costs include legal, including settlements and fines, information technology, human resources, finance, excise taxes, field selling, shared facilities services, and customer service and support. each allocation is measured differently based on the specific facts and circumstances of the costs being allocated. segment revenue and operating income were as follows during the periods presented : ( in millions ) year ended june 30, 2022 2021 2020 revenue productivity and business processes $ 63, 364 $ 53, 915 $ 46, 398 intelligent cloud 75, 251 60, 080 48, 366 more personal computing 59, 655 54, 093 48, 251 total $ 198, 270 $ 168, 088 $ 143, 015 operating income',\n",
       "  'independent recalculation of prices where appropriate. cash flows cash from operations increased $ 12. 3 billion to $ 89. 0 billion for fiscal year 2022, mainly due to an increase in cash received from customers, offset in part by an increase in cash paid to suppliers and employees. cash used in financing increased $ 10. 4 billion to $ 58. 9 billion for fiscal year 2022, mainly due to a $ 5. 3 billion increase in common stock repurchases and a $ 5. 3 billion increase in repayments of debt. cash used in investing increased $ 2. 7 billion to $ 30. 3 billion for fiscal year 2022, mainly due to a $ 13. 1 billion increase in cash used for acquisitions of companies, net of cash acquired, and purchases of intangible and other assets, and a $ 3. 3 billion increase in additions to property and equipment, offset in part by a $ 15. 6 billion increase in cash from net investment purchases, sales, and maturities.',\n",
       "  '30 management ’ s discussion and analysis of financial condition and results of operations the following management ’ s discussion and analysis of financial condition and results of operations ( “ md & a ” ) is intended to help the reader understand the results of operations and financial condition of microsoft corporation. md & a is provided as a supplement to, and should be read in conjunction with, our consolidated financial statements and the accompanying notes to financial statements in our fiscal year 2022 form 10 - k. this section generally discusses the results of our operations for the year ended june 30, 2022 compared to the year ended june 30, 2021. for a discussion of the year ended june 30, 2021 compared to the year ended june 30, 2020, please refer to in our fiscal year 2022 form 10 - k, “ management ’ s discussion and analysis of financial condition and results of operations ” in our annual report on form 10 - k for the year ended june 30, 2021. overview',\n",
       "  '81 note 19 — segment information and geographic data in its operation of the business, management, including our chief operating decision maker, who is also our chief executive officer, reviews certain financial information, including segmented internal profit and loss statements prepared on a basis not consistent with gaap. during the periods presented, we reported our financial performance based on the following segments : productivity and business processes, intelligent cloud, and more personal computing. our reportable segments are described below. productivity and business processes our productivity and business processes segment consists of products and services in our portfolio of productivity, communication, and information services, spanning a variety of devices and platforms. this segment primarily comprises : • office commercial ( office 365 subscriptions, the office 365 portion of microsoft 365 commercial'],\n",
       " ['total liabilities and stockholders ’ equity $ 364, 840 $ 333, 779 refer to accompanying notes.',\n",
       "  '10 stock performance comparison of 5 year cumulative total return * among microsoft corporation, the s & p 500 index and the nasdaq computer index 6 / 17 6 / 18 6 / 19 6 / 20 6 / 21 6 / 22 microsoft corporation 100. 00 145. 84 201. 36 309. 69 416. 25 397. 90 s & p 500 100. 00 114. 37 126. 29 135. 77 191. 15 170. 86 nasdaq computer 100. 00 131. 27 139. 29 196. 40 288. 13 228. 71 * $ 100 invested on 6 / 30 / 17 in stock or index, including reinvestment of dividends. fiscal year ending june 30.',\n",
       "  '84 report of independent registered public accounting firm to the stockholders and the board of directors of microsoft corporation opinion on the financial statements we have audited the accompanying consolidated balance sheets of microsoft corporation and subsidiaries ( the “ company ” ) as of june 30, 2022 and 2021, the related consolidated statements of income, comprehensive income, cash flows, and stockholders ’ equity, for each of the three years in the period ended june 30, 2022, and the related notes ( collectively referred to as the “ financial statements ” ). in our opinion, the financial statements present fairly, in all mat erial respects, the financial position of the company as of june 30, 2022 and 2021, and the results of its operations and its cash flows for each of the three years in the period ended june 30, 2022, in conformity with accounting principles generally accepted in the united states of america.',\n",
       "  'balance, beginning of period 1, 822 3, 186 ( 340 ) other comprehensive income ( loss ) ( 6, 500 ) ( 1, 374 ) 3, 526 cumulative effect of accounting changes 0 10 0 balance, end of period ( 4, 678 ) 1, 822 3, 186 total stockholders ’ equity $ 166, 542 $ 141, 988 $ 118, 304 cash dividends declared per common share $ 2. 48 $ 2. 24 $ 2. 04 refer to accompanying notes.',\n",
       "  '51 stockholders ’ equity statements ( in millions, except per share amounts ) year ended june 30, 2022 2021 2020 common stock and paid - in capital balance, beginning of period $ 83, 111 $ 80, 552 $ 78, 520 common stock issued 1, 841 1, 963 1, 343 common stock repurchased ( 5, 688 ) ( 5, 539 ) ( 4, 599 ) stock - based compensation expense 7, 502 6, 118 5, 289 other, net 173 17 ( 1 ) balance, end of period 86, 939 83, 111 80, 552 retained earnings balance, beginning of period 57, 055 34, 566 24, 150 net income 72, 738 61, 271 44, 281 common stock cash dividends ( 18, 552 ) ( 16, 871 ) ( 15, 483 ) common stock repurchased ( 26, 960 ) ( 21, 879 ) ( 18, 382 ) cumulative effect of accounting changes 0 ( 32 ) 0 balance, end of period 84, 281 57, 055 34, 566 accumulated other comprehensive income ( loss )',\n",
       "  'accounting for transactions that result in a step - up in the tax basis of goodwill. we adopted the standard effective july 1, 2021. adoption of the standard did not have a material impact on our consolidated financial statements. note 2 — earnings per share basic earnings per share ( “ eps ” ) is computed based on the weighted average number of shares of common stock outstanding during the period. diluted eps is computed based on the weighted average number of shares of common stock plus the effect of dilutive potential common shares outstanding during the period using the treasury stock method. dilutive potential common shares include outstanding stock options and stock awards. the components of basic and diluted eps were as follows : ( in millions, except earnings per share ) year ended june 30, 2022 2021 2020 net income available for common shareholders ( a ) $ 72, 738 $ 61, 271 $ 44, 281',\n",
       "  'equity 10 % decrease in equity market prices ( 637 ) earnings',\n",
       "  '30 management ’ s discussion and analysis of financial condition and results of operations the following management ’ s discussion and analysis of financial condition and results of operations ( “ md & a ” ) is intended to help the reader understand the results of operations and financial condition of microsoft corporation. md & a is provided as a supplement to, and should be read in conjunction with, our consolidated financial statements and the accompanying notes to financial statements in our fiscal year 2022 form 10 - k. this section generally discusses the results of our operations for the year ended june 30, 2022 compared to the year ended june 30, 2021. for a discussion of the year ended june 30, 2021 compared to the year ended june 30, 2020, please refer to in our fiscal year 2022 form 10 - k, “ management ’ s discussion and analysis of financial condition and results of operations ” in our annual report on form 10 - k for the year ended june 30, 2021. overview',\n",
       "  'other long - term liabilities 825 1, 402 1, 348 net cash from operations 89, 035 76, 740 60, 675 financing cash premium on debt exchange 0 ( 1, 754 ) ( 3, 417 ) repayments of debt ( 9, 023 ) ( 3, 750 ) ( 5, 518 ) common stock issued 1, 841 1, 693 1, 343 common stock repurchased ( 32, 696 ) ( 27, 385 ) ( 22, 968 ) common stock cash dividends paid ( 18, 135 ) ( 16, 521 ) ( 15, 137 ) other, net ( 863 ) ( 769 ) ( 334 ) net cash used in financing ( 58, 876 ) ( 48, 486 ) ( 46, 031 ) investing additions to property and equipment ( 23, 886 ) ( 20, 622 ) ( 15, 441 ) acquisition of companies, net of cash acquired, and purchases of intangible and other assets ( 22, 038 ) ( 8, 909 ) ( 2, 521 ) purchases of investments ( 26, 456 ) ( 62, 924 ) ( 77, 190 ) maturities of investments 16, 451 51, 792 66, 44',\n",
       "  '8 financial review issuer purchases of equity securities, dividends, and stock performance market and stockholders our common stock is traded on the nasdaq stock market under the symbol msft. on july 25, 2022, there were 86, 465 registered holders of record of our common stock. share repurchases and dividends share repurchases on september 20, 2016, our board of directors approved a share repurchase program authorizing up to $ 40. 0 billion in share repurchases. this share repurchase program commenced in december 2016 and was completed in february 2020. on september 18, 2019, our board of directors approved a share repurchase program authorizing up to $ 40. 0 billion in share repurchases. this share repurchase program commenced in february 2020 and was completed in november 2021. on september 14, 2021, our board of directors approved a share repurchase program authorizing up to $ 60. 0 billion in'],\n",
       " ['net income $ 72, 738 $ 61, 271 $ 44, 281 earnings per share : basic $ 9. 70 $ 8. 12 $ 5. 82 diluted $ 9. 65 $ 8. 05 $ 5. 76 weighted average shares outstanding : basic 7, 496 7, 547 7, 610 diluted 7, 540 7, 608 7, 683 refer to accompanying notes.',\n",
       "  'accounting for transactions that result in a step - up in the tax basis of goodwill. we adopted the standard effective july 1, 2021. adoption of the standard did not have a material impact on our consolidated financial statements. note 2 — earnings per share basic earnings per share ( “ eps ” ) is computed based on the weighted average number of shares of common stock outstanding during the period. diluted eps is computed based on the weighted average number of shares of common stock plus the effect of dilutive potential common shares outstanding during the period using the treasury stock method. dilutive potential common shares include outstanding stock options and stock awards. the components of basic and diluted eps were as follows : ( in millions, except earnings per share ) year ended june 30, 2022 2021 2020 net income available for common shareholders ( a ) $ 72, 738 $ 61, 271 $ 44, 281',\n",
       "  'total liabilities and stockholders ’ equity $ 364, 840 $ 333, 779 refer to accompanying notes.',\n",
       "  'balance, beginning of period 1, 822 3, 186 ( 340 ) other comprehensive income ( loss ) ( 6, 500 ) ( 1, 374 ) 3, 526 cumulative effect of accounting changes 0 10 0 balance, end of period ( 4, 678 ) 1, 822 3, 186 total stockholders ’ equity $ 166, 542 $ 141, 988 $ 118, 304 cash dividends declared per common share $ 2. 48 $ 2. 24 $ 2. 04 refer to accompanying notes.',\n",
       "  'weighted average outstanding shares of common stock ( b ) 7, 496 7, 547 7, 610 dilutive effect of stock - based awards 44 61 73 common stock and common stock equivalents ( c ) 7, 540 7, 608 7, 683 earnings per share basic ( a / b ) $ 9. 70 $ 8. 12 $ 5. 82 diluted ( a / c ) $ 9. 65 $ 8. 05 $ 5. 76 anti - dilutive stock - based awards excluded from the calculations of diluted eps were immaterial during the periods presented.',\n",
       "  '10 stock performance comparison of 5 year cumulative total return * among microsoft corporation, the s & p 500 index and the nasdaq computer index 6 / 17 6 / 18 6 / 19 6 / 20 6 / 21 6 / 22 microsoft corporation 100. 00 145. 84 201. 36 309. 69 416. 25 397. 90 s & p 500 100. 00 114. 37 126. 29 135. 77 191. 15 170. 86 nasdaq computer 100. 00 131. 27 139. 29 196. 40 288. 13 228. 71 * $ 100 invested on 6 / 30 / 17 in stock or index, including reinvestment of dividends. fiscal year ending june 30.',\n",
       "  'excluding tac, growth revenue from search and news advertising excluding traffic acquisition costs ( “ tac ” ) paid to bing ads network publishers and news partners summary results of operations ( in millions, except percentages and per share amounts ) 2022 2021 percentage change revenue $ 198, 270 $ 168, 088 18 % gross margin 135, 620 115, 856 17 % operating income 83, 383 69, 916 19 % net income 72, 738 61, 271 19 % diluted earnings per share 9. 65 8. 05 20 % adjusted net income ( non - gaap ) 69, 447 60, 651 15 % adjusted diluted earnings per share ( non - gaap ) 9. 21 7. 97 16 % adjusted net income and adjusted diluted earnings per share ( “ eps ” ) are non - gaap financial measures which exclude the net income tax benefit related to transfer of intangible properties in the first quarter of fiscal year 2022 and the',\n",
       "  'dividends per share ( quarterly amounts ) $ 0. 56 – 0. 62 $ 0. 51 – 0. 56 $ 0. 46 – 0. 51 interest rates 0. 03 % – 3. 6 % 0. 01 % – 1. 5 % 0. 1 % – 2. 2 %',\n",
       "  '51 stockholders ’ equity statements ( in millions, except per share amounts ) year ended june 30, 2022 2021 2020 common stock and paid - in capital balance, beginning of period $ 83, 111 $ 80, 552 $ 78, 520 common stock issued 1, 841 1, 963 1, 343 common stock repurchased ( 5, 688 ) ( 5, 539 ) ( 4, 599 ) stock - based compensation expense 7, 502 6, 118 5, 289 other, net 173 17 ( 1 ) balance, end of period 86, 939 83, 111 80, 552 retained earnings balance, beginning of period 57, 055 34, 566 24, 150 net income 72, 738 61, 271 44, 281 common stock cash dividends ( 18, 552 ) ( 16, 871 ) ( 15, 483 ) common stock repurchased ( 26, 960 ) ( 21, 879 ) ( 18, 382 ) cumulative effect of accounting changes 0 ( 32 ) 0 balance, end of period 84, 281 57, 055 34, 566 accumulated other comprehensive income ( loss )',\n",
       "  'equity 10 % decrease in equity market prices ( 637 ) earnings'],\n",
       " ['• operating expenses increased $ 1. 5 billion or 14 % driven by investments in gaming, search and news advertising, and windows marketing. operating expenses research and development ( in millions, except percentages ) 2022 2021 percentage change research and development $ 24, 512 $ 20, 716 18 % as a percent of revenue 12 % 12 % 0ppt research and development expenses include payroll, employee benefits, stock - based compensation expense, and other headcount - related expenses associated with product development. research and development expenses also include third - party development and programming costs, localization costs incurred to translate software for international markets, and the amortization of purchased software code and services content. research and development expenses increased $ 3. 8 billion or 18 % driven by investments in cloud engineering, gaming, and linkedin. sales and marketing',\n",
       "  'but generally include parts and labor over a period generally ranging from 90 days to three years. for software warranties, we estimate the costs to provide bug fixes, such as security patches, over the estimated life of the software. we regularly reevaluate our estimates to assess the adequacy of the recorded warranty liabilities and adjust the amounts as necessary. research and development research and development expenses include payroll, employee benefits, stock - based compensation expense, and other headcount - related expenses associated with product development. research and development expenses also include third - party development and programming costs, localization costs incurred to translate software for international markets, and the amortization of purchased software code and services content. such costs related to software development are included in research and development expense until the point that technological feasibility is reached, which for our',\n",
       "  'the estimates used to calculate the fair value of a reporting unit change from year to year based on operating results, market conditions, and other factors. changes in these estimates and assumptions could materially affect the determination of fair value and goodwill impairment for each reporting unit. research and development costs costs incurred internally in researching and developing a computer software product are charged to expense until technological feasibility has been established for the product. once technological feasibility is established, software costs are capitalized until the product is available for general release to customers. judgment is required in determining when technological feasibility of a product is established. we have determined that technological feasibility for our software products is reached after all high - risk development issues have been resolved through coding and testing. generally, this',\n",
       "  'company and with countries over 10 % of the total shown separately, were as follows : ( in millions ) june 30, 2022 2021 2020 united states $ 106, 430 $ 76, 153 $ 60, 789 ireland 15, 505 13, 303 12, 734 other countries 44, 433 38, 858 29, 770 total $ 166, 368 $ 128, 314 $ 103, 293',\n",
       "  'gross margin increased $ 19. 8 billion or 17 % driven by growth across each of our segments. • gross margin percentage decreased slightly. excluding the impact of the fiscal year 2021 change in accounting estimate for the useful lives of our server and network equipment, gross margin percentage increased 1 point driven by improvement in productivity and business processes. • microsoft cloud gross margin percentage decreased slightly to 70 %. excluding the impact of the change in accounting estimate, microsoft cloud gross margin percentage increased 3 points driven by improvement across our cloud services, offset in part by sales mix shift to azure and other cloud services. operating expenses increased $ 6. 3 billion or 14 % driven by investments in cloud engineering, linkedin, gaming, and commercial sales. key changes in operating expenses were : • research and development expenses increased $ 3. 8 billion or 18 % driven by investments in cloud',\n",
       "  '10 stock performance comparison of 5 year cumulative total return * among microsoft corporation, the s & p 500 index and the nasdaq computer index 6 / 17 6 / 18 6 / 19 6 / 20 6 / 21 6 / 22 microsoft corporation 100. 00 145. 84 201. 36 309. 69 416. 25 397. 90 s & p 500 100. 00 114. 37 126. 29 135. 77 191. 15 170. 86 nasdaq computer 100. 00 131. 27 139. 29 196. 40 288. 13 228. 71 * $ 100 invested on 6 / 30 / 17 in stock or index, including reinvestment of dividends. fiscal year ending june 30.',\n",
       "  'competitive in local markets and enables us to continue to attract top talent from across the world. we plan to continue to make significant investments in a broad range of product research and development activities, and as appropriate we will coordinate our research and development across operating segments and leverage the results across the company. in addition to our main research and development operations, we also operate microsoft research. microsoft research is one of the world ’ s largest corporate research organizations and works in close collaboration with top universities around the world to advance the state - of - the - art in computer science and a broad range of other disciplines, providing us a unique perspective on future trends and contributing to our innovation.',\n",
       "  '0 billion ( a ) 2050 – 2060 2. 53 % – 2. 68 % 2. 53 % – 2. 68 % 10, 000 10, 000 2021 issuance of $ 8. 2 billion ( a ) 2052 – 2062 2. 92 % – 3. 04 % 2. 92 % – 3. 04 % 8, 185 8, 185 total face value 55, 511 63, 910',\n",
       "  'revenue, classified by significant product and service offerings, was as follows : ( in millions ) year ended june 30, 2022 2021 2020 server products and cloud services $ 67, 321 $ 52, 589 $ 41, 379 office products and cloud services 44, 862 39, 872 35, 316 windows 24, 761 22, 488 21, 510 gaming 16, 230 15, 370 11, 575 linkedin 13, 816 10, 289 8, 077 search and news advertising 11, 591 9, 267 8, 524 enterprise services 7, 407 6, 943 6, 409 devices 6, 991 6, 791 6, 457 other 5, 291 4, 479 3, 768 total $ 198, 270 $ 168, 088 $ 143, 015 we have recast certain previously reported amounts in the table above to conform to the way we internally manage and monitor our business.',\n",
       "  '69 ( a ) includes intangible assets of $ 4. 4 billion related to nuance. see note 8 – business combinations for further information. ( b ) includes intangible assets of $ 2. 0 billion related to zenimax. see note 8 – business combinations for further information. no material impairments of intangible assets were identified during fiscal years 2022, 2021, or 2020. we estimate that we have no significant residual value related to our intangible assets. the components of intangible assets acquired during the periods presented were as follows : ( in millions ) amount weighted average life amount weighted average life year ended june 30, 2022 2021 technology - based $ 2, 611 4 years $ 1, 628 4 years customer - related 2, 837 9 years 96 4 years marketing - related 233 4 years 625 6 years contract - based 0 0 years 10 3 years total $ 5, 681 7 years $ 2, 359 5 years'],\n",
       " ['our business can deliver success. operating segments we operate our business and report our financial performance using three segments : productivity and business processes, intelligent cloud, and more personal computing. our segments provide management with a comprehensive financial view of our key businesses. the segments enable the alignment of strategies and objectives across the development, sales, marketing, and services organizations, and they provide a framework for timely and rational allocation of resources within businesses. additional information on our operating segments and geographic and product information is contained in note 19 – segment information and geographic data of the notes to financial statements in our fiscal year 2022 form 10 - k. our reportable segments are described below.',\n",
       "  'refer to note 19 – segment information and geographic data for further information, including revenue by significant product and service offering. significant judgments our contracts with customers often include promises to transfer multiple products and services to a customer. determining whether products and services are considered distinct performance obligations that should be',\n",
       "  '81 note 19 — segment information and geographic data in its operation of the business, management, including our chief operating decision maker, who is also our chief executive officer, reviews certain financial information, including segmented internal profit and loss statements prepared on a basis not consistent with gaap. during the periods presented, we reported our financial performance based on the following segments : productivity and business processes, intelligent cloud, and more personal computing. our reportable segments are described below. productivity and business processes our productivity and business processes segment consists of products and services in our portfolio of productivity, communication, and information services, spanning a variety of devices and platforms. this segment primarily comprises : • office commercial ( office 365 subscriptions, the office 365 portion of microsoft 365 commercial',\n",
       "  '82 in addition, certain costs incurred at a corporate level that are identifiable and that benefit our segments are allocated to them. these allocated costs include legal, including settlements and fines, information technology, human resources, finance, excise taxes, field selling, shared facilities services, and customer service and support. each allocation is measured differently based on the specific facts and circumstances of the costs being allocated. segment revenue and operating income were as follows during the periods presented : ( in millions ) year ended june 30, 2022 2021 2020 revenue productivity and business processes $ 63, 364 $ 53, 915 $ 46, 398 intelligent cloud 75, 251 60, 080 48, 366 more personal computing 59, 655 54, 093 48, 251 total $ 198, 270 $ 168, 088 $ 143, 015 operating income',\n",
       "  '32 services. the metrics are disclosed in the md & a or the notes to financial statements in our fiscal year 2022 form 10 - k. financial metrics are calculated based on financial results prepared in accordance with accounting principles generally accepted in the united states of america ( “ gaap ” ), and growth comparisons relate to the corresponding period of last fiscal year. in the first quarter of fiscal year 2022, we made updates to the presentation and method of calculation for certain metrics, most notably changes to incorporate all current and anticipated revenue streams within our office consumer and server products and cloud services metrics and changes to align with how we manage our windows oem and search and news advertising businesses. none of these changes had a material impact on previously reported amounts in our md & a. in the third quarter of fiscal year 2022, we completed our acquisition of nuance. nuance is included in all commercial',\n",
       "  'refer to risk factors in our fiscal year 2022 form 10 - k for a discussion of these factors and other risks. seasonality our revenue fluctuates quarterly and is generally higher in the second and fourth quarters of our fiscal year. second quarter revenue is driven by corporate year - end spending trends in our major markets and holiday season spending by consumers, and fourth quarter revenue is driven by the volume of multi - year on - premises contracts executed during the period. reportable segments we report our financial performance based on the following segments : productivity and business processes, intelligent cloud, and more personal computing. the segment amounts included in md & a are presented on a basis consistent with our internal management reporting. additional information on our reportable segments is contained in note 19 – segment information and geographic data of the notes to financial statements in our fiscal year 2022 form 10 - k. metrics',\n",
       "  '85 revenue recognition – refer to note 1 to the financial statements critical audit matter description the company recognizes revenue upon transfer of control of promised products or services to customers in an amount that reflects the consideration the company expects to receive in exchange for those products or services. the company offers customers the ability to acquire multiple licenses of software products and services, including cloud - based services, in its customer agreements through its volume licensing programs. significant judgment is exercised by the company in determining revenue recognition for these customer agreements, and includes the following : • determination of whether products and services are considered distinct performance obligations that should be accounted for separately versus together, such as software licenses and related services that are sold with cloud - based services.',\n",
       "  '( including games and in - game content ), xbox game pass and other subscriptions, xbox cloud gaming, third - party disc royalties, advertising, and other cloud services. • search and news advertising. revenue and costs are generally directly attributed to our segments. however, due to the integrated structure of our business, certain revenue recognized and costs incurred by one segment may benefit other segments. revenue from certain contracts is allocated among the segments based on the relative value of the underlying products and services, which can include allocation based on actual prices charged, prices when sold separately, or estimated costs plus a profit margin. cost of revenue is allocated in certain cases based on a relative revenue methodology. operating expenses that are allocated primarily include those relating to marketing of products and services from which multiple segments benefit and are generally allocated based on relative gross margin.',\n",
       "  '30 management ’ s discussion and analysis of financial condition and results of operations the following management ’ s discussion and analysis of financial condition and results of operations ( “ md & a ” ) is intended to help the reader understand the results of operations and financial condition of microsoft corporation. md & a is provided as a supplement to, and should be read in conjunction with, our consolidated financial statements and the accompanying notes to financial statements in our fiscal year 2022 form 10 - k. this section generally discusses the results of our operations for the year ended june 30, 2022 compared to the year ended june 30, 2021. for a discussion of the year ended june 30, 2021 compared to the year ended june 30, 2020, please refer to in our fiscal year 2022 form 10 - k, “ management ’ s discussion and analysis of financial condition and results of operations ” in our annual report on form 10 - k for the year ended june 30, 2021. overview',\n",
       "  '27 distribution, sales, and marketing we market and distribute our products and services through the following channels : oems, direct, and distributors and resellers. our sales force performs a variety of functions, including working directly with commercial enterprises and public - sector organizations worldwide to identify and meet their technology and digital transformation requirements ; managing oem relationships ; and supporting system integrators, independent software vendors, and other partners who engage directly with our customers to perform sales, consulting, and fulfillment functions for our products and services. oems we distribute our products and services through oems that pre - install our software on new devices and servers they sell. the largest component of the oem business is the windows operating system pre - installed on devices. oems also sell'],\n",
       " ['company and with countries over 10 % of the total shown separately, were as follows : ( in millions ) june 30, 2022 2021 2020 united states $ 106, 430 $ 76, 153 $ 60, 789 ireland 15, 505 13, 303 12, 734 other countries 44, 433 38, 858 29, 770 total $ 166, 368 $ 128, 314 $ 103, 293',\n",
       "  '10 stock performance comparison of 5 year cumulative total return * among microsoft corporation, the s & p 500 index and the nasdaq computer index 6 / 17 6 / 18 6 / 19 6 / 20 6 / 21 6 / 22 microsoft corporation 100. 00 145. 84 201. 36 309. 69 416. 25 397. 90 s & p 500 100. 00 114. 37 126. 29 135. 77 191. 15 170. 86 nasdaq computer 100. 00 131. 27 139. 29 196. 40 288. 13 228. 71 * $ 100 invested on 6 / 30 / 17 in stock or index, including reinvestment of dividends. fiscal year ending june 30.',\n",
       "  '##9 sales of investments 28, 443 14, 008 17, 721 other, net ( 2, 825 ) ( 922 ) ( 1, 241 )',\n",
       "  'net income $ 72, 738 $ 61, 271 $ 44, 281 earnings per share : basic $ 9. 70 $ 8. 12 $ 5. 82 diluted $ 9. 65 $ 8. 05 $ 5. 76 weighted average shares outstanding : basic 7, 496 7, 547 7, 610 diluted 7, 540 7, 608 7, 683 refer to accompanying notes.',\n",
       "  'weighted average outstanding shares of common stock ( b ) 7, 496 7, 547 7, 610 dilutive effect of stock - based awards 44 61 73 common stock and common stock equivalents ( c ) 7, 540 7, 608 7, 683 earnings per share basic ( a / b ) $ 9. 70 $ 8. 12 $ 5. 82 diluted ( a / c ) $ 9. 65 $ 8. 05 $ 5. 76 anti - dilutive stock - based awards excluded from the calculations of diluted eps were immaterial during the periods presented.',\n",
       "  '30 management ’ s discussion and analysis of financial condition and results of operations the following management ’ s discussion and analysis of financial condition and results of operations ( “ md & a ” ) is intended to help the reader understand the results of operations and financial condition of microsoft corporation. md & a is provided as a supplement to, and should be read in conjunction with, our consolidated financial statements and the accompanying notes to financial statements in our fiscal year 2022 form 10 - k. this section generally discusses the results of our operations for the year ended june 30, 2022 compared to the year ended june 30, 2021. for a discussion of the year ended june 30, 2021 compared to the year ended june 30, 2020, please refer to in our fiscal year 2022 form 10 - k, “ management ’ s discussion and analysis of financial condition and results of operations ” in our annual report on form 10 - k for the year ended june 30, 2021. overview',\n",
       "  'total liabilities and stockholders ’ equity $ 364, 840 $ 333, 779 refer to accompanying notes.',\n",
       "  'revenue, classified by significant product and service offerings, was as follows : ( in millions ) year ended june 30, 2022 2021 2020 server products and cloud services $ 67, 321 $ 52, 589 $ 41, 379 office products and cloud services 44, 862 39, 872 35, 316 windows 24, 761 22, 488 21, 510 gaming 16, 230 15, 370 11, 575 linkedin 13, 816 10, 289 8, 077 search and news advertising 11, 591 9, 267 8, 524 enterprise services 7, 407 6, 943 6, 409 devices 6, 991 6, 791 6, 457 other 5, 291 4, 479 3, 768 total $ 198, 270 $ 168, 088 $ 143, 015 we have recast certain previously reported amounts in the table above to conform to the way we internally manage and monitor our business.',\n",
       "  'balance, beginning of period 1, 822 3, 186 ( 340 ) other comprehensive income ( loss ) ( 6, 500 ) ( 1, 374 ) 3, 526 cumulative effect of accounting changes 0 10 0 balance, end of period ( 4, 678 ) 1, 822 3, 186 total stockholders ’ equity $ 166, 542 $ 141, 988 $ 118, 304 cash dividends declared per common share $ 2. 48 $ 2. 24 $ 2. 04 refer to accompanying notes.',\n",
       "  '69 ( a ) includes intangible assets of $ 4. 4 billion related to nuance. see note 8 – business combinations for further information. ( b ) includes intangible assets of $ 2. 0 billion related to zenimax. see note 8 – business combinations for further information. no material impairments of intangible assets were identified during fiscal years 2022, 2021, or 2020. we estimate that we have no significant residual value related to our intangible assets. the components of intangible assets acquired during the periods presented were as follows : ( in millions ) amount weighted average life amount weighted average life year ended june 30, 2022 2021 technology - based $ 2, 611 4 years $ 1, 628 4 years customer - related 2, 837 9 years 96 4 years marketing - related 233 4 years 625 6 years contract - based 0 0 years 10 3 years total $ 5, 681 7 years $ 2, 359 5 years'],\n",
       " ['10 stock performance comparison of 5 year cumulative total return * among microsoft corporation, the s & p 500 index and the nasdaq computer index 6 / 17 6 / 18 6 / 19 6 / 20 6 / 21 6 / 22 microsoft corporation 100. 00 145. 84 201. 36 309. 69 416. 25 397. 90 s & p 500 100. 00 114. 37 126. 29 135. 77 191. 15 170. 86 nasdaq computer 100. 00 131. 27 139. 29 196. 40 288. 13 228. 71 * $ 100 invested on 6 / 30 / 17 in stock or index, including reinvestment of dividends. fiscal year ending june 30.',\n",
       "  'recognition, determining the nature and timing of satisfaction of performance obligations, and determining the standalone selling price ( “ ssp ” ) of performance obligations, variable consideration, and other obligations such as product returns and refunds ; loss contingencies ; product warranties ; the fair value of and / or potential impairment of goodwill and intangible assets for our reporting units ; product life cycles ; useful lives of our tangible and intangible assets ; allowances for doubt ful accounts ; the market value of, and demand for, our inventory ; stock - based compensation forfeiture rates ; when technological feasibility is achieved for our products ; the potential outcome of uncertain tax positions that have been recognized in our consolidated financial statements or tax returns ; and determining the timing and amount of impairments for investments. actual results and outcomes may differ from management ’ s estimates and assumptions due to risks and uncertainties.',\n",
       "  '30 management ’ s discussion and analysis of financial condition and results of operations the following management ’ s discussion and analysis of financial condition and results of operations ( “ md & a ” ) is intended to help the reader understand the results of operations and financial condition of microsoft corporation. md & a is provided as a supplement to, and should be read in conjunction with, our consolidated financial statements and the accompanying notes to financial statements in our fiscal year 2022 form 10 - k. this section generally discusses the results of our operations for the year ended june 30, 2022 compared to the year ended june 30, 2021. for a discussion of the year ended june 30, 2021 compared to the year ended june 30, 2020, please refer to in our fiscal year 2022 form 10 - k, “ management ’ s discussion and analysis of financial condition and results of operations ” in our annual report on form 10 - k for the year ended june 30, 2021. overview',\n",
       "  '84 report of independent registered public accounting firm to the stockholders and the board of directors of microsoft corporation opinion on the financial statements we have audited the accompanying consolidated balance sheets of microsoft corporation and subsidiaries ( the “ company ” ) as of june 30, 2022 and 2021, the related consolidated statements of income, comprehensive income, cash flows, and stockholders ’ equity, for each of the three years in the period ended june 30, 2022, and the related notes ( collectively referred to as the “ financial statements ” ). in our opinion, the financial statements present fairly, in all mat erial respects, the financial position of the company as of june 30, 2022 and 2021, and the results of its operations and its cash flows for each of the three years in the period ended june 30, 2022, in conformity with accounting principles generally accepted in the united states of america.',\n",
       "  '32 services. the metrics are disclosed in the md & a or the notes to financial statements in our fiscal year 2022 form 10 - k. financial metrics are calculated based on financial results prepared in accordance with accounting principles generally accepted in the united states of america ( “ gaap ” ), and growth comparisons relate to the corresponding period of last fiscal year. in the first quarter of fiscal year 2022, we made updates to the presentation and method of calculation for certain metrics, most notably changes to incorporate all current and anticipated revenue streams within our office consumer and server products and cloud services metrics and changes to align with how we manage our windows oem and search and news advertising businesses. none of these changes had a material impact on previously reported amounts in our md & a. in the third quarter of fiscal year 2022, we completed our acquisition of nuance. nuance is included in all commercial',\n",
       "  '88 report of independent registered public accounting firm to the stockholders and the board of directors of microsoft corporation opinion on internal control over financial reporting we have audited the internal control over financial reporting of microsoft corporation and subsidiaries ( the “ company ” ) as of june 30, 2022, based on criteria established in internal control — integrated framework ( 2013 ) issued by the committee of sponsoring organizations of the treadway commission ( coso ). in our opinion, the company maintained, in all material respects, effective internal control over financial reporting as of june 30, 2022, based on criteria establis hed in internal control — integrated framework ( 2013 ) issued by coso. we have also audited, in accordance with the standards of the public company accounting oversight board ( united states ) ( pcaob ), the consolidated financial statements as of and for the year ended june 30, 2022, of the company and',\n",
       "  'we use metrics in assessing the performance of our business and to make informed decisions regarding the allocation of resources. we disclose metrics to enable investors to evaluate progress against our ambitions, provide transparency into performance trends, and reflect the continued evolution of our products and services. our commercial and other business metrics are fundamentally connected based on how customers use our products and',\n",
       "  'gross margin increased $ 19. 8 billion or 17 % driven by growth across each of our segments. • gross margin percentage decreased slightly. excluding the impact of the fiscal year 2021 change in accounting estimate for the useful lives of our server and network equipment, gross margin percentage increased 1 point driven by improvement in productivity and business processes. • microsoft cloud gross margin percentage decreased slightly to 70 %. excluding the impact of the change in accounting estimate, microsoft cloud gross margin percentage increased 3 points driven by improvement across our cloud services, offset in part by sales mix shift to azure and other cloud services. operating expenses increased $ 6. 3 billion or 14 % driven by investments in cloud engineering, linkedin, gaming, and commercial sales. key changes in operating expenses were : • research and development expenses increased $ 3. 8 billion or 18 % driven by investments in cloud',\n",
       "  '• operating expenses increased $ 1. 5 billion or 14 % driven by investments in gaming, search and news advertising, and windows marketing. operating expenses research and development ( in millions, except percentages ) 2022 2021 percentage change research and development $ 24, 512 $ 20, 716 18 % as a percent of revenue 12 % 12 % 0ppt research and development expenses include payroll, employee benefits, stock - based compensation expense, and other headcount - related expenses associated with product development. research and development expenses also include third - party development and programming costs, localization costs incurred to translate software for international markets, and the amortization of purchased software code and services content. research and development expenses increased $ 3. 8 billion or 18 % driven by investments in cloud engineering, gaming, and linkedin. sales and marketing',\n",
       "  'gaap financial results in evaluating business performance. these non - gaap financial measures presented should not be considered a substitute for, or superior to, the measures of financial performance prepared in accordance with gaap. the following table reconciles our financial results reported in accordance with gaap to non - gaap financial results : ( in millions, except percentages and per share amounts ) 2022 2021 percentage change net income $ 72, 738 $ 61, 271 19 % net income tax benefit related to transfer of intangible properties ( 3, 291 ) 0 * net income tax benefit related to india supreme court decision on withholding taxes 0 ( 620 ) * adjusted net income ( non - gaap ) $ 69, 447 $ 60, 651 15 % diluted earnings per share $ 9. 65 $ 8. 05 20 % net income tax benefit related to transfer of intangible properties ( 0. 44 ) 0 *'],\n",
       " ['78 dividends our board of directors declared the following dividends : declaration date record date payment date dividend per share amount fiscal year 2022 ( in millions ) september 14, 2021 november 18, 2021 december 9, 2021 $ 0. 62 $ 4, 652 december 7, 2021 february 17, 2022 march 10, 2022 0. 62 4, 645 march 14, 2022 may 19, 2022 june 9, 2022 0. 62 4, 632 june 14, 2022 august 18, 2022 september 8, 2022 0. 62 4, 627 total $ 2. 48 $ 18, 556 fiscal year 2021 september 15, 2020 november 19, 2020 december 10, 2020 $ 0. 56 $ 4, 230 december 2, 2020 february 18, 2021 march 11, 2021 0. 56 4, 221 march 16, 2021 may 20, 2021 june 10, 2021 0. 56 4, 214 june 16, 2021 august 19, 2021 september 9, 2021 0. 56 4, 206 total',\n",
       "  'the dividend declared on june 14, 2022 was included in other current liabilities as of june 30, 2022.',\n",
       "  'dividends per share ( quarterly amounts ) $ 0. 56 – 0. 62 $ 0. 51 – 0. 56 $ 0. 46 – 0. 51 interest rates 0. 03 % – 3. 6 % 0. 01 % – 1. 5 % 0. 1 % – 2. 2 %',\n",
       "  '9 dividends our board of directors declared the following dividends : declaration date record date payment date dividend per share amount fiscal year 2022 ( in millions ) september 14, 2021 november 18, 2021 december 9, 2021 $ 0. 62 $ 4, 652 december 7, 2021 february 17, 2022 march 10, 2022 0. 62 4, 645 march 14, 2022 may 19, 2022 june 9, 2022 0. 62 4, 632 june 14, 2022 august 18, 2022 september 8, 2022 0. 62 4, 627 total $ 2. 48 $ 18, 556 fiscal year 2021 september 15, 2020 november 19, 2020 december 10, 2020 $ 0. 56 $ 4, 230 december 2, 2020 february 18, 2021 march 11, 2021 0. 56 4, 221 march 16, 2021 may 20, 2021 june 10, 2021 0. 56 4, 214 june 16, 2021 august 19, 2021 september 9, 2021 0. 56 4, 206 total $ 2. 24 $ 16, 871',\n",
       "  'during fiscal years 2022 and 2021, we repurchased 95 million shares and 101 million shares of our common stock for $ 28. 0 billion and $ 23. 0 billion, respectively, through our share repurchase programs. all repurchases were made using cash resources. as of june 30, 2022, $ 40. 7 billion remained of our $ 60 billion share repurchase program. refer to note 16 – stockholders ’ equity of the notes to financial statements in our fiscal year 2022 form 10 - k for further discussion. dividends during fiscal year 2022, our board of directors declared quarterly dividends of $ 0. 62 per share. we intend to continue returning capital to shareholders in the form of dividends, subject to declaration by our board of directors. refer to note 16 – stockholders ’ equity of the notes to financial statements in our fiscal year 2022 form 10 - k for further discussion. other planned uses of capital',\n",
       "  'balance, beginning of period 1, 822 3, 186 ( 340 ) other comprehensive income ( loss ) ( 6, 500 ) ( 1, 374 ) 3, 526 cumulative effect of accounting changes 0 10 0 balance, end of period ( 4, 678 ) 1, 822 3, 186 total stockholders ’ equity $ 166, 542 $ 141, 988 $ 118, 304 cash dividends declared per common share $ 2. 48 $ 2. 24 $ 2. 04 refer to accompanying notes.',\n",
       "  '8 financial review issuer purchases of equity securities, dividends, and stock performance market and stockholders our common stock is traded on the nasdaq stock market under the symbol msft. on july 25, 2022, there were 86, 465 registered holders of record of our common stock. share repurchases and dividends share repurchases on september 20, 2016, our board of directors approved a share repurchase program authorizing up to $ 40. 0 billion in share repurchases. this share repurchase program commenced in december 2016 and was completed in february 2020. on september 18, 2019, our board of directors approved a share repurchase program authorizing up to $ 40. 0 billion in share repurchases. this share repurchase program commenced in february 2020 and was completed in november 2021. on september 14, 2021, our board of directors approved a share repurchase program authorizing up to $ 60. 0 billion in',\n",
       "  'date : tuesday, december 13, 2022 time : 8 : 30 a. m. pacific time virtual shareholder meeting : www. virtualshareholdermeeting. com / msft22 submit your question we invite you to submit any questions via the proxy voting site at www. proxyvote. com. we will include as many of your questions as possible during the q & a session of the meeting and will provide answers to questions on the microsoft investor relations website under the annual meeting page. registered shareholder services computershare, our transfer agent, can help you with a variety of shareholder related services including : • change of address • lost stock certificates • transfer of stock to another person • additional administrative services computershare also administers a direct stock purchase plan and a dividend reinvestment program for the company. contact computershare directly to find out more about these services and programs at 800 - 285 - 7772, option 1, or visit',\n",
       "  'and 2020, respectively. the fair value of stock awards vested was $ 14. 1 billion, $ 13. 4 billion, and $ 10. 1 billion, for fiscal years 2022, 2021, and 2020, respectively. as of june 30, 2022, an aggregate of 211 million shares were authorized for future grant under our stock plans. employee stock purchase plan we have an espp for all eligible employees. shares of our common stock may be purchased by employees at three - month intervals at 90 % of the fair market value on the last trading day of each three - month period. employees may purchase shares having a value not exceeding 15 % of their gross compensation during an offering period. under the terms of the espp that were approved in 2012, the plan was set to terminate on december 31, 2022. at our 2021 annual shareholders meeting, our shareholders approved a successor espp with a january 1, 2022 effective date and ten - year expiration of december 31, 2031. no additional shares were requested at this meeting.',\n",
       "  '$ 2. 24 $ 16, 871 the dividend declared on june 14, 2022 was included in other current liabilities as of june 30, 2022. note 17 — accumulated other comprehensive income ( loss ) the following table summarizes the changes in accumulated other comprehensive income ( loss ) by component : ( in millions ) year ended june 30, 2022 2021 2020 derivatives balance, beginning of period $ ( 19 ) $ ( 38 ) $ 0 unrealized gains ( losses ), net of tax of $ ( 15 ), $ 9, and $ ( 10 ) ( 57 ) 34 ( 38 ) reclassification adjustments for ( gains ) losses included in other income ( expense ), net 79 ( 17 ) 0 tax expense ( benefit ) included in provision for income taxes ( 16 ) 2 0 amounts reclassified from accumulated other comprehensive income ( loss ) 63 ( 15 ) 0 net change related to derivatives, net of tax of $ 1, $ 7, and $ ( 10 ) 6 19 ( 38 ) balance, end of period $ ( 13 ) $ ( 19 ) $ ( 38 )'],\n",
       " ['30 management ’ s discussion and analysis of financial condition and results of operations the following management ’ s discussion and analysis of financial condition and results of operations ( “ md & a ” ) is intended to help the reader understand the results of operations and financial condition of microsoft corporation. md & a is provided as a supplement to, and should be read in conjunction with, our consolidated financial statements and the accompanying notes to financial statements in our fiscal year 2022 form 10 - k. this section generally discusses the results of our operations for the year ended june 30, 2022 compared to the year ended june 30, 2021. for a discussion of the year ended june 30, 2021 compared to the year ended june 30, 2020, please refer to in our fiscal year 2022 form 10 - k, “ management ’ s discussion and analysis of financial condition and results of operations ” in our annual report on form 10 - k for the year ended june 30, 2021. overview',\n",
       "  'our future growth depends on our ability to transcend current product category definitions, business models, and sales motions. we have the opportunity to redefine what customers and partners can expect and are working to deliver new solutions that reflect the best of microsoft.',\n",
       "  '10 stock performance comparison of 5 year cumulative total return * among microsoft corporation, the s & p 500 index and the nasdaq computer index 6 / 17 6 / 18 6 / 19 6 / 20 6 / 21 6 / 22 microsoft corporation 100. 00 145. 84 201. 36 309. 69 416. 25 397. 90 s & p 500 100. 00 114. 37 126. 29 135. 77 191. 15 170. 86 nasdaq computer 100. 00 131. 27 139. 29 196. 40 288. 13 228. 71 * $ 100 invested on 6 / 30 / 17 in stock or index, including reinvestment of dividends. fiscal year ending june 30.',\n",
       "  '1 dear shareholders, colleagues, customers, and partners : we are living through a period of historic economic, societal, and geopolitical change. the world in 2022 looks nothing like the world in 2019. as i write this, inflation is at a 40 - year high, supply chains are stretched, and the war in ukraine is ongoing. at the same time, we are entering a technological era with the potential to power awesome advancements across every sector of our economy and society. as the world ’ s largest software company, this places us at a historic intersection of opportunity and responsibility to the world around us. our mission to empower every person and every organization on the planet to achieve more has never been more urgent or more necessary. for all the uncertainty in the world, one thing is clear : people and organizations in every industry are increasingly looking to digital technology to overcome today ’ s challenges and emerge stronger. and no',\n",
       "  '17 as of june 30, 2022, we employed approximately 221, 000 people on a full - time basis, 122, 000 in the u. s. and 99, 000 internationally. of the total employed people, 85, 000 were in operations, including manufacturing, distribution, product support, and consulting services ; 73, 000 were in product research and development ; 47, 000 were in sales and marketing ; and 16, 000 were in general and administration. certain employees are subject to collective bargaining agreements. our culture microsoft ’ s culture is grounded in the growth mindset. this means everyone is on a continuous journey to learn and grow. we believe potential can be nurtured and is not pre - determined, and we should always be learning and curious – trying new things without fear of failure. we identified four attributes that allow growth mindset to flourish : • obsessing over what matters to our customers. • becoming more diverse and inclusive in everything we do.',\n",
       "  'continue, ” “ will likely result, ” and similar expressions. forward - looking statements are based on current expectations and assumptions that are subject to risks and uncertainties that may cause actual results to differ materially. we describe risks and uncertainties that could cause actual results and events to differ materially in “ risk factors, ” “ management ’ s discussion and analysis of financial condition and results of operations, ” and “ quantitative and qualitative disclosures about market risk \" in our fiscal year 2022 form 10 - k. readers are cautioned not to place undue reliance on forward - looking statements, which speak only as of the date they are made. we undertake no obligation to update or revise publicly any forward - looking statements, whether because of new information, future events, or otherwise. business general embracing our future microsoft is a technology company whose mission is to empower every person and every organization on the planet to',\n",
       "  '32 services. the metrics are disclosed in the md & a or the notes to financial statements in our fiscal year 2022 form 10 - k. financial metrics are calculated based on financial results prepared in accordance with accounting principles generally accepted in the united states of america ( “ gaap ” ), and growth comparisons relate to the corresponding period of last fiscal year. in the first quarter of fiscal year 2022, we made updates to the presentation and method of calculation for certain metrics, most notably changes to incorporate all current and anticipated revenue streams within our office consumer and server products and cloud services metrics and changes to align with how we manage our windows oem and search and news advertising businesses. none of these changes had a material impact on previously reported amounts in our md & a. in the third quarter of fiscal year 2022, we completed our acquisition of nuance. nuance is included in all commercial',\n",
       "  '69 ( a ) includes intangible assets of $ 4. 4 billion related to nuance. see note 8 – business combinations for further information. ( b ) includes intangible assets of $ 2. 0 billion related to zenimax. see note 8 – business combinations for further information. no material impairments of intangible assets were identified during fiscal years 2022, 2021, or 2020. we estimate that we have no significant residual value related to our intangible assets. the components of intangible assets acquired during the periods presented were as follows : ( in millions ) amount weighted average life amount weighted average life year ended june 30, 2022 2021 technology - based $ 2, 611 4 years $ 1, 628 4 years customer - related 2, 837 9 years 96 4 years marketing - related 233 4 years 625 6 years contract - based 0 0 years 10 3 years total $ 5, 681 7 years $ 2, 359 5 years',\n",
       "  'have been possible without your commitment to the company and belief in its mission. the opportunity to apply technology to make a real difference for every customer, community, and country has never been greater. and i truly believe if we continue to live our mission, embrace our responsibility, and grasp that opportunity, there is no limit to what we can achieve for the world in the year ahead and beyond. satya nadella chairman and chief executive officer october 24, 2022',\n",
       "  'recognition, determining the nature and timing of satisfaction of performance obligations, and determining the standalone selling price ( “ ssp ” ) of performance obligations, variable consideration, and other obligations such as product returns and refunds ; loss contingencies ; product warranties ; the fair value of and / or potential impairment of goodwill and intangible assets for our reporting units ; product life cycles ; useful lives of our tangible and intangible assets ; allowances for doubt ful accounts ; the market value of, and demand for, our inventory ; stock - based compensation forfeiture rates ; when technological feasibility is achieved for our products ; the potential outcome of uncertain tax positions that have been recognized in our consolidated financial statements or tax returns ; and determining the timing and amount of impairments for investments. actual results and outcomes may differ from management ’ s estimates and assumptions due to risks and uncertainties.']]"
      ]
     },
     "execution_count": 8,
     "metadata": {},
     "output_type": "execute_result"
    }
   ],
   "source": [
    "retrieved_documents"
   ]
  },
  {
   "cell_type": "code",
   "execution_count": 9,
   "id": "f309c5df",
   "metadata": {},
   "outputs": [
    {
     "data": {
      "text/plain": [
       "['that are not sold separately. • we tested the mathematical accuracy of management ’ s calculations of revenue and the associated timing of revenue recognized in the financial statements.',\n",
       " 'revenue, classified by significant product and service offerings, was as follows : ( in millions ) year ended june 30, 2022 2021 2020 server products and cloud services $ 67, 321 $ 52, 589 $ 41, 379 office products and cloud services 44, 862 39, 872 35, 316 windows 24, 761 22, 488 21, 510 gaming 16, 230 15, 370 11, 575 linkedin 13, 816 10, 289 8, 077 search and news advertising 11, 591 9, 267 8, 524 enterprise services 7, 407 6, 943 6, 409 devices 6, 991 6, 791 6, 457 other 5, 291 4, 479 3, 768 total $ 198, 270 $ 168, 088 $ 143, 015 we have recast certain previously reported amounts in the table above to conform to the way we internally manage and monitor our business.',\n",
       " '32 services. the metrics are disclosed in the md & a or the notes to financial statements in our fiscal year 2022 form 10 - k. financial metrics are calculated based on financial results prepared in accordance with accounting principles generally accepted in the united states of america ( “ gaap ” ), and growth comparisons relate to the corresponding period of last fiscal year. in the first quarter of fiscal year 2022, we made updates to the presentation and method of calculation for certain metrics, most notably changes to incorporate all current and anticipated revenue streams within our office consumer and server products and cloud services metrics and changes to align with how we manage our windows oem and search and news advertising businesses. none of these changes had a material impact on previously reported amounts in our md & a. in the third quarter of fiscal year 2022, we completed our acquisition of nuance. nuance is included in all commercial',\n",
       " '37 general and administrative expenses include payroll, employee benefits, stock - based compensation expense, and other headcount - related expenses associated with finance, legal, facilities, certain human resources and other administrative personnel, certain taxes, and legal and other administrative fees. general and administrative expenses increased $ 793 million or 16 % driven by investments in corporate functions. other income ( expense ), net the components of other income ( expense ), net were as follows : ( in millions ) year ended june 30, 2022 2021 interest and dividends income $ 2, 094 $ 2, 131 interest expense ( 2, 063 ) ( 2, 346 ) net recognized gains on investments 461 1, 232 net gains ( losses ) on derivatives ( 52 ) 17 net gains ( losses ) on foreign currency remeasurements ( 75 ) 54 other, net ( 32 ) 98 total $ 333 $ 1, 186',\n",
       " 'company and with countries over 10 % of the total shown separately, were as follows : ( in millions ) june 30, 2022 2021 2020 united states $ 106, 430 $ 76, 153 $ 60, 789 ireland 15, 505 13, 303 12, 734 other countries 44, 433 38, 858 29, 770 total $ 166, 368 $ 128, 314 $ 103, 293',\n",
       " '82 in addition, certain costs incurred at a corporate level that are identifiable and that benefit our segments are allocated to them. these allocated costs include legal, including settlements and fines, information technology, human resources, finance, excise taxes, field selling, shared facilities services, and customer service and support. each allocation is measured differently based on the specific facts and circumstances of the costs being allocated. segment revenue and operating income were as follows during the periods presented : ( in millions ) year ended june 30, 2022 2021 2020 revenue productivity and business processes $ 63, 364 $ 53, 915 $ 46, 398 intelligent cloud 75, 251 60, 080 48, 366 more personal computing 59, 655 54, 093 48, 251 total $ 198, 270 $ 168, 088 $ 143, 015 operating income',\n",
       " '35 reportable segments fiscal year 2022 compared with fiscal year 2021 productivity and business processes revenue increased $ 9. 4 billion or 18 %. • office commercial products and cloud services revenue increased $ 4. 4 billion or 13 %. office 365 commercial revenue grew 18 % driven by seat growth of 14 %, with continued momentum in small and medium business and frontline worker offerings, as well as growth in revenue per user. office commercial products revenue declined 22 % driven by continued customer shift to cloud offerings. • office consumer products and cloud services revenue increased $ 641 million or 11 % driven by microsoft 365 consumer subscription revenue. microsoft 365 consumer subscribers grew 15 % to 59. 7 million. • linkedin revenue increased $ 3. 5 billion or 34 % driven by a strong job market in our talent solutions business and advertising demand in our marketing solutions business.',\n",
       " '83 our microsoft cloud ( formerly commercial cloud ) revenue, which includes azure and other cloud services, office 365 commercial, the commercial portion of linkedin, dynamics 365, and other commercial cloud properties, was $ 91. 2 billion, $ 69. 1 billion and $ 51. 7 billion in fiscal years 2022, 2021, and 2020, respectively. these amounts are primarily included in server products and cloud services, office products and cloud services, and linkedin in the table above. assets are not allocated to segments for internal reporting presentations. a portion of amortization and depreciation is included with various other costs in an overhead allocation to each segment. it is impracticable for us to separately identify the amount of amortization and depreciation by segment that is included in the measure of segment profit or loss. long - lived assets, excluding financial instruments and tax assets, classified by the location of the controlling statutory',\n",
       " '30 management ’ s discussion and analysis of financial condition and results of operations the following management ’ s discussion and analysis of financial condition and results of operations ( “ md & a ” ) is intended to help the reader understand the results of operations and financial condition of microsoft corporation. md & a is provided as a supplement to, and should be read in conjunction with, our consolidated financial statements and the accompanying notes to financial statements in our fiscal year 2022 form 10 - k. this section generally discusses the results of our operations for the year ended june 30, 2022 compared to the year ended june 30, 2021. for a discussion of the year ended june 30, 2021 compared to the year ended june 30, 2020, please refer to in our fiscal year 2022 form 10 - k, “ management ’ s discussion and analysis of financial condition and results of operations ” in our annual report on form 10 - k for the year ended june 30, 2021. overview',\n",
       " '( in millions, except percentages ) 2022 2021 percentage change sales and marketing $ 21, 825 $ 20, 117 8 % as a percent of revenue 11 % 12 % ( 1 ) ppt sales and marketing expenses include payroll, employee benefits, stock - based compensation expense, and other headcount - related expenses associated with sales and marketing personnel, and the costs of advertising, promotions, trade shows, seminars, and other programs. sales and marketing expenses increased $ 1. 7 billion or 8 % driven by investments in commercial sales and linkedin. sales and marketing included a favorable foreign currency impact of 2 %. general and administrative ( in millions, except percentages ) 2022 2021 percentage change general and administrative $ 5, 900 $ 5, 107 16 % as a percent of revenue 3 % 3 % 0ppt']"
      ]
     },
     "execution_count": 9,
     "metadata": {},
     "output_type": "execute_result"
    }
   ],
   "source": [
    "retrieved_documents[0]"
   ]
  },
  {
   "cell_type": "code",
   "execution_count": 10,
   "id": "e87cca37",
   "metadata": {},
   "outputs": [
    {
     "data": {
      "text/plain": [
       "15"
      ]
     },
     "execution_count": 10,
     "metadata": {},
     "output_type": "execute_result"
    }
   ],
   "source": [
    "len(retrieved_documents)"
   ]
  },
  {
   "cell_type": "code",
   "execution_count": 11,
   "id": "73a50eb9",
   "metadata": {},
   "outputs": [],
   "source": [
    "retrieved_emdeddings_test = results['embeddings']"
   ]
  },
  {
   "cell_type": "code",
   "execution_count": 12,
   "id": "920cedd8",
   "metadata": {},
   "outputs": [
    {
     "data": {
      "text/plain": [
       "15"
      ]
     },
     "execution_count": 12,
     "metadata": {},
     "output_type": "execute_result"
    }
   ],
   "source": [
    "len(retrieved_emdeddings_test)"
   ]
  },
  {
   "cell_type": "code",
   "execution_count": 13,
   "id": "ba0ed8ca-6640-4c09-9cb3-9de5e7cf46dc",
   "metadata": {
    "height": 421
   },
   "outputs": [],
   "source": [
    "def evaluate_results(query, statement, model=\"gpt-3.5-turbo\"):\n",
    "    messages = [\n",
    "    {\n",
    "        \"role\": \"system\",\n",
    "        \"content\": \"You are a helpful expert financial research assistant. You help users analyze financial statements to better understand companies. \"\n",
    "        \"For the given query, evaluate whether the following satement is relevant.\"\n",
    "        \"Output only 'yes' or 'no'.\"\n",
    "    },\n",
    "    {\n",
    "        \"role\": \"user\",\n",
    "        \"content\": f\"Query: {query}, Statement: {statement}\"\n",
    "    }\n",
    "    ]\n",
    "\n",
    "    response = openai_client.chat.completions.create(\n",
    "        model=model,\n",
    "        messages=messages,\n",
    "        max_tokens=1\n",
    "    )\n",
    "    content = response.choices[0].message.content\n",
    "    if content == \"yes\":\n",
    "        return 1\n",
    "    return -1"
   ]
  },
  {
   "cell_type": "code",
   "execution_count": 14,
   "id": "28bac3a2-0d29-48dc-9b48-2d9313239a25",
   "metadata": {
    "height": 47
   },
   "outputs": [],
   "source": [
    "retrieved_embeddings = results['embeddings']\n",
    "query_embeddings = embedding_function(generated_queries)"
   ]
  },
  {
   "cell_type": "code",
   "execution_count": 15,
   "id": "c17ebeae",
   "metadata": {},
   "outputs": [
    {
     "data": {
      "text/plain": [
       "15"
      ]
     },
     "execution_count": 15,
     "metadata": {},
     "output_type": "execute_result"
    }
   ],
   "source": [
    "len(query_embeddings)"
   ]
  },
  {
   "cell_type": "code",
   "execution_count": 16,
   "id": "db9f2758-0f5a-49e5-b1fa-517b91324575",
   "metadata": {
    "height": 64
   },
   "outputs": [],
   "source": [
    "adapter_query_embeddings = []\n",
    "adapter_doc_embeddings = []\n",
    "adapter_labels = []"
   ]
  },
  {
   "cell_type": "code",
   "execution_count": 25,
   "id": "aee59493-8a99-4da8-b94f-4747efcfc79d",
   "metadata": {
    "height": 98
   },
   "outputs": [
    {
     "name": "stderr",
     "output_type": "stream",
     "text": [
      "100%|██████████| 15/15 [01:41<00:00,  6.76s/it]\n"
     ]
    }
   ],
   "source": [
    "for q, query in enumerate(tqdm(generated_queries)):\n",
    "    for d, document in enumerate(retrieved_documents[q]):\n",
    "        adapter_query_embeddings.append(query_embeddings[q])\n",
    "        # print(query_embeddings[q])\n",
    "        adapter_doc_embeddings.append(retrieved_embeddings[q][d])\n",
    "        adapter_labels.append(evaluate_results(query, document))"
   ]
  },
  {
   "cell_type": "code",
   "execution_count": 22,
   "id": "8948fe7e",
   "metadata": {},
   "outputs": [
    {
     "data": {
      "text/plain": [
       "150"
      ]
     },
     "execution_count": 22,
     "metadata": {},
     "output_type": "execute_result"
    }
   ],
   "source": [
    "len(adapter_query_embeddings)"
   ]
  },
  {
   "cell_type": "code",
   "execution_count": 19,
   "id": "e9f58854",
   "metadata": {},
   "outputs": [
    {
     "data": {
      "text/plain": [
       "150"
      ]
     },
     "execution_count": 19,
     "metadata": {},
     "output_type": "execute_result"
    }
   ],
   "source": [
    "len(adapter_doc_embeddings)"
   ]
  },
  {
   "cell_type": "code",
   "execution_count": 20,
   "id": "c65337e9-85ee-47f7-89fd-7fe77cd0e1b2",
   "metadata": {
    "height": 30
   },
   "outputs": [
    {
     "data": {
      "text/plain": [
       "150"
      ]
     },
     "execution_count": 20,
     "metadata": {},
     "output_type": "execute_result"
    }
   ],
   "source": [
    "len(adapter_labels)"
   ]
  },
  {
   "cell_type": "code",
   "execution_count": 13,
   "id": "babe7893-9cbc-43c5-94ef-cbf8f5d68cf2",
   "metadata": {
    "height": 64
   },
   "outputs": [],
   "source": [
    "adapter_query_embeddings = torch.Tensor(np.array(adapter_query_embeddings))\n",
    "adapter_doc_embeddings = torch.Tensor(np.array(adapter_doc_embeddings))\n",
    "adapter_labels = torch.Tensor(np.expand_dims(np.array(adapter_labels),1))"
   ]
  },
  {
   "cell_type": "code",
   "execution_count": 14,
   "id": "60a9524b-1085-4bdf-a161-39f11397dc1f",
   "metadata": {
    "height": 47
   },
   "outputs": [],
   "source": [
    "dataset = torch.utils.data.TensorDataset(adapter_query_embeddings, adapter_doc_embeddings, adapter_labels)"
   ]
  },
  {
   "cell_type": "markdown",
   "id": "bdac56f2-b98c-46ab-9cc4-248b79177ef8",
   "metadata": {},
   "source": [
    "## Setting up the model"
   ]
  },
  {
   "cell_type": "code",
   "execution_count": 15,
   "id": "7b26a01a-4575-446b-b8dc-a8c5ab153172",
   "metadata": {
    "height": 81
   },
   "outputs": [],
   "source": [
    "def model(query_embedding, document_embedding, adaptor_matrix):\n",
    "    updated_query_embedding = torch.matmul(adaptor_matrix, query_embedding)\n",
    "    return torch.cosine_similarity(updated_query_embedding, document_embedding, dim=0)\n"
   ]
  },
  {
   "cell_type": "code",
   "execution_count": 16,
   "id": "0950575b-b69d-46a3-8c91-c7af89f5c204",
   "metadata": {
    "height": 47
   },
   "outputs": [],
   "source": [
    "def mse_loss(query_embedding, document_embedding, adaptor_matrix, label):\n",
    "    return torch.nn.MSELoss()(model(query_embedding, document_embedding, adaptor_matrix), label)"
   ]
  },
  {
   "cell_type": "code",
   "execution_count": 17,
   "id": "3f123ad8-b2e8-4a25-8b42-a520ecaf566b",
   "metadata": {
    "height": 64
   },
   "outputs": [],
   "source": [
    "# Initialize the adaptor matrix\n",
    "mat_size = len(adapter_query_embeddings[0])\n",
    "adapter_matrix = torch.randn(mat_size, mat_size, requires_grad=True)"
   ]
  },
  {
   "cell_type": "code",
   "execution_count": 18,
   "id": "83c04587-d1de-419c-a213-2e3eb67dc33d",
   "metadata": {
    "height": 285
   },
   "outputs": [
    {
     "name": "stderr",
     "output_type": "stream",
     "text": [
      "  0%|          | 0/100 [00:00<?, ?it/s]e:\\My Projects\\AI-ML\\NLP\\LLMs\\RAGs\\DeepLearning AI - Advanced Retrieval for AI with Chroma\\.venv\\lib\\site-packages\\torch\\nn\\modules\\loss.py:535: UserWarning: Using a target size (torch.Size([1])) that is different to the input size (torch.Size([])). This will likely lead to incorrect results due to broadcasting. Please ensure they have the same size.\n",
      "  return F.mse_loss(input, target, reduction=self.reduction)\n",
      "100%|██████████| 100/100 [00:05<00:00, 18.93it/s]\n"
     ]
    }
   ],
   "source": [
    "min_loss = float('inf')\n",
    "best_matrix = None\n",
    "\n",
    "for epoch in tqdm(range(100)):\n",
    "    for query_embedding, document_embedding, label in dataset:\n",
    "        loss = mse_loss(query_embedding, document_embedding, adapter_matrix, label)\n",
    "\n",
    "        if loss < min_loss:\n",
    "            min_loss = loss\n",
    "            best_matrix = adapter_matrix.clone().detach().numpy()\n",
    "\n",
    "        loss.backward()\n",
    "        with torch.no_grad():\n",
    "            adapter_matrix -= 0.01 * adapter_matrix.grad\n",
    "            adapter_matrix.grad.zero_()\n",
    "        "
   ]
  },
  {
   "cell_type": "code",
   "execution_count": 19,
   "id": "d3155972-824e-4ebe-a692-2227c113c5a8",
   "metadata": {
    "height": 30
   },
   "outputs": [
    {
     "name": "stdout",
     "output_type": "stream",
     "text": [
      "Best loss: 0.5493797063827515\n"
     ]
    }
   ],
   "source": [
    "print(f\"Best loss: {min_loss.detach().numpy()}\")"
   ]
  },
  {
   "cell_type": "code",
   "execution_count": 20,
   "id": "d8144a4a-85f6-4800-87f9-36a1b6ceda1f",
   "metadata": {
    "height": 47
   },
   "outputs": [],
   "source": [
    "test_vector = torch.ones((mat_size,1))\n",
    "scaled_vector = np.matmul(best_matrix, test_vector).numpy()"
   ]
  },
  {
   "cell_type": "code",
   "execution_count": 21,
   "id": "8ff0b18e-12a0-4ac0-97dd-8618b22e7dbf",
   "metadata": {
    "height": 81
   },
   "outputs": [
    {
     "ename": "ModuleNotFoundError",
     "evalue": "No module named 'matplotlib'",
     "output_type": "error",
     "traceback": [
      "\u001b[1;31m---------------------------------------------------------------------------\u001b[0m",
      "\u001b[1;31mModuleNotFoundError\u001b[0m                       Traceback (most recent call last)",
      "Cell \u001b[1;32mIn[21], line 1\u001b[0m\n\u001b[1;32m----> 1\u001b[0m \u001b[38;5;28;01mimport\u001b[39;00m \u001b[38;5;21;01mmatplotlib\u001b[39;00m\u001b[38;5;21;01m.\u001b[39;00m\u001b[38;5;21;01mpyplot\u001b[39;00m \u001b[38;5;28;01mas\u001b[39;00m \u001b[38;5;21;01mplt\u001b[39;00m\n\u001b[0;32m      2\u001b[0m plt\u001b[38;5;241m.\u001b[39mbar(\u001b[38;5;28mrange\u001b[39m(\u001b[38;5;28mlen\u001b[39m(scaled_vector)), scaled_vector\u001b[38;5;241m.\u001b[39mflatten())\n\u001b[0;32m      3\u001b[0m plt\u001b[38;5;241m.\u001b[39mshow()\n",
      "\u001b[1;31mModuleNotFoundError\u001b[0m: No module named 'matplotlib'"
     ]
    }
   ],
   "source": [
    "import matplotlib.pyplot as plt\n",
    "plt.bar(range(len(scaled_vector)), scaled_vector.flatten())\n",
    "plt.show()\n"
   ]
  },
  {
   "cell_type": "code",
   "execution_count": null,
   "id": "03ca7e7c-4b47-4652-9b46-a40b3dffa5e6",
   "metadata": {
    "height": 115
   },
   "outputs": [],
   "source": [
    "query_embeddings = embedding_function(generated_queries)\n",
    "adapted_query_embeddings = np.matmul(best_matrix, np.array(query_embeddings).T).T\n",
    "\n",
    "projected_query_embeddings = project_embeddings(query_embeddings, umap_transform)\n",
    "projected_adapted_query_embeddings = project_embeddings(adapted_query_embeddings, umap_transform)"
   ]
  },
  {
   "cell_type": "code",
   "execution_count": null,
   "id": "f74e7d67-7f51-41c4-8e25-edbaa02d0bd8",
   "metadata": {
    "height": 200
   },
   "outputs": [],
   "source": [
    "# Plot the projected query and retrieved documents in the embedding space\n",
    "plt.figure()\n",
    "plt.scatter(projected_dataset_embeddings[:, 0], projected_dataset_embeddings[:, 1], s=10, color='gray')\n",
    "plt.scatter(projected_query_embeddings[:, 0], projected_query_embeddings[:, 1], s=150, marker='X', color='r', label=\"original\")\n",
    "plt.scatter(projected_adapted_query_embeddings[:, 0], projected_adapted_query_embeddings[:, 1], s=150, marker='X', color='green', label=\"adapted\")\n",
    "\n",
    "plt.gca().set_aspect('equal', 'datalim')\n",
    "plt.title(\"Adapted Queries\")\n",
    "plt.axis('off')\n",
    "plt.legend()"
   ]
  },
  {
   "cell_type": "code",
   "execution_count": null,
   "id": "9188e886-d406-406f-b234-f5c3353a77a2",
   "metadata": {
    "height": 30
   },
   "outputs": [],
   "source": []
  },
  {
   "cell_type": "code",
   "execution_count": null,
   "id": "3d3bb286-2694-4ed4-8466-46865e997ced",
   "metadata": {
    "height": 30
   },
   "outputs": [],
   "source": []
  },
  {
   "cell_type": "code",
   "execution_count": null,
   "id": "2876084b-4038-4b0c-8ec8-8294a86adfc1",
   "metadata": {
    "height": 30
   },
   "outputs": [],
   "source": []
  },
  {
   "cell_type": "code",
   "execution_count": null,
   "id": "3ac542e1-b094-431f-9611-cf7e36d3f0de",
   "metadata": {
    "height": 30
   },
   "outputs": [],
   "source": []
  },
  {
   "cell_type": "code",
   "execution_count": null,
   "id": "bcd6114b-c09d-4173-a623-9a08aaf63e4b",
   "metadata": {
    "height": 30
   },
   "outputs": [],
   "source": []
  },
  {
   "cell_type": "code",
   "execution_count": null,
   "id": "ad10ab65-b351-4f4b-b7d2-63474acfb9f9",
   "metadata": {
    "height": 30
   },
   "outputs": [],
   "source": []
  },
  {
   "cell_type": "code",
   "execution_count": null,
   "id": "800f3d81-cbdb-4ba4-8d49-85747fdfded8",
   "metadata": {
    "height": 30
   },
   "outputs": [],
   "source": []
  },
  {
   "cell_type": "code",
   "execution_count": null,
   "id": "37847448-c9f6-4f51-bf06-f7809964a8b2",
   "metadata": {
    "height": 30
   },
   "outputs": [],
   "source": []
  },
  {
   "cell_type": "code",
   "execution_count": null,
   "id": "2dcefc87-0964-4b94-946b-2145781ad606",
   "metadata": {
    "height": 30
   },
   "outputs": [],
   "source": []
  },
  {
   "cell_type": "code",
   "execution_count": null,
   "id": "5fc994bc-7b1e-476a-9df9-300a3e374882",
   "metadata": {
    "height": 30
   },
   "outputs": [],
   "source": []
  },
  {
   "cell_type": "code",
   "execution_count": null,
   "id": "9ef5f5d5-acb7-4b0a-93ef-e61306708e69",
   "metadata": {
    "height": 30
   },
   "outputs": [],
   "source": []
  },
  {
   "cell_type": "code",
   "execution_count": null,
   "id": "44e4b33f-d8fb-4f3a-b884-8b43a3766583",
   "metadata": {
    "height": 30
   },
   "outputs": [],
   "source": []
  },
  {
   "cell_type": "code",
   "execution_count": null,
   "id": "c2a480a2-2c29-4a01-80dd-ee41934b7901",
   "metadata": {
    "height": 30
   },
   "outputs": [],
   "source": []
  },
  {
   "cell_type": "code",
   "execution_count": null,
   "id": "8127c2bf-0d15-4b62-b46a-f7a17ad2ec92",
   "metadata": {
    "height": 30
   },
   "outputs": [],
   "source": []
  },
  {
   "cell_type": "code",
   "execution_count": null,
   "id": "18ded129-a637-4269-a116-550fe9a90570",
   "metadata": {
    "height": 30
   },
   "outputs": [],
   "source": []
  },
  {
   "cell_type": "code",
   "execution_count": null,
   "id": "c1d7ee44-7b29-483f-a3f2-cc9d8e18880e",
   "metadata": {
    "height": 30
   },
   "outputs": [],
   "source": []
  },
  {
   "cell_type": "code",
   "execution_count": null,
   "id": "8e450dd8-9719-42c6-8c3c-33cac910e0a5",
   "metadata": {
    "height": 30
   },
   "outputs": [],
   "source": []
  }
 ],
 "metadata": {
  "kernelspec": {
   "display_name": ".venv",
   "language": "python",
   "name": "python3"
  },
  "language_info": {
   "codemirror_mode": {
    "name": "ipython",
    "version": 3
   },
   "file_extension": ".py",
   "mimetype": "text/x-python",
   "name": "python",
   "nbconvert_exporter": "python",
   "pygments_lexer": "ipython3",
   "version": "3.10.0"
  }
 },
 "nbformat": 4,
 "nbformat_minor": 5
}
