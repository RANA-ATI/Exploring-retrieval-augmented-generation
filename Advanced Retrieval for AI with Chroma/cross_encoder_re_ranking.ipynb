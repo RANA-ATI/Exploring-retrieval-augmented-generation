{
 "cells": [
  {
   "cell_type": "markdown",
   "id": "f057401b-a4ee-462a-9ba9-3e342e06eb1a",
   "metadata": {},
   "source": [
    "## Lab 4 - Cross-encoder re-ranking"
   ]
  },
  {
   "cell_type": "code",
   "execution_count": 4,
   "id": "5a5536f0-651c-40e7-aa15-27ee0cda80b7",
   "metadata": {},
   "outputs": [],
   "source": [
    "# from helper_utils import load_chroma, word_wrap, project_embeddings\n",
    "from chromadb.utils.embedding_functions import SentenceTransformerEmbeddingFunction\n",
    "import numpy as np\n",
    "import chromadb\n",
    "import tqdm\n",
    "import numpy as np\n",
    "from openai import OpenAI\n",
    "from pypdf import PdfReader\n",
    "from langchain.text_splitter import RecursiveCharacterTextSplitter, SentenceTransformersTokenTextSplitter\n",
    "from chromadb.utils.embedding_functions import SentenceTransformerEmbeddingFunction"
   ]
  },
  {
   "cell_type": "code",
   "execution_count": 5,
   "id": "735544da",
   "metadata": {},
   "outputs": [
    {
     "name": "stdout",
     "output_type": "stream",
     "text": [
      "1 Dear shareholders, colleagues, customers, and partners:  \n",
      "We are living through a period of historic economic, societal, and geopolitical change. The world in 2022 looks nothing like \n",
      "the world in 2019. As I write this, inflation is at a 40 -year high, supply chains are stretched, and the war in Ukraine is \n",
      "ongoing. At the same time, we are entering a technological era with the potential to power awesome advancements \n",
      "across every sector of our economy and society. As the world’s largest software company, this places us at a historic \n",
      "intersection of opportunity and responsibility to the world around us.  \n",
      "Our mission to empower every person and every organization on the planet to achieve more has never been more \n",
      "urgent or more necessary. For all the uncertainty in the world, one thing is clear: People and organizations in every \n",
      "industry are increasingly looking to digital technology to overcome today’s challenges and emerge stronger. And no \n",
      "company is better positioned to help them than Microsoft.  \n",
      "Every day this past fiscal year I have had the privilege to witness our customers use our platforms and tools to connect \n",
      "what technology can do with what the world needs  it to do.  \n",
      "Here are just a few examples:  \n",
      "• Ferrovial, which builds and manages some of the world’s busiest airports and highways, is using our cloud \n",
      "infrastructure to build safer roads as it prepares for a future of autonomous transportation.  \n",
      "• Peace Parks Foundation, a nonprofit helping protect natural ecosystems in Southern Africa, is using Microsoft \n",
      "Dynamics 365 and Power BI to secure essential funding, as well as our Azure AI and IoT solutions to help \n",
      "rangers scale their park maintenance and wildlife crime prevention work.  \n",
      "• One of the world’s largest robotics companies, Kawasaki Heavy Industries, is using the breadth of our tools —\n",
      "from Azure IoT and HoloLens —to create an industrial metaverse solution that brings its distributed workforce \n",
      "together with its network of connected equipment to improve productivity and keep employees safe.  \n",
      "• Globo, the biggest media and TV company in Brazil, is using Power Platform to empower its employees to \n",
      "build their own solutions for everything from booking sets to setting schedules.  \n",
      "• And Ørsted, which produces a quarter of the world’s wind energy, is using the Microsoft Intelligent Data \n",
      "Platform to turn data from its offshore turbines into insights for predictive maintenance.  \n",
      "Amid this dynamic environment, we delivered record results in fiscal year 2022: We reported $198  billion in revenue and \n",
      "$83 billion in operating income. And the Microsoft Cloud surpassed $100  billion in annualized revenue for the first time.  \n",
      "OUR RESPONSIBILITY  \n",
      "As a corporation, our purpose and actions must be aligned with addressing the world’s problems, not creating new ones. \n",
      "At our very core, we need to deliver innovation that helps drive broad economic growth. We, as a company, will do well \n",
      "when the world around us does well.  \n",
      "That’s what I believe will lead to widespread human progress and ultimately improve the lives of everyone. There is no \n",
      "more powerful input than digital technology to drive the world’s economic output. This is the core thesis for our being as a \n",
      "company, but it’s not enough. As we drive global economic growth, we must also commit to creating a more inclusive, \n",
      "equitable, sustainable, and trusted future.  \n",
      "Support inclusive economic growth  \n",
      "We must ensure the growth we drive reaches every person, organization, community, and country. This starts with \n",
      "increasing access to digital skills. This year alone, more than 23  million people accessed digital skills training as part of \n",
      "our global skills initiative.\n"
     ]
    }
   ],
   "source": [
    "reader = PdfReader(\"documents/microsoft_annual_report_2022.pdf\")\n",
    "pdf_texts = [p.extract_text().strip() for p in reader.pages]\n",
    "\n",
    "# Filter the empty strings\n",
    "pdf_texts = [text for text in pdf_texts if text]\n",
    "\n",
    "print(pdf_texts[0])"
   ]
  },
  {
   "cell_type": "code",
   "execution_count": 9,
   "id": "9fd5d7e7",
   "metadata": {},
   "outputs": [
    {
     "name": "stdout",
     "output_type": "stream",
     "text": [
      "increased, due in large part to significant global datacenter expansions and the growth in Xbox sales and usage. Despite \n",
      "these increases, we remain dedicated to achieving a net -zero future. We recognize that progress won’t always be linear, \n",
      "and the rate at which we can implement emissions reductions is dependent on many factors that can fluctuate over time.  \n",
      "On the path to becoming water positive, we invested in 21 water replenishment projects that are expected to generate \n",
      "over 1.3  million cubic meters of volumetric benefits in nine water basins around the world. Progress toward our zero waste \n",
      "commitment included diverting more than 15,200 metric tons of solid waste otherwise headed to landfills and incinerators, \n",
      "as well as launching new Circular Centers to increase reuse and reduce e -waste at our datacenters.  \n",
      "We contracted to protect over 17,000 acres of land (50% more than the land we use to operate), thus achieving our\n",
      "\n",
      "Total chunks: 347\n",
      "increased, due in large part to significant global datacenter expansions and the growth in xbox sales and usage. despite these increases, we remain dedicated to achieving a net - zero future. we recognize that progress won ’ t always be linear, and the rate at which we can implement emissions reductions is dependent on many factors that can fluctuate over time. on the path to becoming water positive, we invested in 21 water replenishment projects that are expected to generate over 1. 3 million cubic meters of volumetric benefits in nine water basins around the world. progress toward our zero waste commitment included diverting more than 15, 200 metric tons of solid waste otherwise headed to landfills and incinerators, as well as launching new circular centers to increase reuse and reduce e - waste at our datacenters. we contracted to protect over 17, 000 acres of land ( 50 % more than the land we use to operate ), thus achieving our\n",
      "\n",
      "Total chunks: 349\n",
      "[[0.04256269335746765, 0.03321182727813721, 0.030340097844600677, -0.0348665826022625, 0.0684165209531784, -0.08090908825397491, -0.015474393032491207, -0.0014509347965940833, -0.016744492575526237, 0.06770770251750946, -0.05054137855768204, -0.04919535666704178, 0.051399923861026764, 0.09192728996276855, -0.07177837193012238, 0.03951966390013695, -0.0128335477784276, -0.024947475641965866, -0.046228647232055664, -0.024357525631785393, 0.03394964709877968, 0.025502456352114677, 0.027317140251398087, -0.004126211628317833, -0.03633834421634674, 0.0036909214686602354, -0.027430448681116104, 0.004796730820089579, -0.02889624424278736, -0.01887071132659912, 0.03666630759835243, 0.02569584548473358, 0.03131285309791565, -0.06393438577651978, 0.05394403636455536, 0.08225348591804504, -0.04175686463713646, -0.00699579156935215, -0.023486029356718063, -0.030747944489121437, -0.002979236887767911, -0.07790941745042801, 0.009353121742606163, 0.003162869019433856, -0.02225707657635212, -0.01829465851187706, -0.009612462483346462, -0.031506869941949844, -0.00551964296028018, -0.032703034579753876, 0.1680298000574112, -0.047459665685892105, -0.0500168539583683, -0.0026596481911838055, -0.04104721546173096, -0.07003943622112274, 0.01829594373703003, -0.031431104987859726, -0.04741119220852852, -0.023663660511374474, 0.059449490159749985, -0.07201439887285233, 0.0049452101811766624, -0.05532695725560188, 0.08745481073856354, 0.027872664853930473, -0.03977254778146744, 0.03452993556857109, -0.09992030262947083, 0.03289758041501045, -0.05780424177646637, 0.0024546324275434017, -0.027892297133803368, -0.04994707927107811, -0.04058247059583664, 0.01191753800958395, 0.02041906863451004, 0.07765398919582367, 0.06351622194051743, 0.017546875402331352, 0.023460961878299713, -0.007916600443422794, 0.0170742217451334, 0.008641219697892666, -0.06815341114997864, 0.03429611399769783, 0.0006464780308306217, 0.022735420614480972, 0.05279361456632614, -0.05857321619987488, -0.0978410392999649, -0.0014718389138579369, 0.13739889860153198, 0.002079431200399995, -0.07581517100334167, 0.05786572024226189, -0.06069640815258026, -0.06595751643180847, -0.03365057334303856, -0.03185927867889404, 0.012266603298485279, 0.09373302757740021, 0.06799507886171341, -0.08434035629034042, 0.0440247505903244, -0.04263874888420105, 0.011163052171468735, 0.105052150785923, 0.02950585074722767, -0.018521122634410858, -0.029688283801078796, -0.03377026692032814, 0.0014967122115194798, 0.03732369840145111, -0.02024972066283226, 0.05842079967260361, -0.03979164734482765, -0.02121969871222973, 0.006418125703930855, -0.01029015053063631, 0.019626131281256676, 0.00367968762293458, -0.05031091347336769, -0.016897087916731834, 0.04854493960738182, 0.0668230801820755, 0.01953633688390255, 2.7227499940226547e-33, -0.035934124141931534, 0.015661854296922684, 0.09677654504776001, -0.0002851778408512473, -0.009768509306013584, -0.09068477898836136, 0.014486271888017654, 0.012590725906193256, 0.02543586865067482, -0.03443487361073494, 0.004262956324964762, 0.027121400460600853, -0.02040998451411724, 0.07688490301370621, 0.03572098910808563, -0.13492530584335327, 0.056578513234853745, 0.018364548683166504, 0.022577866911888123, -0.035890307277441025, -0.011456687934696674, -0.049938272684812546, -0.016012368723750114, -0.06335370242595673, 0.10463959723711014, -0.08801605552434921, -0.004462303128093481, -0.010301056317985058, -0.01763075217604637, -0.02029227651655674, 0.006704200059175491, 0.09172345697879791, -0.007795069366693497, 0.005949424579739571, -0.015348869375884533, 0.018279563635587692, -0.01892153173685074, 0.03987528383731842, -0.003967351745814085, 0.03341923654079437, -0.0560772567987442, 0.07581257820129395, -0.005625505931675434, -0.0544552318751812, 0.06698442250490189, -0.025974372401833534, 0.11199558526277542, -0.03642139956355095, 0.005012595094740391, 0.0320100300014019, 0.049636900424957275, 0.09711594134569168, -0.11546943336725235, 0.06413274258375168, -0.033978793770074844, -0.0929156169295311, 0.04975483566522598, -0.08613421022891998, -0.008366399444639683, -0.013703785836696625, -0.07882803678512573, 0.01965435966849327, -0.03715045750141144, 0.014476168900728226, -0.049403123557567596, 0.053492411971092224, 0.09139013290405273, 0.031002862378954887, 0.03028763271868229, 0.021342827007174492, -0.043937720358371735, -0.04297442361712456, -0.0022650547325611115, -0.02194410003721714, 0.00547462422400713, -0.010243919678032398, 0.02167796716094017, -0.02732367068529129, -0.0007882514619268477, 0.033089153468608856, -0.007402385119348764, 0.009829992428421974, 0.013544087298214436, -0.032744839787483215, 0.05601908639073372, -0.0601164884865284, 0.031122008338570595, 0.034422438591718674, 0.026550522074103355, -0.006807941477745771, -0.01105420757085085, -0.014439910650253296, 0.022785359993577003, -0.02795197255909443, -0.016208965331315994, -3.689252285857286e-33, 0.02920370176434517, 0.04670488461852074, -0.04964415356516838, 0.06324490904808044, 0.028438014909625053, -0.022357167676091194, 0.03347984328866005, -0.01847871206700802, 0.018780121579766273, 0.0024116714484989643, -0.0816783756017685, 0.10084164142608643, 0.04902315512299538, 0.03646732121706009, -0.04556039720773697, -0.0704919621348381, 0.025340432301163673, -0.03267942741513252, -0.04296497628092766, -0.07251020520925522, 0.04130711406469345, 0.05049721524119377, 0.006477163638919592, -0.003325012279674411, -0.08235663920640945, 0.0800771564245224, -0.034653931856155396, 0.008470484986901283, 0.041389476507902145, -0.01014767587184906, -0.10289657860994339, 0.04567129164934158, 0.012796030379831791, -0.06017763912677765, -0.02662781998515129, -0.09725233167409897, 0.015798602253198624, 0.07219130545854568, -0.01532586757093668, 0.001807108405046165, 0.060395341366529465, -0.07077641785144806, -0.02127874828875065, -0.03851625695824623, -0.05741113796830177, -0.00425383634865284, 0.03280765563249588, -0.017595628276467323, 0.04975762963294983, -0.0073790219612419605, -0.008354579098522663, 0.043137867003679276, -0.054291583597660065, 0.04316212609410286, 0.023688580840826035, 0.018171600997447968, 0.09282209724187851, -0.004222929943352938, -0.022514579817652702, 0.019288254901766777, -0.036844320595264435, 0.10015194118022919, 0.01776476763188839, 0.022849541157484055, -0.039676863700151443, 0.0016808658838272095, 0.05066922307014465, 0.085649274289608, -0.0264135655015707, -0.03266860172152519, -0.03694961220026016, -0.020994076505303383, 0.017766105011105537, -0.07413069158792496, -0.024688145145773888, -0.03994891047477722, -0.024768000468611717, -0.024194087833166122, -0.010816438123583794, 0.010816010646522045, -0.030551740899682045, 0.10519367456436157, -0.008021782152354717, -0.03289628028869629, 0.14804388582706451, -0.0709429457783699, -0.050219133496284485, -0.15231887996196747, 0.022767428308725357, 0.13845959305763245, -0.0792330875992775, -0.04160100221633911, -0.09371672570705414, 0.06601830571889877, 0.04352036118507385, -4.9979703931057884e-08, -0.010548077523708344, 0.06008026748895645, 0.028823470696806908, 0.07072245329618454, 0.03157537057995796, -0.05913800746202469, 0.05488332733511925, 0.16316650807857513, 0.034759484231472015, 0.02787543460726738, 0.07126773148775101, -0.006946359761059284, -0.05290434509515762, 0.011619016528129578, -0.0268350001424551, 0.028954321518540382, 0.04344693198800087, -0.07012004405260086, -0.058793991804122925, -0.03921937569975853, -0.017293937504291534, -0.030054470524191856, -0.08112527430057526, -0.0450621098279953, 0.05249616503715515, -0.049235694110393524, 0.08052125573158264, 0.06585512310266495, -0.0006081059109419584, -0.04566408693790436, 0.03058701381087303, -0.00638605235144496, -0.03175574913620949, 0.008228817023336887, 0.010760973207652569, 0.0010412655537948012, 0.01907874085009098, 0.03227989003062248, -0.014408702962100506, 0.03579794988036156, -0.07228187471628189, 0.03363294526934624, 0.006663573905825615, -0.018206225708127022, -0.02043626457452774, -0.0026353616267442703, -0.185477152466774, 0.012449338100850582, 0.02973133511841297, -0.03854846954345703, -0.009753347374498844, -0.013694346882402897, 0.009183360263705254, 0.08488918840885162, 0.1272187978029251, 0.05545997992157936, -0.04936163127422333, -0.011912016198039055, -0.056979257613420486, 0.1042008027434349, 0.05718066170811653, -0.10395050048828125, -0.023767851293087006, -0.027168991044163704]]\n",
      "349\n"
     ]
    }
   ],
   "source": [
    "# Split the text using RecursiveCharacterTextSplitter\n",
    "character_splitter = RecursiveCharacterTextSplitter(\n",
    "    separators=[\"\\n\\n\", \"\\n\", \". \", \" \", \"\"],\n",
    "    chunk_size=1000,\n",
    "    chunk_overlap=0\n",
    ")\n",
    "character_split_texts = character_splitter.split_text('\\n\\n'.join(pdf_texts))\n",
    "\n",
    "print(character_split_texts[10])\n",
    "print(f\"\\nTotal chunks: {len(character_split_texts)}\")\n",
    "\n",
    "# Resplit the chunks using SentenceTransformersTokenTextSplitter\n",
    "token_splitter = SentenceTransformersTokenTextSplitter(chunk_overlap=0, tokens_per_chunk=256)\n",
    "token_split_texts = []\n",
    "for text in character_split_texts:\n",
    "    token_split_texts += token_splitter.split_text(text)\n",
    "\n",
    "print(token_split_texts[10])\n",
    "print(f\"\\nTotal chunks: {len(token_split_texts)}\")\n",
    "\n",
    "# Embedding function\n",
    "embedding_function = SentenceTransformerEmbeddingFunction()\n",
    "print(embedding_function([token_split_texts[10]]))\n",
    "\n",
    "# Create Chroma client and collection\n",
    "chroma_client = chromadb.Client()\n",
    "chroma_collection = chroma_client.create_collection(\"microsoft_annual_report_2022_cross_encoder1\", embedding_function=embedding_function)\n",
    "\n",
    "# Prepare IDs\n",
    "ids = [str(i) for i in range(len(token_split_texts))]\n",
    "\n",
    "# Split data into batches\n",
    "batch_size = 166  # Chosen to be under the maximum allowed batch size\n",
    "for i in range(0, len(token_split_texts), batch_size):\n",
    "    batch_ids = ids[i:i + batch_size]\n",
    "    batch_texts = token_split_texts[i:i + batch_size]\n",
    "    chroma_collection.add(ids=batch_ids, documents=batch_texts)\n",
    "\n",
    "# Verify the number of documents in the collection\n",
    "print(chroma_collection.count())"
   ]
  },
  {
   "cell_type": "markdown",
   "id": "68486bf8-37dd-4257-a23b-9ef50c47bcc5",
   "metadata": {},
   "source": [
    "# Re-ranking the long tail"
   ]
  },
  {
   "cell_type": "code",
   "execution_count": 10,
   "id": "888a86f8-2fe2-4682-bdaf-c15129ed1a32",
   "metadata": {},
   "outputs": [],
   "source": [
    "query = \"What has been the investment in research and development?\"\n",
    "results = chroma_collection.query(query_texts=query, n_results=10, include=['documents', 'embeddings'])\n",
    "\n",
    "retrieved_documents = results['documents'][0]"
   ]
  },
  {
   "cell_type": "code",
   "execution_count": 11,
   "id": "5665c695-22ea-4264-b1ac-5ba720b6d78b",
   "metadata": {},
   "outputs": [
    {
     "name": "stderr",
     "output_type": "stream",
     "text": [
      "config.json: 100%|██████████| 794/794 [00:00<?, ?B/s] \n",
      "e:\\My Projects\\AI-ML\\NLP\\LLMs\\RAGs\\DeepLearning AI - Advanced Retrieval for AI with Chroma\\.venv\\lib\\site-packages\\huggingface_hub\\file_download.py:149: UserWarning: `huggingface_hub` cache-system uses symlinks by default to efficiently store duplicated files but your machine does not support them in C:\\Users\\Administrator\\.cache\\huggingface\\hub\\models--cross-encoder--ms-marco-MiniLM-L-6-v2. Caching files will still work but in a degraded version that might require more space on your disk. This warning can be disabled by setting the `HF_HUB_DISABLE_SYMLINKS_WARNING` environment variable. For more details, see https://huggingface.co/docs/huggingface_hub/how-to-cache#limitations.\n",
      "To support symlinks on Windows, you either need to activate Developer Mode or to run Python as an administrator. In order to see activate developer mode, see this article: https://docs.microsoft.com/en-us/windows/apps/get-started/enable-your-device-for-development\n",
      "  warnings.warn(message)\n",
      "pytorch_model.bin: 100%|██████████| 90.9M/90.9M [00:31<00:00, 2.86MB/s]\n",
      "tokenizer_config.json: 100%|██████████| 316/316 [00:00<?, ?B/s] \n",
      "vocab.txt: 100%|██████████| 232k/232k [00:00<00:00, 1.08MB/s]\n",
      "special_tokens_map.json: 100%|██████████| 112/112 [00:00<?, ?B/s] \n"
     ]
    }
   ],
   "source": [
    "from sentence_transformers import CrossEncoder\n",
    "cross_encoder = CrossEncoder('cross-encoder/ms-marco-MiniLM-L-6-v2')"
   ]
  },
  {
   "cell_type": "code",
   "execution_count": 12,
   "id": "c2a13d14-4484-46f0-8e67-277337f9d138",
   "metadata": {},
   "outputs": [
    {
     "name": "stdout",
     "output_type": "stream",
     "text": [
      "Scores:\n",
      "0.9869337\n",
      "2.644577\n",
      "-0.2680306\n",
      "-5.6469984\n",
      "-4.297035\n",
      "-10.933233\n",
      "-8.666395\n",
      "-7.0384293\n",
      "-7.3246956\n",
      "-4.639378\n"
     ]
    }
   ],
   "source": [
    "pairs = [[query, doc] for doc in retrieved_documents]\n",
    "scores = cross_encoder.predict(pairs)\n",
    "print(\"Scores:\")\n",
    "for score in scores:\n",
    "    print(score)"
   ]
  },
  {
   "cell_type": "code",
   "execution_count": 13,
   "id": "8ba6c8c5-9ce4-44d0-9223-6fdd77871f87",
   "metadata": {},
   "outputs": [
    {
     "name": "stdout",
     "output_type": "stream",
     "text": [
      "New Ordering:\n",
      "2\n",
      "1\n",
      "3\n",
      "5\n",
      "10\n",
      "4\n",
      "8\n",
      "9\n",
      "7\n",
      "6\n"
     ]
    }
   ],
   "source": [
    "print(\"New Ordering:\")\n",
    "for o in np.argsort(scores)[::-1]:\n",
    "    print(o+1)"
   ]
  },
  {
   "cell_type": "markdown",
   "id": "9f54cc00-eebc-4294-91bf-1a2cdce51708",
   "metadata": {},
   "source": [
    "# Re-ranking with Query Expansion"
   ]
  },
  {
   "cell_type": "code",
   "execution_count": 14,
   "id": "377a84aa-1d93-4e97-9b2d-d59c46355338",
   "metadata": {},
   "outputs": [],
   "source": [
    "original_query = \"What were the most important factors that contributed to increases in revenue?\"\n",
    "generated_queries = [\n",
    "    \"What were the major drivers of revenue growth?\",\n",
    "    \"Were there any new product launches that contributed to the increase in revenue?\",\n",
    "    \"Did any changes in pricing or promotions impact the revenue growth?\",\n",
    "    \"What were the key market trends that facilitated the increase in revenue?\",\n",
    "    \"Did any acquisitions or partnerships contribute to the revenue growth?\"\n",
    "]"
   ]
  },
  {
   "cell_type": "code",
   "execution_count": 15,
   "id": "ba0ed8ca-6640-4c09-9cb3-9de5e7cf46dc",
   "metadata": {},
   "outputs": [],
   "source": [
    "queries = [original_query] + generated_queries\n",
    "\n",
    "results = chroma_collection.query(query_texts=queries, n_results=10, include=['documents', 'embeddings'])\n",
    "retrieved_documents = results['documents']"
   ]
  },
  {
   "cell_type": "code",
   "execution_count": 16,
   "id": "28bac3a2-0d29-48dc-9b48-2d9313239a25",
   "metadata": {},
   "outputs": [],
   "source": [
    "# Deduplicate the retrieved documents\n",
    "unique_documents = set()\n",
    "for documents in retrieved_documents:\n",
    "    for document in documents:\n",
    "        unique_documents.add(document)\n",
    "\n",
    "unique_documents = list(unique_documents)"
   ]
  },
  {
   "cell_type": "code",
   "execution_count": 17,
   "id": "db9f2758-0f5a-49e5-b1fa-517b91324575",
   "metadata": {},
   "outputs": [],
   "source": [
    "pairs = []\n",
    "for doc in unique_documents:\n",
    "    pairs.append([original_query, doc])"
   ]
  },
  {
   "cell_type": "code",
   "execution_count": 18,
   "id": "aee59493-8a99-4da8-b94f-4747efcfc79d",
   "metadata": {},
   "outputs": [],
   "source": [
    "scores = cross_encoder.predict(pairs)\n"
   ]
  },
  {
   "cell_type": "code",
   "execution_count": 19,
   "id": "f5eda9bc-ae76-4db6-9e0c-ae099d852d78",
   "metadata": {},
   "outputs": [
    {
     "name": "stdout",
     "output_type": "stream",
     "text": [
      "Scores:\n",
      "-4.6518927\n",
      "-6.9020905\n",
      "-7.490654\n",
      "-3.7948647\n",
      "-4.3417673\n",
      "-9.80788\n",
      "-11.0792675\n",
      "-4.818485\n",
      "-10.000139\n",
      "-9.357723\n",
      "-5.274749\n",
      "-7.9171767\n",
      "-8.505106\n",
      "-7.754099\n",
      "-10.0839405\n",
      "-10.711212\n",
      "-1.1369958\n",
      "-9.918428\n",
      "-3.7681546\n",
      "-10.148884\n",
      "-10.042842\n"
     ]
    }
   ],
   "source": [
    "print(\"Scores:\")\n",
    "for score in scores:\n",
    "    print(score)"
   ]
  },
  {
   "cell_type": "code",
   "execution_count": 20,
   "id": "b1183e75-4c65-422e-bc47-48010d8b29c9",
   "metadata": {},
   "outputs": [
    {
     "name": "stdout",
     "output_type": "stream",
     "text": [
      "New Ordering:\n",
      "16\n",
      "18\n",
      "3\n",
      "4\n",
      "0\n",
      "7\n",
      "10\n",
      "1\n",
      "2\n",
      "13\n",
      "11\n",
      "12\n",
      "9\n",
      "5\n",
      "17\n",
      "8\n",
      "20\n",
      "14\n",
      "19\n",
      "15\n",
      "6\n"
     ]
    }
   ],
   "source": [
    "print(\"New Ordering:\")\n",
    "for o in np.argsort(scores)[::-1]:\n",
    "    print(o)"
   ]
  }
 ],
 "metadata": {
  "kernelspec": {
   "display_name": "Python 3 (ipykernel)",
   "language": "python",
   "name": "python3"
  },
  "language_info": {
   "codemirror_mode": {
    "name": "ipython",
    "version": 3
   },
   "file_extension": ".py",
   "mimetype": "text/x-python",
   "name": "python",
   "nbconvert_exporter": "python",
   "pygments_lexer": "ipython3",
   "version": "3.10.0"
  }
 },
 "nbformat": 4,
 "nbformat_minor": 5
}
